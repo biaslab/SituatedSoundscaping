{
 "cells": [
  {
   "cell_type": "code",
   "execution_count": 1,
   "metadata": {},
   "outputs": [
    {
     "name": "stdout",
     "output_type": "stream",
     "text": [
      "\u001b[32m\u001b[1mActivating\u001b[22m\u001b[39m environment at `C:\\Users\\s151781\\AppData\\Local\\Julia-1.3.1\\GN\\Project.toml`\n"
     ]
    },
    {
     "data": {
      "text/plain": [
       "fft_expand (generic function with 1 method)"
      ]
     },
     "execution_count": 1,
     "metadata": {},
     "output_type": "execute_result"
    }
   ],
   "source": [
    "import Pkg; Pkg.activate(\"C:/Users/s151781/AppData/Local/Julia-1.3.1/GN/Project.toml\")\n",
    "using Revise\n",
    "using Distributions\n",
    "using PyPlot\n",
    "using FFTW\n",
    "using Compat\n",
    "using WAV\n",
    "using DSP\n",
    "using Base64\n",
    "using ForneyLab\n",
    "using LinearAlgebra\n",
    "using ProgressMeter\n",
    "\n",
    "include(\"../functions/auxiliary/audioplayer.jl\")\n",
    "include(\"../functions/auxiliary/workflow.jl\")\n",
    "include(\"../functions/auxiliary/fourier.jl\")\n",
    "include(\"../functions/auxiliary/visualization.jl\")\n",
    "include(\"../functions/auxiliary/buffer.jl\")\n",
    "include(\"../functions/preprocessing.jl\")"
   ]
  },
  {
   "cell_type": "code",
   "execution_count": 2,
   "metadata": {},
   "outputs": [],
   "source": [
    "mutable struct AutoregressiveFilterbank <: ForneyLab.SoftFactor\n",
    "    id::Symbol\n",
    "    interfaces::Vector{Interface}\n",
    "    i::Dict{Symbol,Interface}\n",
    "\n",
    "    function AutoregressiveFilterbank(y, x, θ, w; id=ForneyLab.generateId(AutoregressiveFilterbank))\n",
    "        \n",
    "        # ensure that the input arguments are random variables\n",
    "        @ensureVariables(y, x, θ, w) \n",
    "        \n",
    "        # create new object\n",
    "        self = new(id, Array{Interface}(undef, 4), Dict{Symbol,Interface}())\n",
    "        \n",
    "        # add the node to the current factor graph\n",
    "        ForneyLab.addNode!(currentGraph(), self)\n",
    "        \n",
    "        # add argument variables to interfaces of node\n",
    "        self.i[:y] = self.interfaces[1] = ForneyLab.associate!(Interface(self), y)\n",
    "        self.i[:x] = self.interfaces[2] = ForneyLab.associate!(Interface(self), x)\n",
    "        self.i[:θ] = self.interfaces[3] = ForneyLab.associate!(Interface(self), θ)\n",
    "        self.i[:w] = self.interfaces[4] = ForneyLab.associate!(Interface(self), w)\n",
    "        \n",
    "        # return object\n",
    "        return self\n",
    "    end\n",
    "end"
   ]
  },
  {
   "cell_type": "code",
   "execution_count": 3,
   "metadata": {},
   "outputs": [
    {
     "data": {
      "text/plain": [
       "slug (generic function with 1 method)"
      ]
     },
     "execution_count": 3,
     "metadata": {},
     "output_type": "execute_result"
    }
   ],
   "source": [
    "# add shortcut for calling the filter bank\n",
    "slug(::Type{AutoregressiveFilterbank}) = \"ARFB\""
   ]
  },
  {
   "cell_type": "code",
   "execution_count": 4,
   "metadata": {},
   "outputs": [
    {
     "data": {
      "text/plain": [
       "ruleVariationalARFBOutNPPP (generic function with 1 method)"
      ]
     },
     "execution_count": 4,
     "metadata": {},
     "output_type": "execute_result"
    }
   ],
   "source": [
    "function ruleVariationalARFBOutNPPP(marg_y::Nothing, \n",
    "                                    marg_x::ProbabilityDistribution{ForneyLab.Multivariate}, \n",
    "                                    marg_θ::ProbabilityDistribution{ForneyLab.Multivariate}, \n",
    "                                    marg_w::ProbabilityDistribution{ForneyLab.MatrixVariate})\n",
    "\n",
    "    # calculate required means\n",
    "    mθ = ForneyLab.unsafeMean(marg_θ)\n",
    "    mx = ForneyLab.unsafeMean(marg_x)\n",
    "    mw = ForneyLab.unsafeMean(marg_w)\n",
    "                        \n",
    "    # calculate new parameters\n",
    "    my = mθ .* mx\n",
    "    wy = mw\n",
    "\n",
    "    # create variational message\n",
    "    return Message(ForneyLab.Multivariate, GaussianWeightedMeanPrecision, xi=wy*my, w=wy)\n",
    "\n",
    "end"
   ]
  },
  {
   "cell_type": "code",
   "execution_count": 5,
   "metadata": {},
   "outputs": [
    {
     "data": {
      "text/plain": [
       "ruleVariationalARFBIn1PNPP (generic function with 1 method)"
      ]
     },
     "execution_count": 5,
     "metadata": {},
     "output_type": "execute_result"
    }
   ],
   "source": [
    "function ruleVariationalARFBIn1PNPP(marg_y::ProbabilityDistribution{ForneyLab.Multivariate}, \n",
    "                                    marg_x::Nothing, \n",
    "                                    marg_θ::ProbabilityDistribution{ForneyLab.Multivariate}, \n",
    "                                    marg_w::ProbabilityDistribution{ForneyLab.MatrixVariate})\n",
    "    \n",
    "    # caluclate required means\n",
    "    my = ForneyLab.unsafeMean(marg_y)\n",
    "    mθ = ForneyLab.unsafeMean(marg_θ)\n",
    "    mw = ForneyLab.unsafeMean(marg_w)\n",
    "\n",
    "    # calculate required variances\n",
    "    vθ = ForneyLab.unsafeCov(marg_θ)\n",
    "\n",
    "    # calculate new parameters\n",
    "    wx = (vθ' + mθ*mθ') .* mw\n",
    "    mx = inv(wx) * Diagonal(mθ) * mw * my\n",
    "\n",
    "    # create variational message\n",
    "    return Message(ForneyLab.Multivariate, GaussianWeightedMeanPrecision, xi=wx*mx, w=wx)\n",
    "\n",
    "end"
   ]
  },
  {
   "cell_type": "code",
   "execution_count": 6,
   "metadata": {},
   "outputs": [
    {
     "data": {
      "text/plain": [
       "ruleVariationalARFBIn2PPNP (generic function with 1 method)"
      ]
     },
     "execution_count": 6,
     "metadata": {},
     "output_type": "execute_result"
    }
   ],
   "source": [
    "function ruleVariationalARFBIn2PPNP(marg_y::ProbabilityDistribution{ForneyLab.Multivariate}, \n",
    "                                    marg_x::ProbabilityDistribution{ForneyLab.Multivariate}, \n",
    "                                    marg_θ::Nothing, \n",
    "                                    marg_w::ProbabilityDistribution{ForneyLab.MatrixVariate})\n",
    "\n",
    "    # calculate required means\n",
    "    my = ForneyLab.unsafeMean(marg_y)\n",
    "    mx = ForneyLab.unsafeMean(marg_x)\n",
    "    mw = ForneyLab.unsafeMean(marg_w)\n",
    "\n",
    "    # calculate required variances\n",
    "    vx = ForneyLab.unsafeCov(marg_x)\n",
    "\n",
    "    # calculate new parameters\n",
    "    wθ = (vx' + mx*mx') .* mw\n",
    "    mθ = inv(wθ) * Diagonal(mx) * mw * my\n",
    "\n",
    "    # create variational message\n",
    "    Message(ForneyLab.Multivariate, GaussianWeightedMeanPrecision, xi=wθ*mθ, w=wθ)\n",
    "\n",
    "end"
   ]
  },
  {
   "cell_type": "code",
   "execution_count": 7,
   "metadata": {},
   "outputs": [
    {
     "data": {
      "text/plain": [
       "ruleVariationalARFBIn3PPPN (generic function with 1 method)"
      ]
     },
     "execution_count": 7,
     "metadata": {},
     "output_type": "execute_result"
    }
   ],
   "source": [
    "function ruleVariationalARFBIn3PPPN(marg_y::ProbabilityDistribution{ForneyLab.Multivariate}, \n",
    "                                    marg_x::ProbabilityDistribution{ForneyLab.Multivariate}, \n",
    "                                    marg_θ::ProbabilityDistribution{ForneyLab.Multivariate}, \n",
    "                                    marg_w::Nothing)\n",
    "\n",
    "    # calculate required means\n",
    "    my = ForneyLab.unsafeMean(marg_y)\n",
    "    mx = ForneyLab.unsafeMean(marg_x)\n",
    "    mθ = ForneyLab.unsafeMean(marg_θ)\n",
    "\n",
    "    # calculate required variances\n",
    "    vy = ForneyLab.unsafeCov(marg_y)\n",
    "    vx = ForneyLab.unsafeCov(marg_x)\n",
    "    vθ = ForneyLab.unsafeCov(marg_θ)\n",
    "\n",
    "    # calculate new parameters\n",
    "    v = vy + my*my' - (mθ .* mx)*my' - my*(mx .* mθ)' + Diagonal(mθ)*vx*Diagonal(mθ) + Diagonal(mx)*vθ*Diagonal(mx)  + (mθ .* mx)*(mθ .* mx)' + vθ.*vx\n",
    "    nu = size(v,1) + 2 \n",
    "\n",
    "    # create variational message\n",
    "    Message(ForneyLab.MatrixVariate, ForneyLab.Wishart, v=inv(v), nu=nu)\n",
    "\n",
    "end"
   ]
  },
  {
   "cell_type": "code",
   "execution_count": 8,
   "metadata": {},
   "outputs": [],
   "source": [
    "@naiveVariationalRule(:node_type     => AutoregressiveFilterbank,\n",
    "                      :outbound_type => Message{GaussianWeightedMeanPrecision},\n",
    "                      :inbound_types => (Nothing, ProbabilityDistribution, ProbabilityDistribution, ProbabilityDistribution),\n",
    "                      :name          => VariationalARFBOutNPPP)\n",
    "\n",
    "@naiveVariationalRule(:node_type     => AutoregressiveFilterbank,\n",
    "                      :outbound_type => Message{GaussianWeightedMeanPrecision},\n",
    "                      :inbound_types => (ProbabilityDistribution, Nothing, ProbabilityDistribution, ProbabilityDistribution),\n",
    "                      :name          => VariationalARFBIn1PNPP)\n",
    "\n",
    "@naiveVariationalRule(:node_type     => AutoregressiveFilterbank,\n",
    "                      :outbound_type => Message{GaussianWeightedMeanPrecision},\n",
    "                      :inbound_types => (ProbabilityDistribution, ProbabilityDistribution, Nothing, ProbabilityDistribution),\n",
    "                      :name          => VariationalARFBIn2PPNP)\n",
    "\n",
    "@naiveVariationalRule(:node_type     => AutoregressiveFilterbank,\n",
    "                      :outbound_type => Message{ForneyLab.Wishart},\n",
    "                      :inbound_types => (ProbabilityDistribution, ProbabilityDistribution, ProbabilityDistribution, Nothing),\n",
    "                      :name          => VariationalARFBIn3PPPN)\n"
   ]
  },
  {
   "cell_type": "code",
   "execution_count": 9,
   "metadata": {},
   "outputs": [
    {
     "data": {
      "text/plain": [
       "generateARFB (generic function with 1 method)"
      ]
     },
     "execution_count": 9,
     "metadata": {},
     "output_type": "execute_result"
    }
   ],
   "source": [
    "function generateARFB(nr_γ, bufsize)\n",
    "    \n",
    "    model = quote\n",
    "        \n",
    "        fg = FactorGraph()\n",
    "        \n",
    "        @RV [id=:smin] smin ~ GaussianMeanVariance(placeholder(:μ_smin, dims=(2*$nr_γ,)), placeholder(:Σ_smin, dims=(2*$nr_γ,2*$nr_γ)))\n",
    "        @RV [id=:θ] θ ~ GaussianMeanVariance(placeholder(:μ_θ, dims=(2*$nr_γ,)), placeholder(:Σ_θ, dims=(2*$nr_γ,2*$nr_γ)))\n",
    "        @RV [id=:w] w ~ ForneyLab.Wishart(placeholder(:v_w, dims=(2*$nr_γ,2*$nr_γ)), placeholder(:nu_w))\n",
    "        @RV [id=:s] s ~ AutoregressiveFilterbank(smin, θ, w)\n",
    "        @RV [id=:x] x = placeholder(:c, dims=($bufsize,2*$nr_γ)) * s\n",
    "        @RV [id=:y] y ~ GaussianMeanVariance(x, placeholder(:Σ_x, dims=($bufsize,$bufsize)))\n",
    "        placeholder(y, :y, dims=($bufsize,))\n",
    "        \n",
    "        q = PosteriorFactorization(smin, s, θ, w, ids=[:smin, :s, :θ, :w])\n",
    "\n",
    "    end\n",
    "    \n",
    "end"
   ]
  },
  {
   "cell_type": "code",
   "execution_count": 10,
   "metadata": {},
   "outputs": [
    {
     "data": {
      "text/html": [
       "<div><audio controls=\"controls\" {autoplay}>\n",
       "<source src=\"data:audio/wav;base64,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\" type=\"audio/wav\" />\n",
       "Your browser does not support the audio element.\n",
       "</audio></div>"
      ]
     },
     "metadata": {},
     "output_type": "display_data"
    }
   ],
   "source": [
    "# load speech data\n",
    "xi, fs = wavread(\"../data/airco.wav\", format=\"native\")\n",
    "fs = Int(fs)\n",
    "xi = convert(Array{Float64,1}, xi[1*fs:4*fs])\n",
    "\n",
    "# pre-process signals\n",
    "yi = preprocess(xi, fs) \n",
    "\n",
    "N = length(yi)\n",
    "t = collect(1:N)/8000\n",
    "fs = 8000\n",
    "\n",
    "audioplayers(yi, fs=8000);"
   ]
  },
  {
   "cell_type": "code",
   "execution_count": 11,
   "metadata": {},
   "outputs": [
    {
     "data": {
      "text/html": [
       "<?xml version=\"1.0\" encoding=\"UTF-8\" standalone=\"no\"?>\r\n",
       "<!DOCTYPE svg PUBLIC \"-//W3C//DTD SVG 1.1//EN\"\r\n",
       " \"http://www.w3.org/Graphics/SVG/1.1/DTD/svg11.dtd\">\r\n",
       "<!-- Generated by graphviz version 2.38.0 (20140413.2041)\r\n",
       " -->\r\n",
       "<!-- Title: G Pages: 1 -->\r\n",
       "<svg width=\"1077pt\" height=\"629pt\"\r\n",
       " viewBox=\"0.00 0.00 1076.50 629.00\" xmlns=\"http://www.w3.org/2000/svg\" xmlns:xlink=\"http://www.w3.org/1999/xlink\">\r\n",
       "<g id=\"graph0\" class=\"graph\" transform=\"scale(1 1) rotate(0) translate(4 625)\">\r\n",
       "<title>G</title>\r\n",
       "<polygon fill=\"white\" stroke=\"none\" points=\"-4,4 -4,-625 1072.5,-625 1072.5,4 -4,4\"/>\r\n",
       "<!-- 9884144599890546077 -->\r\n",
       "<g id=\"node1\" class=\"node\"><title>9884144599890546077</title>\r\n",
       "<polygon fill=\"lightgrey\" stroke=\"black\" points=\"89,-54 0,-54 0,-0 89,-0 89,-54\"/>\r\n",
       "<text text-anchor=\"middle\" x=\"44.5\" y=\"-24.8\" font-family=\"Times New Roman,serif\" font-size=\"9.00\">placeholder_μ_smin</text>\r\n",
       "</g>\r\n",
       "<!-- 16622331949113227128 -->\r\n",
       "<g id=\"node2\" class=\"node\"><title>16622331949113227128</title>\r\n",
       "<polygon fill=\"none\" stroke=\"black\" points=\"849.5,-522 745.5,-522 745.5,-450 849.5,-450 849.5,-522\"/>\r\n",
       "<text text-anchor=\"middle\" x=\"797.5\" y=\"-488.8\" font-family=\"Times New Roman,serif\" font-size=\"9.00\">𝒩</text>\r\n",
       "<text text-anchor=\"middle\" x=\"797.5\" y=\"-478.8\" font-family=\"Times New Roman,serif\" font-size=\"9.00\">gaussianmeanvariance_3</text>\r\n",
       "</g>\r\n",
       "<!-- 11066002478169448787 -->\r\n",
       "<g id=\"node7\" class=\"node\"><title>11066002478169448787</title>\r\n",
       "<polygon fill=\"none\" stroke=\"black\" points=\"707.5,-405 631.5,-405 631.5,-333 707.5,-333 707.5,-405\"/>\r\n",
       "<text text-anchor=\"middle\" x=\"669.5\" y=\"-371.8\" font-family=\"Times New Roman,serif\" font-size=\"9.00\">×</text>\r\n",
       "<text text-anchor=\"middle\" x=\"669.5\" y=\"-361.8\" font-family=\"Times New Roman,serif\" font-size=\"9.00\">multiplication_1</text>\r\n",
       "</g>\r\n",
       "<!-- 16622331949113227128&#45;&#45;11066002478169448787 -->\r\n",
       "<g id=\"edge14\" class=\"edge\"><title>16622331949113227128&#45;&#45;11066002478169448787</title>\r\n",
       "<path fill=\"none\" stroke=\"black\" d=\"M758.4,-449.871C742.373,-435.472 723.877,-418.854 707.92,-404.518\"/>\r\n",
       "<text text-anchor=\"start\" x=\"737.5\" y=\"-425.6\" font-family=\"Times New Roman,serif\" font-size=\"8.00\" fill=\"red\">x</text>\r\n",
       "<text text-anchor=\"start\" x=\"707.92\" y=\"-407.118\" font-family=\"Times New Roman,serif\" font-size=\"8.00\">1 out </text>\r\n",
       "<text text-anchor=\"start\" x=\"742.4\" y=\"-443.471\" font-family=\"Times New Roman,serif\" font-size=\"8.00\">2 m </text>\r\n",
       "</g>\r\n",
       "<!-- 670542932905532978 -->\r\n",
       "<g id=\"node12\" class=\"node\"><title>670542932905532978</title>\r\n",
       "<polygon fill=\"lightgrey\" stroke=\"black\" points=\"898.5,-396 822.5,-396 822.5,-342 898.5,-342 898.5,-396\"/>\r\n",
       "<text text-anchor=\"middle\" x=\"860.5\" y=\"-366.8\" font-family=\"Times New Roman,serif\" font-size=\"9.00\">placeholder_Σ_x</text>\r\n",
       "</g>\r\n",
       "<!-- 16622331949113227128&#45;&#45;670542932905532978 -->\r\n",
       "<g id=\"edge10\" class=\"edge\"><title>16622331949113227128&#45;&#45;670542932905532978</title>\r\n",
       "<path fill=\"none\" stroke=\"black\" d=\"M816.744,-449.871C826.225,-432.565 837.461,-412.056 846.172,-396.154\"/>\r\n",
       "<text text-anchor=\"start\" x=\"831.5\" y=\"-425.6\" font-family=\"Times New Roman,serif\" font-size=\"8.00\" fill=\"red\">Σ_x</text>\r\n",
       "<text text-anchor=\"start\" x=\"825.172\" y=\"-398.754\" font-family=\"Times New Roman,serif\" font-size=\"8.00\">1 out </text>\r\n",
       "<text text-anchor=\"start\" x=\"802.744\" y=\"-443.471\" font-family=\"Times New Roman,serif\" font-size=\"8.00\">3 v </text>\r\n",
       "</g>\r\n",
       "<!-- 6522462058742309562 -->\r\n",
       "<g id=\"node3\" class=\"node\"><title>6522462058742309562</title>\r\n",
       "<polygon fill=\"none\" stroke=\"black\" points=\"300.5,-171 196.5,-171 196.5,-99 300.5,-99 300.5,-171\"/>\r\n",
       "<text text-anchor=\"middle\" x=\"248.5\" y=\"-137.8\" font-family=\"Times New Roman,serif\" font-size=\"9.00\">𝒩</text>\r\n",
       "<text text-anchor=\"middle\" x=\"248.5\" y=\"-127.8\" font-family=\"Times New Roman,serif\" font-size=\"9.00\">gaussianmeanvariance_1</text>\r\n",
       "</g>\r\n",
       "<!-- 6522462058742309562&#45;&#45;9884144599890546077 -->\r\n",
       "<g id=\"edge1\" class=\"edge\"><title>6522462058742309562&#45;&#45;9884144599890546077</title>\r\n",
       "<path fill=\"none\" stroke=\"black\" d=\"M196.494,-106.977C163.323,-89.7414 120.78,-67.6356 89.1436,-51.1971\"/>\r\n",
       "<text text-anchor=\"start\" x=\"146.5\" y=\"-74.6\" font-family=\"Times New Roman,serif\" font-size=\"8.00\" fill=\"red\">μ_smin</text>\r\n",
       "<text text-anchor=\"start\" x=\"89.1436\" y=\"-53.7971\" font-family=\"Times New Roman,serif\" font-size=\"8.00\">1 out </text>\r\n",
       "<text text-anchor=\"start\" x=\"180.494\" y=\"-109.577\" font-family=\"Times New Roman,serif\" font-size=\"8.00\">2 m </text>\r\n",
       "</g>\r\n",
       "<!-- 16819069450899356337 -->\r\n",
       "<g id=\"node15\" class=\"node\"><title>16819069450899356337</title>\r\n",
       "<polygon fill=\"lightgrey\" stroke=\"black\" points=\"293,-54 204,-54 204,-0 293,-0 293,-54\"/>\r\n",
       "<text text-anchor=\"middle\" x=\"248.5\" y=\"-24.8\" font-family=\"Times New Roman,serif\" font-size=\"9.00\">placeholder_Σ_smin</text>\r\n",
       "</g>\r\n",
       "<!-- 6522462058742309562&#45;&#45;16819069450899356337 -->\r\n",
       "<g id=\"edge5\" class=\"edge\"><title>6522462058742309562&#45;&#45;16819069450899356337</title>\r\n",
       "<path fill=\"none\" stroke=\"black\" d=\"M248.5,-98.9979C248.5,-84.4044 248.5,-67.7451 248.5,-54.2331\"/>\r\n",
       "<text text-anchor=\"start\" x=\"248.5\" y=\"-74.6\" font-family=\"Times New Roman,serif\" font-size=\"8.00\" fill=\"red\">Σ_smin</text>\r\n",
       "<text text-anchor=\"start\" x=\"227.5\" y=\"-56.8331\" font-family=\"Times New Roman,serif\" font-size=\"8.00\">1 out </text>\r\n",
       "<text text-anchor=\"start\" x=\"234.5\" y=\"-92.5979\" font-family=\"Times New Roman,serif\" font-size=\"8.00\">3 v </text>\r\n",
       "</g>\r\n",
       "<!-- 11771721477036300091 -->\r\n",
       "<g id=\"node4\" class=\"node\"><title>11771721477036300091</title>\r\n",
       "<polygon fill=\"none\" stroke=\"black\" points=\"579.5,-171 475.5,-171 475.5,-99 579.5,-99 579.5,-171\"/>\r\n",
       "<text text-anchor=\"middle\" x=\"527.5\" y=\"-137.8\" font-family=\"Times New Roman,serif\" font-size=\"9.00\">𝒩</text>\r\n",
       "<text text-anchor=\"middle\" x=\"527.5\" y=\"-127.8\" font-family=\"Times New Roman,serif\" font-size=\"9.00\">gaussianmeanvariance_2</text>\r\n",
       "</g>\r\n",
       "<!-- 14152952403375255605 -->\r\n",
       "<g id=\"node5\" class=\"node\"><title>14152952403375255605</title>\r\n",
       "<polygon fill=\"lightgrey\" stroke=\"black\" points=\"485,-54 408,-54 408,-0 485,-0 485,-54\"/>\r\n",
       "<text text-anchor=\"middle\" x=\"446.5\" y=\"-24.8\" font-family=\"Times New Roman,serif\" font-size=\"9.00\">placeholder_Σ_θ</text>\r\n",
       "</g>\r\n",
       "<!-- 11771721477036300091&#45;&#45;14152952403375255605 -->\r\n",
       "<g id=\"edge13\" class=\"edge\"><title>11771721477036300091&#45;&#45;14152952403375255605</title>\r\n",
       "<path fill=\"none\" stroke=\"black\" d=\"M495.912,-98.8983C490.957,-93.0281 485.993,-86.9201 481.5,-81 475.034,-72.4801 468.443,-62.8075 462.75,-54.0789\"/>\r\n",
       "<text text-anchor=\"start\" x=\"481.5\" y=\"-74.6\" font-family=\"Times New Roman,serif\" font-size=\"8.00\" fill=\"red\">Σ_θ</text>\r\n",
       "<text text-anchor=\"start\" x=\"441.75\" y=\"-56.6789\" font-family=\"Times New Roman,serif\" font-size=\"8.00\">1 out </text>\r\n",
       "<text text-anchor=\"start\" x=\"481.912\" y=\"-92.4983\" font-family=\"Times New Roman,serif\" font-size=\"8.00\">3 v </text>\r\n",
       "</g>\r\n",
       "<!-- 11152986636997730573 -->\r\n",
       "<g id=\"node6\" class=\"node\"><title>11152986636997730573</title>\r\n",
       "<polygon fill=\"lightgrey\" stroke=\"black\" points=\"676.5,-54 600.5,-54 600.5,-0 676.5,-0 676.5,-54\"/>\r\n",
       "<text text-anchor=\"middle\" x=\"638.5\" y=\"-24.8\" font-family=\"Times New Roman,serif\" font-size=\"9.00\">placeholder_μ_θ</text>\r\n",
       "</g>\r\n",
       "<!-- 11771721477036300091&#45;&#45;11152986636997730573 -->\r\n",
       "<g id=\"edge2\" class=\"edge\"><title>11771721477036300091&#45;&#45;11152986636997730573</title>\r\n",
       "<path fill=\"none\" stroke=\"black\" d=\"M564.153,-98.9979C579.435,-84.4044 596.88,-67.7451 611.029,-54.2331\"/>\r\n",
       "<text text-anchor=\"start\" x=\"590.5\" y=\"-74.6\" font-family=\"Times New Roman,serif\" font-size=\"8.00\" fill=\"red\">μ_θ</text>\r\n",
       "<text text-anchor=\"start\" x=\"590.029\" y=\"-56.8331\" font-family=\"Times New Roman,serif\" font-size=\"8.00\">1 out </text>\r\n",
       "<text text-anchor=\"start\" x=\"548.153\" y=\"-92.5979\" font-family=\"Times New Roman,serif\" font-size=\"8.00\">2 m </text>\r\n",
       "</g>\r\n",
       "<!-- 4358008342605659604 -->\r\n",
       "<g id=\"node9\" class=\"node\"><title>4358008342605659604</title>\r\n",
       "<polygon fill=\"none\" stroke=\"black\" points=\"583,-288 472,-288 472,-216 583,-216 583,-288\"/>\r\n",
       "<text text-anchor=\"middle\" x=\"527.5\" y=\"-254.8\" font-family=\"Times New Roman,serif\" font-size=\"9.00\">AutoregressiveFilterbank</text>\r\n",
       "<text text-anchor=\"middle\" x=\"527.5\" y=\"-244.8\" font-family=\"Times New Roman,serif\" font-size=\"9.00\">autoregressivefilterbank_1</text>\r\n",
       "</g>\r\n",
       "<!-- 11066002478169448787&#45;&#45;4358008342605659604 -->\r\n",
       "<g id=\"edge4\" class=\"edge\"><title>11066002478169448787&#45;&#45;4358008342605659604</title>\r\n",
       "<path fill=\"none\" stroke=\"black\" d=\"M631.447,-337.182C612.798,-322.079 590.253,-303.821 570.932,-288.174\"/>\r\n",
       "<text text-anchor=\"start\" x=\"603.5\" y=\"-308.6\" font-family=\"Times New Roman,serif\" font-size=\"8.00\" fill=\"red\">s</text>\r\n",
       "<text text-anchor=\"start\" x=\"556.932\" y=\"-290.774\" font-family=\"Times New Roman,serif\" font-size=\"8.00\">1 y </text>\r\n",
       "<text text-anchor=\"start\" x=\"610.447\" y=\"-339.782\" font-family=\"Times New Roman,serif\" font-size=\"8.00\">2 in1 </text>\r\n",
       "</g>\r\n",
       "<!-- 3939122738136623277 -->\r\n",
       "<g id=\"node14\" class=\"node\"><title>3939122738136623277</title>\r\n",
       "<polygon fill=\"lightgrey\" stroke=\"black\" points=\"764.5,-279 698.5,-279 698.5,-225 764.5,-225 764.5,-279\"/>\r\n",
       "<text text-anchor=\"middle\" x=\"731.5\" y=\"-249.8\" font-family=\"Times New Roman,serif\" font-size=\"9.00\">placeholder_c</text>\r\n",
       "</g>\r\n",
       "<!-- 11066002478169448787&#45;&#45;3939122738136623277 -->\r\n",
       "<g id=\"edge9\" class=\"edge\"><title>11066002478169448787&#45;&#45;3939122738136623277</title>\r\n",
       "<path fill=\"none\" stroke=\"black\" d=\"M688.439,-332.871C697.769,-315.565 708.826,-295.056 717.4,-279.154\"/>\r\n",
       "<text text-anchor=\"start\" x=\"702.5\" y=\"-308.6\" font-family=\"Times New Roman,serif\" font-size=\"8.00\" fill=\"red\">c</text>\r\n",
       "<text text-anchor=\"start\" x=\"696.4\" y=\"-281.754\" font-family=\"Times New Roman,serif\" font-size=\"8.00\">1 out </text>\r\n",
       "<text text-anchor=\"start\" x=\"675.439\" y=\"-326.471\" font-family=\"Times New Roman,serif\" font-size=\"8.00\">3 a </text>\r\n",
       "</g>\r\n",
       "<!-- 7386065886364947648 -->\r\n",
       "<g id=\"node8\" class=\"node\"><title>7386065886364947648</title>\r\n",
       "<polygon fill=\"lightgrey\" stroke=\"black\" points=\"831.5,-621 763.5,-621 763.5,-567 831.5,-567 831.5,-621\"/>\r\n",
       "<text text-anchor=\"middle\" x=\"797.5\" y=\"-591.8\" font-family=\"Times New Roman,serif\" font-size=\"9.00\">placeholder_y</text>\r\n",
       "</g>\r\n",
       "<!-- 7386065886364947648&#45;&#45;16622331949113227128 -->\r\n",
       "<g id=\"edge11\" class=\"edge\"><title>7386065886364947648&#45;&#45;16622331949113227128</title>\r\n",
       "<path fill=\"none\" stroke=\"black\" d=\"M797.5,-566.798C797.5,-553.31 797.5,-536.68 797.5,-522.099\"/>\r\n",
       "<text text-anchor=\"start\" x=\"797.5\" y=\"-542.6\" font-family=\"Times New Roman,serif\" font-size=\"8.00\" fill=\"red\">y</text>\r\n",
       "<text text-anchor=\"start\" x=\"776.5\" y=\"-524.699\" font-family=\"Times New Roman,serif\" font-size=\"8.00\">1 out </text>\r\n",
       "<text text-anchor=\"start\" x=\"776.5\" y=\"-560.398\" font-family=\"Times New Roman,serif\" font-size=\"8.00\">1 out </text>\r\n",
       "</g>\r\n",
       "<!-- 4358008342605659604&#45;&#45;6522462058742309562 -->\r\n",
       "<g id=\"edge12\" class=\"edge\"><title>4358008342605659604&#45;&#45;6522462058742309562</title>\r\n",
       "<path fill=\"none\" stroke=\"black\" d=\"M471.711,-228.004C421.937,-207.488 349.601,-177.672 300.889,-157.594\"/>\r\n",
       "<text text-anchor=\"start\" x=\"396.5\" y=\"-191.6\" font-family=\"Times New Roman,serif\" font-size=\"8.00\" fill=\"red\">smin</text>\r\n",
       "<text text-anchor=\"start\" x=\"300.889\" y=\"-160.194\" font-family=\"Times New Roman,serif\" font-size=\"8.00\">1 out </text>\r\n",
       "<text text-anchor=\"start\" x=\"457.711\" y=\"-230.604\" font-family=\"Times New Roman,serif\" font-size=\"8.00\">2 x </text>\r\n",
       "</g>\r\n",
       "<!-- 4358008342605659604&#45;&#45;11771721477036300091 -->\r\n",
       "<g id=\"edge7\" class=\"edge\"><title>4358008342605659604&#45;&#45;11771721477036300091</title>\r\n",
       "<path fill=\"none\" stroke=\"black\" d=\"M527.5,-215.871C527.5,-201.736 527.5,-185.463 527.5,-171.31\"/>\r\n",
       "<text text-anchor=\"start\" x=\"527.5\" y=\"-191.6\" font-family=\"Times New Roman,serif\" font-size=\"8.00\" fill=\"red\">θ</text>\r\n",
       "<text text-anchor=\"start\" x=\"506.5\" y=\"-173.91\" font-family=\"Times New Roman,serif\" font-size=\"8.00\">1 out </text>\r\n",
       "<text text-anchor=\"start\" x=\"514.5\" y=\"-209.471\" font-family=\"Times New Roman,serif\" font-size=\"8.00\">3 θ </text>\r\n",
       "</g>\r\n",
       "<!-- 11954170882354030204 -->\r\n",
       "<g id=\"node11\" class=\"node\"><title>11954170882354030204</title>\r\n",
       "<polygon fill=\"none\" stroke=\"black\" points=\"869.5,-171 797.5,-171 797.5,-99 869.5,-99 869.5,-171\"/>\r\n",
       "<text text-anchor=\"middle\" x=\"833.5\" y=\"-137.8\" font-family=\"Times New Roman,serif\" font-size=\"9.00\">W</text>\r\n",
       "<text text-anchor=\"middle\" x=\"833.5\" y=\"-127.8\" font-family=\"Times New Roman,serif\" font-size=\"9.00\">wishart_1</text>\r\n",
       "</g>\r\n",
       "<!-- 4358008342605659604&#45;&#45;11954170882354030204 -->\r\n",
       "<g id=\"edge3\" class=\"edge\"><title>4358008342605659604&#45;&#45;11954170882354030204</title>\r\n",
       "<path fill=\"none\" stroke=\"black\" d=\"M583.269,-230.041C645.5,-206.654 744.374,-169.495 797.282,-149.611\"/>\r\n",
       "<text text-anchor=\"start\" x=\"690.5\" y=\"-191.6\" font-family=\"Times New Roman,serif\" font-size=\"8.00\" fill=\"red\">w</text>\r\n",
       "<text text-anchor=\"start\" x=\"776.282\" y=\"-152.211\" font-family=\"Times New Roman,serif\" font-size=\"8.00\">1 out </text>\r\n",
       "<text text-anchor=\"start\" x=\"583.269\" y=\"-232.641\" font-family=\"Times New Roman,serif\" font-size=\"8.00\">4 w </text>\r\n",
       "</g>\r\n",
       "<!-- 11182509217825621100 -->\r\n",
       "<g id=\"node10\" class=\"node\"><title>11182509217825621100</title>\r\n",
       "<polygon fill=\"lightgrey\" stroke=\"black\" points=\"875,-54 792,-54 792,-0 875,-0 875,-54\"/>\r\n",
       "<text text-anchor=\"middle\" x=\"833.5\" y=\"-24.8\" font-family=\"Times New Roman,serif\" font-size=\"9.00\">placeholder_nu_w</text>\r\n",
       "</g>\r\n",
       "<!-- 11954170882354030204&#45;&#45;11182509217825621100 -->\r\n",
       "<g id=\"edge6\" class=\"edge\"><title>11954170882354030204&#45;&#45;11182509217825621100</title>\r\n",
       "<path fill=\"none\" stroke=\"black\" d=\"M833.5,-98.9979C833.5,-84.4044 833.5,-67.7451 833.5,-54.2331\"/>\r\n",
       "<text text-anchor=\"start\" x=\"833.5\" y=\"-74.6\" font-family=\"Times New Roman,serif\" font-size=\"8.00\" fill=\"red\">nu_w</text>\r\n",
       "<text text-anchor=\"start\" x=\"812.5\" y=\"-56.8331\" font-family=\"Times New Roman,serif\" font-size=\"8.00\">1 out </text>\r\n",
       "<text text-anchor=\"start\" x=\"815.5\" y=\"-92.5979\" font-family=\"Times New Roman,serif\" font-size=\"8.00\">3 nu </text>\r\n",
       "</g>\r\n",
       "<!-- 6846180386183783415 -->\r\n",
       "<g id=\"node13\" class=\"node\"><title>6846180386183783415</title>\r\n",
       "<polygon fill=\"lightgrey\" stroke=\"black\" points=\"1068.5,-54 990.5,-54 990.5,-0 1068.5,-0 1068.5,-54\"/>\r\n",
       "<text text-anchor=\"middle\" x=\"1029.5\" y=\"-24.8\" font-family=\"Times New Roman,serif\" font-size=\"9.00\">placeholder_v_w</text>\r\n",
       "</g>\r\n",
       "<!-- 11954170882354030204&#45;&#45;6846180386183783415 -->\r\n",
       "<g id=\"edge8\" class=\"edge\"><title>11954170882354030204&#45;&#45;6846180386183783415</title>\r\n",
       "<path fill=\"none\" stroke=\"black\" d=\"M869.907,-114.311C904.115,-95.8102 955.162,-68.2034 990.263,-49.2203\"/>\r\n",
       "<text text-anchor=\"start\" x=\"943.5\" y=\"-74.6\" font-family=\"Times New Roman,serif\" font-size=\"8.00\" fill=\"red\">v_w</text>\r\n",
       "<text text-anchor=\"start\" x=\"969.263\" y=\"-51.8203\" font-family=\"Times New Roman,serif\" font-size=\"8.00\">1 out </text>\r\n",
       "<text text-anchor=\"start\" x=\"869.907\" y=\"-116.911\" font-family=\"Times New Roman,serif\" font-size=\"8.00\">2 v </text>\r\n",
       "</g>\r\n",
       "</g>\r\n",
       "</svg>\r\n"
      ]
     },
     "metadata": {},
     "output_type": "display_data"
    }
   ],
   "source": [
    "f = collect(0:fs/40:fs/2)\n",
    "bufsize = 2*length(f)\n",
    "\n",
    "# create fg\n",
    "eval(generateARFB(length(f), bufsize))\n",
    "ForneyLab.draw(fg)"
   ]
  },
  {
   "cell_type": "code",
   "execution_count": 12,
   "metadata": {},
   "outputs": [
    {
     "name": "stdout",
     "output_type": "stream",
     "text": [
      "begin\n",
      "\n",
      "function stepw!(data::Dict, marginals::Dict=Dict(), messages::Vector{Message}=Array{Message}(undef, 2))\n",
      "\n",
      "messages[1] = ruleVBWishartOut(nothing, ProbabilityDistribution(MatrixVariate, PointMass, m=data[:v_w]), ProbabilityDistribution(ForneyLab.Univariate, PointMass, m=data[:nu_w]))\n",
      "messages[2] = ruleVariationalARFBIn3PPPN(marginals[:s], marginals[:smin], marginals[:θ], nothing)\n",
      "\n",
      "marginals[:w] = messages[1].dist * messages[2].dist\n",
      "\n",
      "return marginals\n",
      "\n",
      "end\n",
      "\n",
      "function steps!(data::Dict, marginals::Dict=Dict(), messages::Vector{Message}=Array{Message}(undef, 4))\n",
      "\n",
      "messages[1] = ruleVariationalARFBOutNPPP(nothing, marginals[:smin], marginals[:θ], marginals[:w])\n",
      "messages[2] = ruleSPMultiplicationOutNGP(nothing, messages[1], Message(MatrixVariate, PointMass, m=data[:c]))\n",
      "messages[3] = ruleVBGaussianMeanVarianceM(ProbabilityDistribution(ForneyLab.Multivariate, PointMass, m=data[:y]), nothing, ProbabilityDistribution(MatrixVariate, PointMass, m=data[:Σ_x]))\n",
      "messages[4] = ruleSPMultiplicationIn1GNP(messages[3], nothing, Message(MatrixVariate, PointMass, m=data[:c]))\n",
      "\n",
      "marginals[:s] = messages[1].dist * messages[4].dist\n",
      "marginals[:x] = messages[2].dist * messages[3].dist\n",
      "\n",
      "return marginals\n",
      "\n",
      "end\n",
      "\n",
      "function stepsmin!(data::Dict, marginals::Dict=Dict(), messages::Vector{Message}=Array{Message}(undef, 2))\n",
      "\n",
      "messages[1] = ruleVBGaussianMeanVarianceOut(nothing, ProbabilityDistribution(ForneyLab.Multivariate, PointMass, m=data[:μ_smin]), ProbabilityDistribution(MatrixVariate, PointMass, m=data[:Σ_smin]))\n",
      "messages[2] = ruleVariationalARFBIn1PNPP(marginals[:s], nothing, marginals[:θ], marginals[:w])\n",
      "\n",
      "marginals[:smin] = messages[1].dist * messages[2].dist\n",
      "\n",
      "return marginals\n",
      "\n",
      "end\n",
      "\n",
      "function stepθ!(data::Dict, marginals::Dict=Dict(), messages::Vector{Message}=Array{Message}(undef, 2))\n",
      "\n",
      "messages[1] = ruleVBGaussianMeanVarianceOut(nothing, ProbabilityDistribution(ForneyLab.Multivariate, PointMass, m=data[:μ_θ]), ProbabilityDistribution(MatrixVariate, PointMass, m=data[:Σ_θ]))\n",
      "messages[2] = ruleVariationalARFBIn2PPNP(marginals[:s], marginals[:smin], nothing, marginals[:w])\n",
      "\n",
      "marginals[:θ] = messages[1].dist * messages[2].dist\n",
      "\n",
      "return marginals\n",
      "\n",
      "end\n",
      "\n",
      "end # block\n"
     ]
    }
   ],
   "source": [
    "# generate algorithm\n",
    "algo = variationalAlgorithm(q)\n",
    "source_code = compatibility_fix(algorithmSourceCode(algo))\n",
    "eval(Meta.parse(source_code))\n",
    "println(source_code)"
   ]
  },
  {
   "cell_type": "code",
   "execution_count": null,
   "metadata": {},
   "outputs": [
    {
     "name": "stderr",
     "output_type": "stream",
     "text": [
      "\u001b[32mProgress:   1%|█                                        |  ETA: 0:33:42\u001b[39mm29\u001b[39m"
     ]
    }
   ],
   "source": [
    "μ_θ_mem = Array{Float64,2}(undef, N, 2*length(f))\n",
    "Σ_θ_mem = Array{Float64,2}(undef, N, 2*length(f))\n",
    "μ_x_mem = Array{Float64,1}(undef, N)\n",
    "Σ_x_mem = Array{Float64,1}(undef, N)\n",
    "\n",
    "# priors\n",
    "μ_smin = zeros(2*length(f))\n",
    "Σ_smin = 0.1*Ic(2*length(f))\n",
    "μ_θ = ones(2*length(f))\n",
    "Σ_θ = 1e0*Ic(2*length(f))\n",
    "v_w = 1e1*mean(abs2.(yi))*Ic(2*length(f))/length(f)\n",
    "nu_w = 2*length(f) + 2\n",
    "Σ_x = 1e-6*Ic(bufsize)\n",
    "\n",
    "p = Progress(N-bufsize)\n",
    "    marginals = Dict()\n",
    "\n",
    "for n = bufsize:N\n",
    "    \n",
    "    next!(p)\n",
    "    \n",
    "    # fill marginals dictionary\n",
    "    marginals[:smin] = ProbabilityDistribution(ForneyLab.Multivariate, GaussianMeanVariance, m=μ_smin, v=Σ_smin)\n",
    "    marginals[:θ] = ProbabilityDistribution(ForneyLab.Multivariate, GaussianMeanVariance, m=μ_θ, v=Σ_θ)\n",
    "    marginals[:w] = ProbabilityDistribution(ForneyLab.MatrixVariate, ForneyLab.Wishart, v=v_w, nu=nu_w)\n",
    "    \n",
    "    # fill data dictionary\n",
    "    data = Dict()\n",
    "    data[:μ_smin] = μ_smin\n",
    "    data[:Σ_smin] = Σ_smin\n",
    "    data[:μ_θ] = μ_θ\n",
    "    data[:Σ_θ] = Σ_θ\n",
    "    data[:v_w] = v_w\n",
    "    data[:nu_w] = nu_w\n",
    "    data[:c] = reshape( [cos.(2*pi*f*t[n-bufsize+1:n]') sin.(2*pi*f*t[n-bufsize+1:n]')]', bufsize, 2*length(f))#cos.(2*pi*f*t[n-bufsize+1:n]')'\n",
    "    data[:Σ_x] = Σ_x*Ic(bufsize)\n",
    "    data[:y] = yi[n-bufsize+1:n]   \n",
    "    \n",
    "    # make prediction\n",
    "    messages = Array{Message}(undef, 4)\n",
    "    Base.invokelatest(steps!, data, marginals, messages)\n",
    "    μ_x_mem[n] = ForneyLab.unsafeMean(messages[2].dist)[end]\n",
    "    Σ_x_mem[n] = ForneyLab.unsafeCov(messages[2].dist)[end,end]\n",
    "    \n",
    "    # perform updates\n",
    "    for _ in 1:5\n",
    "        Base.invokelatest(steps!, data, marginals)\n",
    "        Base.invokelatest(stepθ!, data, marginals)\n",
    "        Base.invokelatest(stepw!, data, marginals)\n",
    "        Base.invokelatest(stepsmin!, data, marginals)\n",
    "    end\n",
    "    \n",
    "    # update parameters\n",
    "    μ_smin = ForneyLab.unsafeMean(marginals[:s])\n",
    "    Σ_smin = ForneyLab.unsafeCov(marginals[:s])\n",
    "    μ_θ = ForneyLab.unsafeMean(marginals[:θ])\n",
    "    Σ_θ = ForneyLab.unsafeCov(marginals[:θ])\n",
    "    v_w = marginals[:w].params[:v]\n",
    "    nu_w = marginals[:w].params[:nu]\n",
    "\n",
    "    # save parameters\n",
    "    μ_θ_mem[n,:] = μ_θ\n",
    "    Σ_θ_mem[n,:] = diag(Σ_θ)\n",
    "    \n",
    "end"
   ]
  },
  {
   "cell_type": "code",
   "execution_count": null,
   "metadata": {},
   "outputs": [],
   "source": [
    "for k = 1:size(μ_θ_mem,2)\n",
    "    plt.plot(t[bufsize:end], μ_θ_mem[bufsize:end,k])\n",
    "    plt.fill_between(t[bufsize:end], μ_θ_mem[bufsize:end,k].+sqrt.(Σ_θ_mem[bufsize:end,k]), μ_θ_mem[bufsize:end,k].-sqrt.(Σ_θ_mem[bufsize:end,k]), alpha=0.3)\n",
    "end\n",
    "plt.grid()"
   ]
  },
  {
   "cell_type": "code",
   "execution_count": null,
   "metadata": {},
   "outputs": [],
   "source": [
    "_, ax = plt.subplots(ncols=2, figsize=(15,5))\n",
    "ax[1].plot(t[bufsize:end], yi[bufsize:end], label=\"true\")\n",
    "ax[1].plot(t[bufsize:end], μ_x_mem[bufsize:end], label=\"predict\")\n",
    "ax[1].fill_between(t[bufsize:end], μ_x_mem[bufsize:end] .+ sqrt.(Σ_x_mem[bufsize:end]), μ_x_mem[bufsize:end] .- sqrt.(Σ_x_mem[bufsize:end]), color=\"orange\")\n",
    "ax[1].grid(), ax[1].legend()\n",
    "ax[2].plot(t[bufsize:end], yi[bufsize:end], label=\"true\")\n",
    "ax[2].plot(t[bufsize:end], μ_x_mem[bufsize:end], label=\"predict\")\n",
    "ax[2].fill_between(t[bufsize:end], μ_x_mem[bufsize:end] .+ sqrt.(Σ_x_mem[bufsize:end]), μ_x_mem[bufsize:end] .- sqrt.(Σ_x_mem[bufsize:end]), color=\"orange\")\n",
    "ax[2].grid(), ax[2].legend(), ax[2].set_xlim(2,2.01), ax[2].set_ylim(-1,1)"
   ]
  },
  {
   "cell_type": "code",
   "execution_count": null,
   "metadata": {},
   "outputs": [],
   "source": [
    "plt.plot(sqrt.(Σ_x_mem[bufsize:end]), alpha=0.2)"
   ]
  },
  {
   "cell_type": "code",
   "execution_count": null,
   "metadata": {},
   "outputs": [],
   "source": [
    "# generation:\n",
    "Ni = 500 # (nr samples + frequency resolution)\n",
    "Mi = 100 # nr of iterations\n",
    "\n",
    "# get parameters\n",
    "μ_θi, Σ_θi = ForneyLab.unsafeMean(marginals[:θ]), ForneyLab.unsafeCov(marginals[:θ])\n",
    "v_wi, nu_wi = marginals[:w].params[:v], marginals[:w].params[:nu]\n",
    "\n",
    "\n",
    "function generate1psd(μ_θi, Σ_θi, v_wi, nu_wi, N, fs, f)\n",
    "    # create signal (option 1)\n",
    "    sif = Array{Float64,2}(undef, 2*length(f), N)\n",
    "    xif = Array{Float64,1}(undef, N)\n",
    "    sif[:,1] = zeros(2*length(f))\n",
    "    xif[1] = 0\n",
    "    for n = 2:N\n",
    "        θs = rand(MvNormal(μ_θi, collect(Hermitian(Σ_θi))))\n",
    "        ws = rand(MvNormal(zeros(2*length(f)), collect(Hermitian(inv(rand(Distributions.Wishart(nu_wi, collect(Hermitian(v_wi)))))))))\n",
    "        sif[:,n] = θs.*sif[:,n-1] + ws\n",
    "        xif[n] = sif[:,n]'*reshape( [cos.(2*pi*f*t[n]') sin.(2*pi*f*t[n]')]', 2*length(f))\n",
    "    end\n",
    "    return xif\n",
    "end\n",
    "\n",
    "function approxpsd(M, μ_θi, Σ_θi, v_wi, nu_wi, N, fs, f)\n",
    "    psd = Array{Float64,2}(undef, M, N) \n",
    "    for m = 1:M\n",
    "        xif = generate1psd(μ_θi, Σ_θi, v_wi, nu_wi, N, fs, f)\n",
    "        psd[m,:] = 10*log10.((abs.(FFTW.fft(xif)).^2)./length(xif))\n",
    "    end\n",
    "    return squeeze(mean(psd, dims=1)), squeeze(std(psd, dims=1))\n",
    "end\n",
    "\n",
    "mean_psd, std_psd = approxpsd(Mi, μ_θi, Σ_θi, v_wi, nu_wi, Ni, fs, f)\n",
    "mean_psd = mean_psd[1:Int(floor(Ni/2))]\n",
    "std_psd = std_psd[1:Int(floor(Ni/2))]\n",
    "plt.plot(FFTW.fftfreq(length(yi), fs)/fs*2*pi, 10*log10.((abs.(FFTW.fft(yi)).^2)./length(yi)), linewidth=0.1)\n",
    "plt.plot(FFTW.fftfreq(Ni, fs)[1:Int(floor(Ni/2))]/fs*2*pi, mean_psd, color=\"orange\")\n",
    "plt.fill_between(FFTW.fftfreq(Ni, fs)[1:Int(floor(Ni/2))]/fs*2*pi, mean_psd .- std_psd, mean_psd .+ std_psd, color=\"orange\", alpha=0.3, zorder=100)\n",
    "plt.xlim(0,pi)\n",
    "plt.ylim(-70, 10)\n",
    ";"
   ]
  },
  {
   "cell_type": "code",
   "execution_count": null,
   "metadata": {},
   "outputs": [],
   "source": [
    "x_true = yi[bufsize:end]\n",
    "x_μ_pred = μ_x_mem[bufsize:end]\n",
    "x_σ_pred = sqrt.(abs.(Σ_x_mem[bufsize:end]));"
   ]
  },
  {
   "cell_type": "code",
   "execution_count": null,
   "metadata": {},
   "outputs": [],
   "source": [
    "MSE = mean(abs2.(x_true - x_μ_pred))\n",
    "MAE = mean(abs.(x_true - x_μ_pred))\n",
    "BME = mean([logpdf(Normal(x_μ_pred[k], x_σ_pred[k]), x_true[k]) for k = 1:length(x_true)])\n",
    "\n",
    "MSE, MAE, BME"
   ]
  },
  {
   "cell_type": "code",
   "execution_count": null,
   "metadata": {},
   "outputs": [],
   "source": [
    "plt.plot([logpdf(Normal(x_μ_pred[k], x_σ_pred[k]), x_true[k]) for k = 1:length(x_true)])\n",
    "plt.ylim(-5,3)"
   ]
  },
  {
   "cell_type": "code",
   "execution_count": null,
   "metadata": {},
   "outputs": [],
   "source": []
  }
 ],
 "metadata": {
  "kernelspec": {
   "display_name": "Julia 1.3.1",
   "language": "julia",
   "name": "julia-1.3"
  },
  "language_info": {
   "file_extension": ".jl",
   "mimetype": "application/julia",
   "name": "julia",
   "version": "1.3.1"
  }
 },
 "nbformat": 4,
 "nbformat_minor": 4
}
