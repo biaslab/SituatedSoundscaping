{
 "cells": [
  {
   "cell_type": "markdown",
   "metadata": {},
   "source": [
    "# Noise reduction test 2: unknown process noise"
   ]
  },
  {
   "cell_type": "markdown",
   "metadata": {},
   "source": [
    "<br></br>\n",
    "\n",
    "---\n",
    "---\n",
    "---\n",
    "<br></br>"
   ]
  },
  {
   "cell_type": "markdown",
   "metadata": {},
   "source": [
    "# Load libraries"
   ]
  },
  {
   "cell_type": "code",
   "execution_count": 1,
   "metadata": {},
   "outputs": [],
   "source": [
    "using ForneyLab       # based on last official release\n",
    "using LinearAlgebra\n",
    "using Plots\n",
    "using ProgressMeter\n",
    "using Compat\n",
    "using WAV\n",
    "using Base64\n",
    "using FileIO\n",
    "using HDF5\n",
    "using FLAC\n",
    "using DSP\n",
    "using LAR\n",
    "using LAR.AR\n",
    "using FFTW\n",
    "\n",
    "\n",
    "include(\"functions/auxiliary/buffer.jl\")\n",
    "include(\"functions/auxiliary/audioplayer.jl\")\n",
    "include(\"functions/auxiliary/workflow.jl\")\n",
    "include(\"functions/factorgraph/fourier.jl\")\n",
    ";"
   ]
  },
  {
   "cell_type": "markdown",
   "metadata": {},
   "source": [
    "<br></br>\n",
    "\n",
    "---\n",
    "---\n",
    "---\n",
    "<br></br>"
   ]
  },
  {
   "cell_type": "markdown",
   "metadata": {},
   "source": [
    "# Load and process data"
   ]
  },
  {
   "cell_type": "code",
   "execution_count": null,
   "metadata": {},
   "outputs": [],
   "source": [
    "# specify desired sampling frequency\n",
    "fs_desired = 16000\n",
    "\n",
    "# specify signnal gains\n",
    "g_speech = 1\n",
    "g_drill = 1\n",
    "\n",
    "# load and process drilling sound\n",
    "x_drill, fs_drill = wavread(\"data/drilling.wav\", format=\"native\")\n",
    "fs_drill = Int(fs_drill)\n",
    "x_drill = x_drill[11*fs_drill+1:14*fs_drill]\n",
    "x_drill = resample(x_drill, fs_desired/fs_drill)\n",
    "x_drill = 100*x_drill/var(x_drill)\n",
    "\n",
    "# load and process speech\n",
    "x_speech, fs_speech = wavread(\"data/obama.wav\", format=\"native\")\n",
    "fs_speech = Int(fs_speech)\n",
    "x_speech = x_speech[20*fs_speech+1:23*fs_speech]\n",
    "x_speech = resample(x_speech, fs_desired/fs_speech)\n",
    "x_speech = 100*x_speech/var(x_speech)\n",
    "\n",
    "# specify time axis\n",
    "t = collect((1:length(x_drill))/fs_desired)\n",
    "\n",
    "# combine audio signals\n",
    "x_combined = g_speech*x_speech + g_drill*x_drill\n",
    "\n",
    "# create plots of {drill, speech, combined}\n",
    "inline_audioplayer(x_drill, fs_desired)\n",
    "inline_audioplayer(x_speech, fs_desired)\n",
    "inline_audioplayer(x_combined, fs_desired)\n",
    ";"
   ]
  },
  {
   "cell_type": "markdown",
   "metadata": {},
   "source": [
    "<br></br>\n",
    "\n",
    "---\n",
    "---\n",
    "---\n",
    "<br></br>"
   ]
  },
  {
   "cell_type": "markdown",
   "metadata": {},
   "source": [
    "# Learning drilling parameters"
   ]
  },
  {
   "cell_type": "markdown",
   "metadata": {},
   "source": [
    "## Settings"
   ]
  },
  {
   "cell_type": "code",
   "execution_count": null,
   "metadata": {},
   "outputs": [],
   "source": [
    "# specify frequency spacing\n",
    "fc = convert(Array{Float64}, [60, 150, 250, 350, 450, 570, 700, 840, 1000, 1170])#, 1370, 1600, 1850, 2150, 2500, 2900, 3400, 4000, 4800, 5800, 7000])\n",
    "\n",
    "# amount of frequency components (DC, real and imaginary)\n",
    "nr_components = 2*length(fc) + 1\n",
    "\n",
    "# specify AR order of frequency components\n",
    "ARorder = 10\n",
    "\n",
    "# specify auxiliary variables and initialize buffer\n",
    "nr_samples = length(x_drill)\n",
    "nr_iterations = 5\n",
    "buf_size = 1\n",
    "step_size = 1\n",
    "nr_steps = Int((nr_samples - buf_size)/step_size)\n",
    ";"
   ]
  },
  {
   "cell_type": "markdown",
   "metadata": {},
   "source": [
    "---"
   ]
  },
  {
   "cell_type": "markdown",
   "metadata": {},
   "source": [
    "## Create Factor Graph"
   ]
  },
  {
   "cell_type": "code",
   "execution_count": null,
   "metadata": {},
   "outputs": [],
   "source": [
    "# create factor graphs\n",
    "fg = FactorGraph()\n",
    "\n",
    "# define vector containing all current spectral estimatess\n",
    "@RV s\n",
    "\n",
    "# create vectors for storing spectral component models\n",
    "si = Vector{Variable}(undef, nr_components)     \n",
    "γi = Vector{Variable}(undef, nr_components)\n",
    "wi = Vector{Variable}(undef, nr_components)\n",
    "θi = Vector{Variable}(undef, nr_components)\n",
    "Si_prev = Vector{Variable}(undef, nr_components)\n",
    "Si = Vector{Variable}(undef, nr_components)\n",
    "\n",
    "# specify models of spectral components\n",
    "for i = 1:nr_components\n",
    "    \n",
    "    # specify selection matrix\n",
    "    d = zeros(nr_components)\n",
    "    d[i] = 1\n",
    "    \n",
    "    # specify selected component\n",
    "    @RV [id=pad(:si, i)] si[i] ~ DotProduct(d,\n",
    "                                            s)\n",
    "    \n",
    "    # specify unknown precision of process noise\n",
    "    @RV [id=pad(:γi, i)] γi[i] ~ ForneyLab.Gamma(placeholder(pad(:a_γi, i)), \n",
    "                                                 placeholder(pad(:b_γi, i)))\n",
    "    \n",
    "    # declare priors as random variables\n",
    "    @RV [id=pad(:θi, i)] θi[i] ~ GaussianMeanPrecision(placeholder(pad(:μ_θi, i), dims=(ARorder,)),\n",
    "                                                       placeholder(pad(:Λ_θi, i), dims=(ARorder, ARorder)))\n",
    "\n",
    "    # specify previous states of S\n",
    "    @RV [id=pad(:Si_prev, i)] Si_prev[i] ~ GaussianMeanPrecision(placeholder(pad(:μ_Si_prev, i), dims=(ARorder,)),\n",
    "                                                                 placeholder(pad(:Λ_Si_prev, i), dims=(ARorder, ARorder)))\n",
    "    \n",
    "    # specify spectral model (FIXED precision)\n",
    "    @RV [id=pad(:Si, i)] Si[i] ~ LAR.AR.Autoregressive(θi[i], \n",
    "                                                       Si_prev[i], \n",
    "                                                       \\gamma i)\n",
    "    \n",
    "    # link spectral models to Fourier transform\n",
    "    z = zeros(ARorder)\n",
    "    z[1] = 1\n",
    "    DotProduct(si[i],\n",
    "               Si[i],\n",
    "               z)\n",
    "end\n",
    "\n",
    "# specify signal\n",
    "@RV x ~ DotProduct(placeholder(:c, dims=(nr_components,buf_size)),\n",
    "                   s)\n",
    "\n",
    "# specify measurement noise (almost none)\n",
    "@RV v ~ GaussianMeanPrecision(zeros(buf_size),\n",
    "                              huge*I(buf_size))\n",
    "\n",
    "# specify observed variable\n",
    "@RV y ~ Addition(x, v)\n",
    "\n",
    "# create placeholder for observed variable\n",
    "placeholder(y, :y, dims=(buf_size,))\n",
    "\n",
    "draw(fg, external_viewer=:default)\n",
    ";"
   ]
  },
  {
   "cell_type": "markdown",
   "metadata": {},
   "source": [
    "---"
   ]
  },
  {
   "cell_type": "markdown",
   "metadata": {},
   "source": [
    "## Define recognition factorizations"
   ]
  },
  {
   "cell_type": "code",
   "execution_count": null,
   "metadata": {},
   "outputs": [],
   "source": [
    "# create memory vector for recognition factorizations of frequency components\n",
    "q_AR = Vector{RecognitionFactorization}(undef, nr_components)\n",
    "\n",
    "# loop through frequency components\n",
    "for i = 1:nr_components\n",
    "    \n",
    "    # specify recognition factorization for frequency component\n",
    "    q_ids = [pad(:q_θi, i), \n",
    "             pad(:q_Si, i),\n",
    "             pad(:q_Si_prev, i),\n",
    "             pad(:q_γi, i),\n",
    "             :x]\n",
    "    q_AR[i] = RecognitionFactorization(θi[i], Si[i], Si_prev[i], γi[i], x, ids=q_ids)\n",
    "end\n",
    ";"
   ]
  },
  {
   "cell_type": "markdown",
   "metadata": {},
   "source": [
    "---"
   ]
  },
  {
   "cell_type": "markdown",
   "metadata": {},
   "source": [
    "## Construct algorithms"
   ]
  },
  {
   "cell_type": "code",
   "execution_count": null,
   "metadata": {},
   "outputs": [],
   "source": [
    "# create memory vector for algorithms of frequency components\n",
    "algo_AR = Vector{String}(undef, nr_components)\n",
    "\n",
    "# create algorithms for frequency components\n",
    "for i = 1:nr_components\n",
    "    algo_AR[i] = compatibility_fix(variationalAlgorithm(q_AR[i]))\n",
    "end\n",
    ";"
   ]
  },
  {
   "cell_type": "code",
   "execution_count": 7,
   "metadata": {},
   "outputs": [],
   "source": [
    "# Load algorithms\n",
    "for i = 1:nr_components\n",
    "    eval(Meta.parse(algo_AR[i]))\n",
    "end\n",
    "steps_Si_prev = names(Main)[findall(x -> occursin(\"stepq_Si_prev\", String(x)), names(Main))]\n",
    "steps_Si = names(Main)[findall(x -> occursin(\"stepq_Si\", String(x)) & !(x in steps_Si_prev), names(Main))]\n",
    "steps_θi = names(Main)[findall(x -> occursin(\"stepq_θi\", String(x)), names(Main))]\n",
    "steps_γi = names(Main)[findall(x -> occursin(\"stepq_γi\", String(x)), names(Main))]\n",
    "steps_x = names(Main)[findall(x -> occursin(\"stepx\", String(x)), names(Main))]\n",
    ";"
   ]
  },
  {
   "cell_type": "markdown",
   "metadata": {},
   "source": [
    "---"
   ]
  },
  {
   "cell_type": "markdown",
   "metadata": {},
   "source": [
    "## Specify priors"
   ]
  },
  {
   "cell_type": "code",
   "execution_count": 8,
   "metadata": {},
   "outputs": [],
   "source": [
    "# create memory vectors for priors over frequency components\n",
    "current_μ_Si_prev = Vector{Array{Float64,1}}(undef, nr_components)\n",
    "current_Λ_Si_prev = Vector{Array{Float64,2}}(undef, nr_components)\n",
    "current_a_γi = Vector{Float64}(undef, nr_components)\n",
    "current_b_γi = Vector{Float64}(undef, nr_components)\n",
    "current_μ_θi = Vector{Array{Float64,1}}(undef, nr_components)\n",
    "current_Λ_θi = Vector{Array{Float64,2}}(undef, nr_components)\n",
    "\n",
    "\n",
    "# specify priors over frequency components\n",
    "for i = 1:nr_components\n",
    "    current_μ_Si_prev[i] = zeros(ARorder)\n",
    "    current_Λ_Si_prev[i] = tiny*collect(I(ARorder))\n",
    "    current_a_γi[i] = 0.01\n",
    "    current_b_γi[i] = 0.01\n",
    "    current_μ_θi[i] = zeros(ARorder)\n",
    "    current_Λ_θi[i] = tiny*collect(I(ARorder))\n",
    "end"
   ]
  },
  {
   "cell_type": "markdown",
   "metadata": {},
   "source": [
    "---"
   ]
  },
  {
   "cell_type": "markdown",
   "metadata": {},
   "source": [
    "## Create memory vectors"
   ]
  },
  {
   "cell_type": "code",
   "execution_count": 9,
   "metadata": {},
   "outputs": [],
   "source": [
    "total_a_γi = Vector{Vector{Float64}}(undef, nr_steps)\n",
    "total_b_γi = Vector{Vector{Float64}}(undef, nr_steps)\n",
    "total_μ_Si = Vector{Vector{Array{Float64,1}}}(undef, nr_steps)\n",
    "total_Λ_Si = Vector{Vector{Array{Float64,2}}}(undef, nr_steps)\n",
    "total_μ_θi = Vector{Vector{Array{Float64,1}}}(undef, nr_steps)\n",
    "total_Λ_θi = Vector{Vector{Array{Float64,2}}}(undef, nr_steps)\n",
    "total_μ_x = Vector{Array{Float64,1}}(undef, nr_steps)\n",
    "total_Λ_x = Vector{Array{Float64,2}}(undef, nr_steps)\n",
    "total_x = Vector{Array{Float64,1}}(undef, nr_steps)\n",
    "total_s = Vector{Vector{Float64}}(undef, nr_steps)\n",
    "\n",
    "for i = 1:nr_steps\n",
    "    total_a_γi[i] = Vector{Float64}(undef, nr_components)\n",
    "    total_b_γi[i] = Vector{Float64}(undef, nr_components)\n",
    "    total_μ_Si[i] = Vector{Array{Float64,1}}(undef, nr_components)\n",
    "    total_Λ_Si[i] = Vector{Array{Float64,2}}(undef, nr_components)\n",
    "    total_μ_θi[i] = Vector{Array{Float64,1}}(undef, nr_components)\n",
    "    total_Λ_θi[i] = Vector{Array{Float64,2}}(undef, nr_components)\n",
    "end\n",
    "\n",
    "predictions = []\n",
    ";"
   ]
  },
  {
   "cell_type": "markdown",
   "metadata": {},
   "source": [
    "---"
   ]
  },
  {
   "cell_type": "markdown",
   "metadata": {},
   "source": [
    "## Create marginals and data buffer"
   ]
  },
  {
   "cell_type": "code",
   "execution_count": 10,
   "metadata": {},
   "outputs": [],
   "source": [
    "# create marginals dictionary\n",
    "marginals = Dict{Symbol, ProbabilityDistribution}()\n",
    "marginals[:x] = ProbabilityDistribution(ForneyLab.Univariate, GaussianMeanPrecision, m=0, w=1e-4)\n",
    "for i = 1:nr_components\n",
    "    marginals[pad(:γi, i)] = ProbabilityDistribution(ForneyLab.Univariate, ForneyLab.Gamma, a=current_a_γi[i], b=current_b_γi[i])\n",
    "    marginals[pad(:θi, i)] = ProbabilityDistribution(ForneyLab.Multivariate, GaussianMeanPrecision, m=current_μ_θi[i], w=current_Λ_θi[i])\n",
    "    marginals[pad(:Si_prev, i)] = ProbabilityDistribution(ForneyLab.Multivariate, GaussianMeanPrecision, m=current_μ_Si_prev[i], w=current_Λ_Si_prev[i])\n",
    "end\n",
    "\n",
    "# create data buffer\n",
    "buf = BufferData(x_drill, t, buf_size)\n",
    "FLAG_data_remaining = true\n",
    ";"
   ]
  },
  {
   "cell_type": "markdown",
   "metadata": {},
   "source": [
    "---"
   ]
  },
  {
   "cell_type": "markdown",
   "metadata": {},
   "source": [
    "## Calculate downward message on x"
   ]
  },
  {
   "cell_type": "code",
   "execution_count": 11,
   "metadata": {},
   "outputs": [
    {
     "data": {
      "text/plain": [
       "predictx (generic function with 3 methods)"
      ]
     },
     "execution_count": 11,
     "metadata": {},
     "output_type": "execute_result"
    }
   ],
   "source": [
    "function predictx(data::Dict, marginals::Dict=Dict(), messages::Vector{Message}=Array{Message}(undef, 170))\n",
    "\n",
    "    messages[1] = ruleVariationalAROutNPPP(nothing, marginals[:Si_prev_21], marginals[:θi_21], ProbabilityDistribution(ForneyLab.Univariate, PointMass, m=100000.0))\n",
    "    messages[2] = ruleSPDotProductOutNGP(nothing, messages[1], Message(ForneyLab.Multivariate, PointMass, m=[1.0, 0.0, 0.0, 0.0, 0.0, 0.0, 0.0, 0.0, 0.0, 0.0]))\n",
    "    messages[3] = ruleSPDotProductIn2GPN(messages[2], Message(ForneyLab.Multivariate, PointMass, m=[0.0, 0.0, 0.0, 0.0, 0.0, 0.0, 0.0, 0.0, 0.0, 0.0, 0.0, 0.0, 0.0, 0.0, 0.0, 0.0, 0.0, 0.0, 0.0, 0.0, 1.0]), nothing)\n",
    "    messages[4] = ruleVariationalAROutNPPP(nothing, marginals[:Si_prev_20], marginals[:θi_20], ProbabilityDistribution(ForneyLab.Univariate, PointMass, m=100000.0))\n",
    "    messages[5] = ruleSPDotProductOutNGP(nothing, messages[4], Message(ForneyLab.Multivariate, PointMass, m=[1.0, 0.0, 0.0, 0.0, 0.0, 0.0, 0.0, 0.0, 0.0, 0.0]))\n",
    "    messages[6] = ruleSPDotProductIn2GPN(messages[5], Message(ForneyLab.Multivariate, PointMass, m=[0.0, 0.0, 0.0, 0.0, 0.0, 0.0, 0.0, 0.0, 0.0, 0.0, 0.0, 0.0, 0.0, 0.0, 0.0, 0.0, 0.0, 0.0, 0.0, 1.0, 0.0]), nothing)\n",
    "    messages[7] = ruleVariationalAROutNPPP(nothing, marginals[:Si_prev_19], marginals[:θi_19], ProbabilityDistribution(ForneyLab.Univariate, PointMass, m=100000.0))\n",
    "    messages[8] = ruleSPDotProductOutNGP(nothing, messages[7], Message(ForneyLab.Multivariate, PointMass, m=[1.0, 0.0, 0.0, 0.0, 0.0, 0.0, 0.0, 0.0, 0.0, 0.0]))\n",
    "    messages[9] = ruleSPDotProductIn2GPN(messages[8], Message(ForneyLab.Multivariate, PointMass, m=[0.0, 0.0, 0.0, 0.0, 0.0, 0.0, 0.0, 0.0, 0.0, 0.0, 0.0, 0.0, 0.0, 0.0, 0.0, 0.0, 0.0, 0.0, 1.0, 0.0, 0.0]), nothing)\n",
    "    messages[10] = ruleVariationalAROutNPPP(nothing, marginals[:Si_prev_18], marginals[:θi_18], ProbabilityDistribution(ForneyLab.Univariate, PointMass, m=100000.0))\n",
    "    messages[11] = ruleSPDotProductOutNGP(nothing, messages[10], Message(ForneyLab.Multivariate, PointMass, m=[1.0, 0.0, 0.0, 0.0, 0.0, 0.0, 0.0, 0.0, 0.0, 0.0]))\n",
    "    messages[12] = ruleSPDotProductIn2GPN(messages[11], Message(ForneyLab.Multivariate, PointMass, m=[0.0, 0.0, 0.0, 0.0, 0.0, 0.0, 0.0, 0.0, 0.0, 0.0, 0.0, 0.0, 0.0, 0.0, 0.0, 0.0, 0.0, 1.0, 0.0, 0.0, 0.0]), nothing)\n",
    "    messages[13] = ruleVariationalAROutNPPP(nothing, marginals[:Si_prev_17], marginals[:θi_17], ProbabilityDistribution(ForneyLab.Univariate, PointMass, m=100000.0))\n",
    "    messages[14] = ruleSPDotProductOutNGP(nothing, messages[13], Message(ForneyLab.Multivariate, PointMass, m=[1.0, 0.0, 0.0, 0.0, 0.0, 0.0, 0.0, 0.0, 0.0, 0.0]))\n",
    "    messages[15] = ruleSPDotProductIn2GPN(messages[14], Message(ForneyLab.Multivariate, PointMass, m=[0.0, 0.0, 0.0, 0.0, 0.0, 0.0, 0.0, 0.0, 0.0, 0.0, 0.0, 0.0, 0.0, 0.0, 0.0, 0.0, 1.0, 0.0, 0.0, 0.0, 0.0]), nothing)\n",
    "    messages[16] = ruleVariationalAROutNPPP(nothing, marginals[:Si_prev_16], marginals[:θi_16], ProbabilityDistribution(ForneyLab.Univariate, PointMass, m=100000.0))\n",
    "    messages[17] = ruleSPDotProductOutNGP(nothing, messages[16], Message(ForneyLab.Multivariate, PointMass, m=[1.0, 0.0, 0.0, 0.0, 0.0, 0.0, 0.0, 0.0, 0.0, 0.0]))\n",
    "    messages[18] = ruleSPDotProductIn2GPN(messages[17], Message(ForneyLab.Multivariate, PointMass, m=[0.0, 0.0, 0.0, 0.0, 0.0, 0.0, 0.0, 0.0, 0.0, 0.0, 0.0, 0.0, 0.0, 0.0, 0.0, 1.0, 0.0, 0.0, 0.0, 0.0, 0.0]), nothing)\n",
    "    messages[19] = ruleVariationalAROutNPPP(nothing, marginals[:Si_prev_15], marginals[:θi_15], ProbabilityDistribution(ForneyLab.Univariate, PointMass, m=100000.0))\n",
    "    messages[20] = ruleSPDotProductOutNGP(nothing, messages[19], Message(ForneyLab.Multivariate, PointMass, m=[1.0, 0.0, 0.0, 0.0, 0.0, 0.0, 0.0, 0.0, 0.0, 0.0]))\n",
    "    messages[21] = ruleSPDotProductIn2GPN(messages[20], Message(ForneyLab.Multivariate, PointMass, m=[0.0, 0.0, 0.0, 0.0, 0.0, 0.0, 0.0, 0.0, 0.0, 0.0, 0.0, 0.0, 0.0, 0.0, 1.0, 0.0, 0.0, 0.0, 0.0, 0.0, 0.0]), nothing)\n",
    "    messages[22] = ruleVariationalAROutNPPP(nothing, marginals[:Si_prev_14], marginals[:θi_14], ProbabilityDistribution(ForneyLab.Univariate, PointMass, m=100000.0))\n",
    "    messages[23] = ruleSPDotProductOutNGP(nothing, messages[22], Message(ForneyLab.Multivariate, PointMass, m=[1.0, 0.0, 0.0, 0.0, 0.0, 0.0, 0.0, 0.0, 0.0, 0.0]))\n",
    "    messages[24] = ruleSPDotProductIn2GPN(messages[23], Message(ForneyLab.Multivariate, PointMass, m=[0.0, 0.0, 0.0, 0.0, 0.0, 0.0, 0.0, 0.0, 0.0, 0.0, 0.0, 0.0, 0.0, 1.0, 0.0, 0.0, 0.0, 0.0, 0.0, 0.0, 0.0]), nothing)\n",
    "    messages[25] = ruleVariationalAROutNPPP(nothing, marginals[:Si_prev_13], marginals[:θi_13], ProbabilityDistribution(ForneyLab.Univariate, PointMass, m=100000.0))\n",
    "    messages[26] = ruleSPDotProductOutNGP(nothing, messages[25], Message(ForneyLab.Multivariate, PointMass, m=[1.0, 0.0, 0.0, 0.0, 0.0, 0.0, 0.0, 0.0, 0.0, 0.0]))\n",
    "    messages[27] = ruleSPDotProductIn2GPN(messages[26], Message(ForneyLab.Multivariate, PointMass, m=[0.0, 0.0, 0.0, 0.0, 0.0, 0.0, 0.0, 0.0, 0.0, 0.0, 0.0, 0.0, 1.0, 0.0, 0.0, 0.0, 0.0, 0.0, 0.0, 0.0, 0.0]), nothing)\n",
    "    messages[28] = ruleVariationalAROutNPPP(nothing, marginals[:Si_prev_12], marginals[:θi_12], ProbabilityDistribution(ForneyLab.Univariate, PointMass, m=100000.0))\n",
    "    messages[29] = ruleSPDotProductOutNGP(nothing, messages[28], Message(ForneyLab.Multivariate, PointMass, m=[1.0, 0.0, 0.0, 0.0, 0.0, 0.0, 0.0, 0.0, 0.0, 0.0]))\n",
    "    messages[30] = ruleSPDotProductIn2GPN(messages[29], Message(ForneyLab.Multivariate, PointMass, m=[0.0, 0.0, 0.0, 0.0, 0.0, 0.0, 0.0, 0.0, 0.0, 0.0, 0.0, 1.0, 0.0, 0.0, 0.0, 0.0, 0.0, 0.0, 0.0, 0.0, 0.0]), nothing)\n",
    "    messages[31] = ruleVariationalAROutNPPP(nothing, marginals[:Si_prev_11], marginals[:θi_11], ProbabilityDistribution(ForneyLab.Univariate, PointMass, m=100000.0))\n",
    "    messages[32] = ruleSPDotProductOutNGP(nothing, messages[31], Message(ForneyLab.Multivariate, PointMass, m=[1.0, 0.0, 0.0, 0.0, 0.0, 0.0, 0.0, 0.0, 0.0, 0.0]))\n",
    "    messages[33] = ruleSPDotProductIn2GPN(messages[32], Message(ForneyLab.Multivariate, PointMass, m=[0.0, 0.0, 0.0, 0.0, 0.0, 0.0, 0.0, 0.0, 0.0, 0.0, 1.0, 0.0, 0.0, 0.0, 0.0, 0.0, 0.0, 0.0, 0.0, 0.0, 0.0]), nothing)\n",
    "    messages[34] = ruleVariationalAROutNPPP(nothing, marginals[:Si_prev_10], marginals[:θi_10], ProbabilityDistribution(ForneyLab.Univariate, PointMass, m=100000.0))\n",
    "    messages[35] = ruleSPDotProductOutNGP(nothing, messages[34], Message(ForneyLab.Multivariate, PointMass, m=[1.0, 0.0, 0.0, 0.0, 0.0, 0.0, 0.0, 0.0, 0.0, 0.0]))\n",
    "    messages[36] = ruleSPDotProductIn2GPN(messages[35], Message(ForneyLab.Multivariate, PointMass, m=[0.0, 0.0, 0.0, 0.0, 0.0, 0.0, 0.0, 0.0, 0.0, 1.0, 0.0, 0.0, 0.0, 0.0, 0.0, 0.0, 0.0, 0.0, 0.0, 0.0, 0.0]), nothing)\n",
    "    messages[37] = ruleVariationalAROutNPPP(nothing, marginals[:Si_prev_09], marginals[:θi_09], ProbabilityDistribution(ForneyLab.Univariate, PointMass, m=100000.0))\n",
    "    messages[38] = ruleSPDotProductOutNGP(nothing, messages[37], Message(ForneyLab.Multivariate, PointMass, m=[1.0, 0.0, 0.0, 0.0, 0.0, 0.0, 0.0, 0.0, 0.0, 0.0]))\n",
    "    messages[39] = ruleSPDotProductIn2GPN(messages[38], Message(ForneyLab.Multivariate, PointMass, m=[0.0, 0.0, 0.0, 0.0, 0.0, 0.0, 0.0, 0.0, 1.0, 0.0, 0.0, 0.0, 0.0, 0.0, 0.0, 0.0, 0.0, 0.0, 0.0, 0.0, 0.0]), nothing)\n",
    "    messages[40] = ruleVariationalAROutNPPP(nothing, marginals[:Si_prev_08], marginals[:θi_08], ProbabilityDistribution(ForneyLab.Univariate, PointMass, m=100000.0))\n",
    "    messages[41] = ruleSPDotProductOutNGP(nothing, messages[40], Message(ForneyLab.Multivariate, PointMass, m=[1.0, 0.0, 0.0, 0.0, 0.0, 0.0, 0.0, 0.0, 0.0, 0.0]))\n",
    "    messages[42] = ruleSPDotProductIn2GPN(messages[41], Message(ForneyLab.Multivariate, PointMass, m=[0.0, 0.0, 0.0, 0.0, 0.0, 0.0, 0.0, 1.0, 0.0, 0.0, 0.0, 0.0, 0.0, 0.0, 0.0, 0.0, 0.0, 0.0, 0.0, 0.0, 0.0]), nothing)\n",
    "    messages[43] = ruleVariationalAROutNPPP(nothing, marginals[:Si_prev_07], marginals[:θi_07], ProbabilityDistribution(ForneyLab.Univariate, PointMass, m=100000.0))\n",
    "    messages[44] = ruleSPDotProductOutNGP(nothing, messages[43], Message(ForneyLab.Multivariate, PointMass, m=[1.0, 0.0, 0.0, 0.0, 0.0, 0.0, 0.0, 0.0, 0.0, 0.0]))\n",
    "    messages[45] = ruleSPDotProductIn2GPN(messages[44], Message(ForneyLab.Multivariate, PointMass, m=[0.0, 0.0, 0.0, 0.0, 0.0, 0.0, 1.0, 0.0, 0.0, 0.0, 0.0, 0.0, 0.0, 0.0, 0.0, 0.0, 0.0, 0.0, 0.0, 0.0, 0.0]), nothing)\n",
    "    messages[46] = ruleVariationalAROutNPPP(nothing, marginals[:Si_prev_06], marginals[:θi_06], ProbabilityDistribution(ForneyLab.Univariate, PointMass, m=100000.0))\n",
    "    messages[47] = ruleSPDotProductOutNGP(nothing, messages[46], Message(ForneyLab.Multivariate, PointMass, m=[1.0, 0.0, 0.0, 0.0, 0.0, 0.0, 0.0, 0.0, 0.0, 0.0]))\n",
    "    messages[48] = ruleSPDotProductIn2GPN(messages[47], Message(ForneyLab.Multivariate, PointMass, m=[0.0, 0.0, 0.0, 0.0, 0.0, 1.0, 0.0, 0.0, 0.0, 0.0, 0.0, 0.0, 0.0, 0.0, 0.0, 0.0, 0.0, 0.0, 0.0, 0.0, 0.0]), nothing)\n",
    "    messages[49] = ruleVariationalAROutNPPP(nothing, marginals[:Si_prev_05], marginals[:θi_05], ProbabilityDistribution(ForneyLab.Univariate, PointMass, m=100000.0))\n",
    "    messages[50] = ruleSPDotProductOutNGP(nothing, messages[49], Message(ForneyLab.Multivariate, PointMass, m=[1.0, 0.0, 0.0, 0.0, 0.0, 0.0, 0.0, 0.0, 0.0, 0.0]))\n",
    "    messages[51] = ruleSPDotProductIn2GPN(messages[50], Message(ForneyLab.Multivariate, PointMass, m=[0.0, 0.0, 0.0, 0.0, 1.0, 0.0, 0.0, 0.0, 0.0, 0.0, 0.0, 0.0, 0.0, 0.0, 0.0, 0.0, 0.0, 0.0, 0.0, 0.0, 0.0]), nothing)\n",
    "    messages[52] = ruleVariationalAROutNPPP(nothing, marginals[:Si_prev_04], marginals[:θi_04], ProbabilityDistribution(ForneyLab.Univariate, PointMass, m=100000.0))\n",
    "    messages[53] = ruleSPDotProductOutNGP(nothing, messages[52], Message(ForneyLab.Multivariate, PointMass, m=[1.0, 0.0, 0.0, 0.0, 0.0, 0.0, 0.0, 0.0, 0.0, 0.0]))\n",
    "    messages[54] = ruleSPDotProductIn2GPN(messages[53], Message(ForneyLab.Multivariate, PointMass, m=[0.0, 0.0, 0.0, 1.0, 0.0, 0.0, 0.0, 0.0, 0.0, 0.0, 0.0, 0.0, 0.0, 0.0, 0.0, 0.0, 0.0, 0.0, 0.0, 0.0, 0.0]), nothing)\n",
    "    messages[55] = ruleVariationalAROutNPPP(nothing, marginals[:Si_prev_03], marginals[:θi_03], ProbabilityDistribution(ForneyLab.Univariate, PointMass, m=100000.0))\n",
    "    messages[56] = ruleSPDotProductOutNGP(nothing, messages[55], Message(ForneyLab.Multivariate, PointMass, m=[1.0, 0.0, 0.0, 0.0, 0.0, 0.0, 0.0, 0.0, 0.0, 0.0]))\n",
    "    messages[57] = ruleSPDotProductIn2GPN(messages[56], Message(ForneyLab.Multivariate, PointMass, m=[0.0, 0.0, 1.0, 0.0, 0.0, 0.0, 0.0, 0.0, 0.0, 0.0, 0.0, 0.0, 0.0, 0.0, 0.0, 0.0, 0.0, 0.0, 0.0, 0.0, 0.0]), nothing)\n",
    "    messages[58] = ruleVariationalAROutNPPP(nothing, marginals[:Si_prev_01], marginals[:θi_01], ProbabilityDistribution(ForneyLab.Univariate, PointMass, m=100000.0))\n",
    "    messages[59] = ruleSPDotProductOutNGP(nothing, messages[58], Message(ForneyLab.Multivariate, PointMass, m=[1.0, 0.0, 0.0, 0.0, 0.0, 0.0, 0.0, 0.0, 0.0, 0.0]))\n",
    "    messages[60] = ruleSPDotProductIn2GPN(messages[59], Message(ForneyLab.Multivariate, PointMass, m=[1.0, 0.0, 0.0, 0.0, 0.0, 0.0, 0.0, 0.0, 0.0, 0.0, 0.0, 0.0, 0.0, 0.0, 0.0, 0.0, 0.0, 0.0, 0.0, 0.0, 0.0]), nothing)\n",
    "    messages[61] = ruleVariationalAROutNPPP(nothing, marginals[:Si_prev_02], marginals[:θi_02], ProbabilityDistribution(ForneyLab.Univariate, PointMass, m=100000.0))\n",
    "    messages[62] = ruleSPDotProductOutNGP(nothing, messages[61], Message(ForneyLab.Multivariate, PointMass, m=[1.0, 0.0, 0.0, 0.0, 0.0, 0.0, 0.0, 0.0, 0.0, 0.0]))\n",
    "    messages[63] = ruleSPDotProductIn2GPN(messages[62], Message(ForneyLab.Multivariate, PointMass, m=[0.0, 1.0, 0.0, 0.0, 0.0, 0.0, 0.0, 0.0, 0.0, 0.0, 0.0, 0.0, 0.0, 0.0, 0.0, 0.0, 0.0, 0.0, 0.0, 0.0, 0.0]), nothing)\n",
    "    messages[64] = ruleSPEqualityGaussian(messages[60], messages[63], nothing)\n",
    "    messages[65] = ruleSPEqualityGaussian(messages[57], messages[64], nothing)\n",
    "    messages[66] = ruleSPEqualityGaussian(messages[54], messages[65], nothing)\n",
    "    messages[67] = ruleSPEqualityGaussian(messages[51], messages[66], nothing)\n",
    "    messages[68] = ruleSPEqualityGaussian(messages[48], messages[67], nothing)\n",
    "    messages[69] = ruleSPEqualityGaussian(messages[45], messages[68], nothing)\n",
    "    messages[70] = ruleSPEqualityGaussian(messages[42], messages[69], nothing)\n",
    "    messages[71] = ruleSPEqualityGaussian(messages[39], messages[70], nothing)\n",
    "    messages[72] = ruleSPEqualityGaussian(messages[36], messages[71], nothing)\n",
    "    messages[73] = ruleSPEqualityGaussian(messages[33], messages[72], nothing)\n",
    "    messages[74] = ruleSPEqualityGaussian(messages[30], messages[73], nothing)\n",
    "    messages[75] = ruleSPEqualityGaussian(messages[27], messages[74], nothing)\n",
    "    messages[76] = ruleSPEqualityGaussian(messages[24], messages[75], nothing)\n",
    "    messages[77] = ruleSPEqualityGaussian(messages[21], messages[76], nothing)\n",
    "    messages[78] = ruleSPEqualityGaussian(messages[18], messages[77], nothing)\n",
    "    messages[79] = ruleSPEqualityGaussian(messages[15], messages[78], nothing)\n",
    "    messages[80] = ruleSPEqualityGaussian(messages[12], messages[79], nothing)\n",
    "    messages[81] = ruleSPEqualityGaussian(messages[9], messages[80], nothing)\n",
    "    messages[82] = ruleSPEqualityGaussian(messages[6], messages[81], nothing)\n",
    "    messages[83] = ruleSPEqualityGaussian(messages[3], messages[82], nothing)\n",
    "    messages[84] = ruleSPDotProductOutNPG(nothing, Message(MatrixVariate, PointMass, m=data[:c]), messages[83])\n",
    "    \n",
    "    return messages[84]\n",
    "end"
   ]
  },
  {
   "cell_type": "markdown",
   "metadata": {},
   "source": [
    "---"
   ]
  },
  {
   "cell_type": "markdown",
   "metadata": {},
   "source": [
    "## Perform inference for the parameters"
   ]
  },
  {
   "cell_type": "code",
   "execution_count": null,
   "metadata": {},
   "outputs": [
    {
     "name": "stderr",
     "output_type": "stream",
     "text": [
      "\u001b[32mObserved   9%|████                                      |  ETA: 0:37:25\u001b[39m7:11\u001b[39m"
     ]
    }
   ],
   "source": [
    "# perform inference cycle\n",
    "p = Progress(nr_steps, 1, \"Observed \")\n",
    "\n",
    "for i = 1:nr_steps\n",
    "    \n",
    "    # update progress bar\n",
    "    update!(p, i)\n",
    "    \n",
    "    # specify values of placeholders\n",
    "    data = Dict()\n",
    "    data[:y] = buf.buffer_s\n",
    "    data[:c] = calc_C(fc, buf.buffer_t)\n",
    "    for it = 1:nr_components\n",
    "        data[pad(:a_γi, it)] = current_a_γi[it]\n",
    "        data[pad(:b_γi, it)] = current_b_γi[it]\n",
    "        data[pad(:μ_θi, it)] = current_μ_θi[it]\n",
    "        data[pad(:Λ_θi, it)] = current_Λ_θi[it]\n",
    "        data[pad(:μ_Si_prev, it)] = current_μ_Si_prev[it]\n",
    "        data[pad(:Λ_Si_prev, it)] = current_Λ_Si_prev[it]\n",
    "    end\n",
    "    \n",
    "    # pass messages\n",
    "    for it = 1:nr_iterations\n",
    "        \n",
    "        # perform all steps\n",
    "        Base.invokelatest(eval(steps_Si[1]), data, marginals) \n",
    "\n",
    "        for k = 1:length(steps_Si_prev)\n",
    "            Base.invokelatest(eval(steps_Si_prev[k]), data, marginals)\n",
    "        end\n",
    "        \n",
    "        for k = 1:length(steps_θi)\n",
    "            Base.invokelatest(eval(steps_θi[k]), data, marginals)\n",
    "        end\n",
    "        \n",
    "       for k = 1:length(steps_γi)\n",
    "            Base.invokelatest(eval(steps_γi[k]), data, marginals)\n",
    "       end\n",
    "    end\n",
    "    \n",
    "    for k = 1:5\n",
    "        Base.invokelatest(eval(steps_x[1]), data, marginals)\n",
    "    end\n",
    "    \n",
    "    push!(predictions, predictx(data, marginals))\n",
    "    \n",
    "    # save estimates\n",
    "    for it = 1:nr_components\n",
    "        total_a_γi[i][it] = marginals[pad(:γi,it)].params[:a]\n",
    "        total_b_γi[i][it] = marginals[pad(:γi,it)].params[:b]\n",
    "        total_μ_θi[i][it] = mean(marginals[pad(:θi,it)])\n",
    "        total_Λ_θi[i][it] = ForneyLab.unsafePrecision(marginals[pad(:θi,it)])\n",
    "        total_μ_Si[i][it] = mean(marginals[pad(:Si,it)])\n",
    "        total_Λ_Si[i][it] = ForneyLab.unsafePrecision(marginals[pad(:Si,it)])\n",
    "    end\n",
    "\n",
    "    # update current estimates\n",
    "    for it = 1:nr_components\n",
    "        current_a_γi[it] = total_a_γi[i][it]\n",
    "        current_b_γi[it] = total_b_γi[i][it]\n",
    "        current_μ_θi[it] = total_μ_θi[i][it]\n",
    "        current_Λ_θi[it] = total_Λ_θi[i][it]\n",
    "        current_μ_Si_prev[it] = total_μ_Si[i][it]\n",
    "        current_Λ_Si_prev[it] = total_Λ_Si[i][it]\n",
    "    end\n",
    "    \n",
    "    # possibility to select parameters\n",
    "#     mask = [isassigned(marginals.keys, i) for i in 1:length(marginals.keys)]\n",
    "#     masked_marginals = marginals.keys[mask]\n",
    "#     string_marginals = [String(masked_marginals[i]) for i in 1:length(masked_marginals)]\n",
    "#     symbol_marginals_θ = Symbol.(sort([string_marginals[i] for i in 1:length(string_marginals) if string_marginals[i][1] == 'θ']))\n",
    "#     symbol_marginals_S = Symbol.(sort([string_marginals[i] for i in 1:length(string_marginals) if string_marginals[i][1] == 'S']))\n",
    "    \n",
    "    # update buffer\n",
    "    FLAG_data_remaining = step!(buf, step_size)\n",
    "end"
   ]
  },
  {
   "cell_type": "markdown",
   "metadata": {},
   "source": [
    "---"
   ]
  },
  {
   "cell_type": "markdown",
   "metadata": {},
   "source": [
    "## Save parameters"
   ]
  },
  {
   "cell_type": "code",
   "execution_count": null,
   "metadata": {},
   "outputs": [],
   "source": [
    "h5open(\"inferred_values/noise_reduction_test.h5\", \"w\") do file\n",
    "    for k = 1:length(current_μ_θi)\n",
    "        write(file, \"noise/theta_mean_\"*string(k, pad=3), current_μ_θi[k]) \n",
    "        write(file, \"noise/theta_precision_\"*string(k, pad=3), current_Λ_θi[k]) \n",
    "        write(file, \"noise/gamma_a_\"*string(k, pad=3), current_a_γi[k]) \n",
    "        write(file, \"noise/gamma_b_\"*string(k, pad=3), current_b_γi[k])     \n",
    "    end\n",
    "end"
   ]
  },
  {
   "cell_type": "markdown",
   "metadata": {},
   "source": [
    "<br></br>\n",
    "\n",
    "---\n",
    "---\n",
    "---\n",
    "<br></br>"
   ]
  },
  {
   "cell_type": "markdown",
   "metadata": {},
   "source": [
    "# Plot predictions of sound based on downward message"
   ]
  },
  {
   "cell_type": "code",
   "execution_count": null,
   "metadata": {},
   "outputs": [],
   "source": [
    "predictions\n",
    "m_predictions = expand([ForneyLab.unsafeMean(i.dist) for i in predictions])\n",
    "v_predictions = expand([var(i.dist) for i in predictions])\n",
    ";"
   ]
  },
  {
   "cell_type": "code",
   "execution_count": null,
   "metadata": {},
   "outputs": [],
   "source": [
    "start = 15000\n",
    "finish = 15300\n",
    "\n",
    "plot(m_predictions[start:finish], ribbon=sqrt.(v_predictions[start:finish]))\n",
    "scatter!(x_drill[start:finish])\n",
    "#ylims!(-0.1, 0.1)"
   ]
  },
  {
   "cell_type": "code",
   "execution_count": null,
   "metadata": {},
   "outputs": [],
   "source": [
    "plot(m_predictions/var(m_predictions))"
   ]
  },
  {
   "cell_type": "code",
   "execution_count": null,
   "metadata": {},
   "outputs": [],
   "source": [
    "plot(x_drill/var(x_drill))"
   ]
  },
  {
   "cell_type": "code",
   "execution_count": null,
   "metadata": {},
   "outputs": [],
   "source": [
    "plot(20*log10.(abs.(FFTW.fft(m_predictions))))"
   ]
  },
  {
   "cell_type": "code",
   "execution_count": null,
   "metadata": {},
   "outputs": [],
   "source": [
    "plot(20*log10.(abs.(FFTW.fft(x_drill))))"
   ]
  }
 ],
 "metadata": {
  "kernelspec": {
   "display_name": "Julia 1.3.1",
   "language": "julia",
   "name": "julia-1.3"
  },
  "language_info": {
   "file_extension": ".jl",
   "mimetype": "application/julia",
   "name": "julia",
   "version": "1.3.1"
  }
 },
 "nbformat": 4,
 "nbformat_minor": 4
}
