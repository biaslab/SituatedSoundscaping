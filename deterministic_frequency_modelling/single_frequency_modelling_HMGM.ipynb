{
 "cells": [
  {
   "cell_type": "markdown",
   "metadata": {},
   "source": [
    "# Single frequency component modelling of speech HMGM"
   ]
  },
  {
   "cell_type": "markdown",
   "metadata": {},
   "source": [
    "This notebook will examine the plausibility of modelling the real and imaginary part of warped frequency coefficients using an auto-regressive model.\n",
    "\n",
    "This notebook comprises the following steps:\n",
    "1. Load data\n",
    "2. Pass data through warped filter bank and calculate warped frequency coefficients\n",
    "3. Model the warped frequency coefficients using an auto-regressive model\n",
    "4. Infer auto-regressive parameters\n",
    "5. Evaluate performance on coefficient prediction"
   ]
  },
  {
   "cell_type": "markdown",
   "metadata": {},
   "source": [
    "## Load packages and functions"
   ]
  },
  {
   "cell_type": "code",
   "execution_count": 1,
   "metadata": {},
   "outputs": [
    {
     "name": "stderr",
     "output_type": "stream",
     "text": [
      "┌ Info: Precompiling ForneyLab [9fc3f58a-c2cc-5bff-9419-6a294fefdca9]\n",
      "└ @ Base loading.jl:1273\n",
      "ERROR: LoadError: LoadError: could not open file C:\\Users\\s151781\\.julia\\packages\\ForneyLab\\Hz4kD\\src\\engines\\julia\\update_rules\\dot_product.jl\n",
      "Stacktrace:\n",
      " [1] include at .\\boot.jl:328 [inlined]\n",
      " [2] include_relative(::Module, ::String) at .\\loading.jl:1105\n",
      " [3] include at .\\Base.jl:31 [inlined]\n",
      " [4] include(::String) at C:\\Users\\s151781\\.julia\\packages\\ForneyLab\\Hz4kD\\src\\ForneyLab.jl:1\n",
      " [5] top-level scope at C:\\Users\\s151781\\.julia\\packages\\ForneyLab\\Hz4kD\\src\\engines\\julia\\julia.jl:26\n",
      " [6] include at .\\boot.jl:328 [inlined]\n",
      " [7] include_relative(::Module, ::String) at .\\loading.jl:1105\n",
      " [8] include at .\\Base.jl:31 [inlined]\n",
      " [9] include(::String) at C:\\Users\\s151781\\.julia\\packages\\ForneyLab\\Hz4kD\\src\\ForneyLab.jl:1\n",
      " [10] top-level scope at C:\\Users\\s151781\\.julia\\packages\\ForneyLab\\Hz4kD\\src\\ForneyLab.jl:108\n",
      " [11] include at .\\boot.jl:328 [inlined]\n",
      " [12] include_relative(::Module, ::String) at .\\loading.jl:1105\n",
      " [13] include(::Module, ::String) at .\\Base.jl:31\n",
      " [14] top-level scope at none:2\n",
      " [15] eval at .\\boot.jl:330 [inlined]\n",
      " [16] eval(::Expr) at .\\client.jl:425\n",
      " [17] top-level scope at .\\none:3\n",
      "in expression starting at C:\\Users\\s151781\\.julia\\packages\\ForneyLab\\Hz4kD\\src\\engines\\julia\\julia.jl:26\n",
      "in expression starting at C:\\Users\\s151781\\.julia\\packages\\ForneyLab\\Hz4kD\\src\\ForneyLab.jl:108\n"
     ]
    },
    {
     "ename": "ErrorException",
     "evalue": "Failed to precompile ForneyLab [9fc3f58a-c2cc-5bff-9419-6a294fefdca9] to C:\\Users\\s151781\\.julia\\compiled\\v1.3\\ForneyLab\\Eacon_DT1kD.ji.",
     "output_type": "error",
     "traceback": [
      "Failed to precompile ForneyLab [9fc3f58a-c2cc-5bff-9419-6a294fefdca9] to C:\\Users\\s151781\\.julia\\compiled\\v1.3\\ForneyLab\\Eacon_DT1kD.ji.",
      "",
      "Stacktrace:",
      " [1] error(::String) at .\\error.jl:33",
      " [2] compilecache(::Base.PkgId, ::String) at .\\loading.jl:1283",
      " [3] _require(::Base.PkgId) at .\\loading.jl:1024",
      " [4] require(::Base.PkgId) at .\\loading.jl:922",
      " [5] require(::Module, ::Symbol) at .\\loading.jl:917",
      " [6] top-level scope at In[1]:1"
     ]
    }
   ],
   "source": [
    "using ForneyLab       # based on last official release\n",
    "using LinearAlgebra\n",
    "using Plots\n",
    "using PyPlot\n",
    "using ProgressMeter\n",
    "using Compat\n",
    "using WAV\n",
    "using Base64\n",
    "using FileIO\n",
    "using HDF5\n",
    "using FLAC\n",
    "using DSP\n",
    "using LAR\n",
    "using LAR.AR\n",
    "using LAR.DataAR\n",
    "using FFTW\n",
    "\n",
    "include(\"../functions/auxiliary/buffer.jl\")\n",
    "include(\"../functions/auxiliary/audioplayer.jl\")\n",
    "include(\"../functions/auxiliary/workflow.jl\")\n",
    "include(\"../functions/auxiliary/fourier.jl\")\n",
    "include(\"../functions/auxiliary/warpedfilter.jl\")\n",
    ";"
   ]
  },
  {
   "cell_type": "markdown",
   "metadata": {},
   "source": [
    "## Adjustable parameters"
   ]
  },
  {
   "cell_type": "code",
   "execution_count": 2,
   "metadata": {},
   "outputs": [
    {
     "ename": "UndefVarError",
     "evalue": "UndefVarError: rectangularwindow not defined",
     "output_type": "error",
     "traceback": [
      "UndefVarError: rectangularwindow not defined",
      "",
      "Stacktrace:",
      " [1] top-level scope at In[2]:8"
     ]
    }
   ],
   "source": [
    "# signal preprocessing\n",
    "sound_file = \"../data/obama.wav\"      # specify sound location\n",
    "fs_desired = 8000                 # specify desired sampling frequency\n",
    "\n",
    "# signal warping\n",
    "nr_taps_warped = 32                # number of taps of warped filter bank\n",
    "z_pole = 0.4092                    # pole location of all-pass filter segments (0.5756 ~ approximation Bark scale)\n",
    "window = rectangularwindow         # specify windowing function from fourier.jl file\n",
    "\n",
    "# inference and modelling\n",
    "bin = 8                            # specify which bin to model (should be between 1 and half `nr_taps_warped`)\n",
    "bin_c = \"real\"                     # specify whether to model the `real` or `imaginary` part\n",
    "AR_order = 1                       # order of auto-regressive model\n",
    "iterations = 10                     # number of iterations for variational message passing\n",
    "Λ_meas = 1e10                      # assumed precision of measurement noise\n",
    ";"
   ]
  },
  {
   "cell_type": "markdown",
   "metadata": {},
   "source": [
    "## Load data"
   ]
  },
  {
   "cell_type": "code",
   "execution_count": 3,
   "metadata": {},
   "outputs": [
    {
     "ename": "UndefVarError",
     "evalue": "UndefVarError: wavread not defined",
     "output_type": "error",
     "traceback": [
      "UndefVarError: wavread not defined",
      "",
      "Stacktrace:",
      " [1] top-level scope at In[3]:1"
     ]
    }
   ],
   "source": [
    "# load and process speech signal\n",
    "x_time, fs_time = wavread(sound_file, format=\"native\")\n",
    "fs_time = Int(fs_time)\n",
    "x_time = x_time[20*fs_time+1:23*fs_time]\n",
    "x_time = resample(x_time, fs_desired/fs_time)\n",
    "x_time = 100*x_time/var(x_time)\n",
    "\n",
    "# specify time axis\n",
    "t = collect((1:length(x_time))/fs_desired)\n",
    "\n",
    "# create audioplayer\n",
    "audioplayers(x_time, fs=fs_desired)\n",
    ";"
   ]
  },
  {
   "cell_type": "markdown",
   "metadata": {},
   "source": [
    "## Visualize data"
   ]
  },
  {
   "cell_type": "code",
   "execution_count": 4,
   "metadata": {},
   "outputs": [
    {
     "ename": "UndefVarError",
     "evalue": "UndefVarError: plt not defined",
     "output_type": "error",
     "traceback": [
      "UndefVarError: plt not defined",
      "",
      "Stacktrace:",
      " [1] top-level scope at In[4]:1"
     ]
    }
   ],
   "source": [
    "# create figure with subplots\n",
    "_, ax = plt.subplots(ncols=2, figsize=(15,5))\n",
    "\n",
    "# plot speech signal as a function of time\n",
    "ax[1].plot(t, x_time)\n",
    "\n",
    "# plot spectrogram of speech signal\n",
    "plot_spectrogram(spectrogram(x_time, convert(Int, 100e-3*fs_desired), convert(Int, 10e-3*fs_desired), fs=fs_desired), fs_desired, ax=ax[2])\n",
    "\n",
    "# visual modifications\n",
    "ax[1].grid(), ax[1].set_ylabel(\"x[t]\"), ax[1].set_xlabel(\"time [sec]\"), ax[1].set_title(\"speech signal\"), ax[2].set_title(\"spectrogram\")\n",
    ";"
   ]
  },
  {
   "cell_type": "markdown",
   "metadata": {},
   "source": [
    "## Warp signal and calculate warped frequency distribution"
   ]
  },
  {
   "cell_type": "code",
   "execution_count": 5,
   "metadata": {},
   "outputs": [
    {
     "ename": "UndefVarError",
     "evalue": "UndefVarError: x_time not defined",
     "output_type": "error",
     "traceback": [
      "UndefVarError: x_time not defined",
      "",
      "Stacktrace:",
      " [1] top-level scope at In[5]:3"
     ]
    }
   ],
   "source": [
    "# initialize memory vector of taps, Y, with zeros\n",
    "Y = zeros(nr_taps_warped*3,1)\n",
    "\n",
    "# initialize memory struct for filter taps and spectrum coefficients\n",
    "mem_taps = Array{Array{Float64,1}}(undef, length(x_time))\n",
    "mem_spec = Array{Complex{Float64},2}(undef, length(x_time), nr_taps_warped)\n",
    "\n",
    "# get update matrices as defined in thesis\n",
    "W, U = allpass_update_matrix(nr_taps_warped, z_pole)\n",
    "\n",
    "# loopt through time-domain signal\n",
    "for k = 1:length(x_time)\n",
    "    \n",
    "    # update memory vector of taps and taps themselves\n",
    "    Y, mem_taps[k] = allpass_update(x_time[k], Y, nr_taps_warped, z_pole, T=W, u=U)\n",
    "\n",
    "    # calculate windowed FFT of taps\n",
    "    mem_spec[k,:] = FFTW.fft(window(nr_taps_warped).*mem_taps[k])\n",
    "    \n",
    "end\n",
    "\n",
    "# discard frequency components concerning non-positive frequencies (are complex conjugate, because of real temporal signal)\n",
    "if nr_taps_warped%2 == 0\n",
    "    mem_spec = hcat(mem_spec[:, 2:Int(nr_taps_warped/2)], conj.(mem_spec[:, Int(nr_taps_warped/2)+1]))\n",
    "else\n",
    "    mem_spec = mem_spec[:, 2:Int(ceil(nr_taps_warped/2))]\n",
    "end\n",
    "\n",
    "# calculate real and imaginary parts of remaining frequency components\n",
    "mem_spec_real = real(mem_spec)\n",
    "mem_spec_imag = imag(mem_spec)\n",
    ";"
   ]
  },
  {
   "cell_type": "markdown",
   "metadata": {},
   "source": [
    "## Warped spectral distribution visualization"
   ]
  },
  {
   "cell_type": "code",
   "execution_count": 6,
   "metadata": {},
   "outputs": [
    {
     "ename": "UndefVarError",
     "evalue": "UndefVarError: mem_spec not defined",
     "output_type": "error",
     "traceback": [
      "UndefVarError: mem_spec not defined",
      "",
      "Stacktrace:",
      " [1] top-level scope at In[6]:1"
     ]
    }
   ],
   "source": [
    "# calculate power of spectral components\n",
    "mem_spec_pwr = 20*log10.(abs.(mem_spec))'\n",
    "\n",
    "# plot warped power spectrum\n",
    "plt.imshow(mem_spec_pwr, aspect=\"auto\", cmap=\"jet\", origin=\"lower\", extent=[t[1], t[end], 1, Int(floor(nr_taps_warped/2))]), plt.xlabel(\"time [sec]\"), plt.ylabel(\"frequency bin\"), plt.title(\"warped frequency power distribution\")\n",
    ";"
   ]
  },
  {
   "cell_type": "markdown",
   "metadata": {},
   "source": [
    "## Single bin visualization"
   ]
  },
  {
   "cell_type": "code",
   "execution_count": 7,
   "metadata": {},
   "outputs": [
    {
     "ename": "UndefVarError",
     "evalue": "UndefVarError: bin_c not defined",
     "output_type": "error",
     "traceback": [
      "UndefVarError: bin_c not defined",
      "",
      "Stacktrace:",
      " [1] top-level scope at In[7]:1"
     ]
    }
   ],
   "source": [
    "# select specified frequency bin\n",
    "if bin_c == \"real\"\n",
    "    spec_select = mem_spec_real[:, bin]\n",
    "else\n",
    "    spec_select = mem_spec_imag[:, bin]\n",
    "end\n",
    "\n",
    "# create subplots\n",
    "_, ax = plt.subplots(ncols=3, figsize=(15,5))\n",
    "\n",
    "# plot frequency component as a function of time\n",
    "ax[1].plot(t, spec_select)\n",
    "\n",
    "# plot frequency distribution of frequency component\n",
    "ax[2].plot(FFTW.fftfreq(length(spec_select), fs_desired), abs.(FFTW.fft(spec_select)))\n",
    "\n",
    "# plot spectrogram of speech signal\n",
    "plot_spectrogram(spectrogram(spec_select, convert(Int, 100e-3*fs_desired), convert(Int, 10e-3*fs_desired), fs=fs_desired), fs_desired, ax=ax[3])\n",
    "\n",
    "# change visuals\n",
    "ax[1].grid(), ax[1].set_xlabel(\"time [sec]\"), ax[1].set_ylabel(\"frequency component\"), ax[1].set_title(\"frequency component over time\"), ax[2].grid(), ax[2].set_xlabel(\"frequency [Hz]\"), ax[2].set_ylabel(\"magnitude\"), ax[2].set_title(\"frequency distribution of component\"), ax[3].set_title(\"spectrogram of frequency component\")\n",
    ";"
   ]
  },
  {
   "cell_type": "markdown",
   "metadata": {},
   "source": [
    "## Generative model and inference"
   ]
  },
  {
   "cell_type": "code",
   "execution_count": 8,
   "metadata": {},
   "outputs": [
    {
     "ename": "UndefVarError",
     "evalue": "UndefVarError: FactorGraph not defined",
     "output_type": "error",
     "traceback": [
      "UndefVarError: FactorGraph not defined",
      "",
      "Stacktrace:",
      " [1] top-level scope at In[8]:1"
     ]
    }
   ],
   "source": [
    "# create factor graphs\n",
    "fg = FactorGraph()\n",
    "\n",
    "# Switching\n",
    "@RV T ~ ForneyLab.Dirichlet(ones(3,3))\n",
    "@RV m1 ~ ForneyLab.GaussianMeanPrecision(randn(AR_order), 1e-5*Ic(AR_order))\n",
    "@RV w1 ~ ForneyLab.Wishart(tiny*diageye(AR_order), AR_order)\n",
    "@RV m2 ~ ForneyLab.GaussianMeanPrecision(zeros(AR_order), 1e10*Ic(AR_order))\n",
    "@RV w2 ~ ForneyLab.Wishart(huge*diageye(AR_order), AR_order)\n",
    "@RV m3 ~ ForneyLab.GaussianMeanPrecision(zeros(AR_order), 1e10*Ic(AR_order))\n",
    "@RV w3 ~ ForneyLab.Wishart(huge*diageye(AR_order), AR_order)\n",
    "\n",
    "@RV [id=:zprev] zprev ~ ForneyLab.Categorical(1/3*ones(3))\n",
    "\n",
    "@RV [id=:z] z ~ ForneyLab.Transition(zprev, T)\n",
    "\n",
    "# AR node\n",
    "@RV γ ~ ForneyLab.Gamma(placeholder(:a_γ), placeholder(:b_γ))\n",
    "#@RV θ ~ GaussianMeanPrecision(placeholder(:μ_θ, dims=(AR_order,)), placeholder(:Λ_θ, dims=(AR_order, AR_order)))\n",
    "@RV θ ~ GaussianMixture(z, m1, w1, m2, w2, m3, w3)\n",
    "@RV Sprev ~ GaussianMeanPrecision(placeholder(:μ_Sprev, dims=(AR_order,)), placeholder(:Λ_Sprev, dims=(AR_order, AR_order)))\n",
    "@RV S ~ LAR.AR.Autoregressive(θ, Sprev, γ)\n",
    "\n",
    "# selection and input\n",
    "d = zeros(AR_order)\n",
    "d[1] = 1\n",
    "@RV x ~ DotProduct(d, S)\n",
    "@RV v ~ GaussianMeanPrecision(0, Λ_meas)\n",
    "@RV y = x + v\n",
    "placeholder(y, :y)\n",
    "\n",
    "ForneyLab.draw(fg)\n",
    "ForneyLab.draw(fg, external_viewer=:default)\n",
    ";"
   ]
  },
  {
   "cell_type": "code",
   "execution_count": 9,
   "metadata": {},
   "outputs": [
    {
     "ename": "UndefVarError",
     "evalue": "UndefVarError: zprev not defined",
     "output_type": "error",
     "traceback": [
      "UndefVarError: zprev not defined",
      "",
      "Stacktrace:",
      " [1] top-level scope at In[9]:1"
     ]
    }
   ],
   "source": [
    "# specify recognition factorization and create algorithm\n",
    "q = RecognitionFactorization([zprev; z], T, m1, w1, m2, w2, m3, w3, θ, S, Sprev, γ, ids=[:z :T :m1 :w1 :m2 :w2 :m3 :w3 :θ :S :Sprev :γ])\n",
    "algo = compatibility_fix(variationalAlgorithm(q))\n",
    "\n",
    "# evaluate algorith \n",
    "eval(Meta.parse(algo))\n",
    ";"
   ]
  },
  {
   "cell_type": "code",
   "execution_count": 10,
   "metadata": {},
   "outputs": [
    {
     "ename": "UndefVarError",
     "evalue": "UndefVarError: Ic not defined",
     "output_type": "error",
     "traceback": [
      "UndefVarError: Ic not defined",
      "",
      "Stacktrace:",
      " [1] top-level scope at In[10]:4"
     ]
    }
   ],
   "source": [
    "# priors\n",
    "current_a_γ = 0.001\n",
    "current_b_γ = 0.001\n",
    "current_Λ_θ = 1e0*Ic(AR_order) #1e4*diagm(randn(AR_order))\n",
    "current_μ_θ = randn(AR_order)\n",
    "current_μ_Sprev = randn(AR_order)\n",
    "current_Λ_Sprev = 1e1*diagm(randn(AR_order))\n",
    "F_tot = []\n",
    "a_γ_tot = []\n",
    "b_γ_tot = []\n",
    "μ_S_tot = []\n",
    "Λ_S_tot = []\n",
    "μ_θ_tot = []\n",
    "Λ_θ_tot = []\n",
    "μ_pred = Float64[]\n",
    "μ_pred2 = Float64[]\n",
    "messages=Array{Message}(undef, 6)\n",
    "\n",
    "p = Progress(length(spec_select), 1, \"Observed \")\n",
    "marginals = Dict()\n",
    "\n",
    "marginals[:T] = vague(Dirichlet, (3,3))\n",
    "marginals[:m1] = ProbabilityDistribution(Multivariate, GaussianMeanPrecision, m=randn(AR_order), w=1e-5*Ic(AR_order))\n",
    "marginals[:w1] = ProbabilityDistribution(Wishart, v=tiny*diageye(AR_order), nu=AR_order)\n",
    "marginals[:m2] = ProbabilityDistribution(Multivariate, GaussianMeanPrecision, m=zeros(AR_order), w=1e5*Ic(AR_order))\n",
    "marginals[:w2] = ProbabilityDistribution(Wishart, v=tiny*diageye(AR_order), nu=AR_order)\n",
    "marginals[:m3] = ProbabilityDistribution(Multivariate, GaussianMeanPrecision, m=zeros(AR_order), w=1e5*Ic(AR_order))\n",
    "marginals[:w3] = ProbabilityDistribution(Wishart, v=tiny*diageye(AR_order), nu=AR_order)\n",
    "\n",
    "# loop through signal samples\n",
    "for sp in 1:length(spec_select)\n",
    "    \n",
    "    # update progress bar\n",
    "    update!(p, sp)\n",
    "    \n",
    "    # update marginals\n",
    "    marginals[:θ] = ProbabilityDistribution(Multivariate, GaussianMeanPrecision, m=current_μ_θ, w=current_Λ_θ)\n",
    "    marginals[:γ] = ProbabilityDistribution(Univariate, Gamma, a=current_a_γ, b=current_b_γ)\n",
    "    marginals[:Sprev] = ProbabilityDistribution(Multivariate, GaussianMeanPrecision, m=current_μ_Sprev, w=current_Λ_Sprev)\n",
    "\n",
    "    # perform VMP iterations\n",
    "    for it = 1:iterations\n",
    "        \n",
    "        # update data dictionary\n",
    "        data = Dict(:y => spec_select[sp],\n",
    "                    :μ_Sprev => current_μ_Sprev,\n",
    "                    :Λ_Sprev => current_Λ_Sprev,\n",
    "                    :a_γ => current_a_γ,\n",
    "                    :b_γ => current_b_γ)\n",
    "        \n",
    "        #marginals = Base.invokelatest(stepS!, data, marginals, messages)  \n",
    "\n",
    "        stepz!(data, marginals)\n",
    "        stepw1!(data, marginals)\n",
    "        stepw2!(data, marginals)\n",
    "        stepw3!(data, marginals)\n",
    "        stepm1!(data, marginals)\n",
    "        stepm2!(data, marginals)\n",
    "        stepm3!(data, marginals)\n",
    "        stepT!(data, marginals)\n",
    "        stepS!(data, marginals)\n",
    "        stepSprev!(data, marginals)\n",
    "        stepθ!(data, marginals)\n",
    "        stepγ!(data, marginals)\n",
    "        \n",
    "        # save new parameters\n",
    "        push!(a_γ_tot, marginals[:γ].params[:a])\n",
    "        push!(b_γ_tot, marginals[:γ].params[:b])\n",
    "        push!(μ_S_tot, ForneyLab.unsafeMean(marginals[:S])[1])\n",
    "        push!(Λ_S_tot, ForneyLab.unsafePrecision(marginals[:S])[1])\n",
    "        push!(μ_θ_tot, ForneyLab.unsafeMean(marginals[:θ]))\n",
    "        push!(Λ_θ_tot, ForneyLab.unsafePrecision(marginals[:θ]))\n",
    "        \n",
    "        # update current parameters\n",
    "        current_μ_θ = ForneyLab.unsafeMean(marginals[:θ])\n",
    "        current_Λ_θ = ForneyLab.unsafePrecision(marginals[:θ])\n",
    "        current_a_γ = marginals[:γ].params[:a]\n",
    "        current_b_γ = marginals[:γ].params[:b]\n",
    "        current_μ_Sprev = ForneyLab.unsafeMean(marginals[:Sprev])\n",
    "        current_Λ_Sprev = ForneyLab.unsafePrecision(marginals[:Sprev])\n",
    "    end\n",
    "    \n",
    "    current_μ_Sprev = ForneyLab.unsafeMean(marginals[:S])\n",
    "    current_Λ_Sprev = ForneyLab.unsafePrecision(marginals[:S])\n",
    "    \n",
    "    # perform 1 step prediction\n",
    "    push!(μ_pred, sum(current_μ_Sprev.*current_μ_θ))\n",
    "    #push!(μ_pred2, ForneyLab.unsafeMean(messages[3].dist))\n",
    "    \n",
    "end\n",
    ";"
   ]
  },
  {
   "cell_type": "markdown",
   "metadata": {},
   "source": [
    "## Visualize results of 1 step prediction"
   ]
  },
  {
   "cell_type": "code",
   "execution_count": 11,
   "metadata": {},
   "outputs": [
    {
     "ename": "UndefVarError",
     "evalue": "UndefVarError: plt not defined",
     "output_type": "error",
     "traceback": [
      "UndefVarError: plt not defined",
      "",
      "Stacktrace:",
      " [1] top-level scope at In[11]:1"
     ]
    }
   ],
   "source": [
    "# create figure \n",
    "_, ax = plt.subplots(ncols=2, figsize=(15,5))\n",
    "\n",
    "# plot true evolution of frequency component # add offset because prediction is only performed for second sample forwards\n",
    "ax[1].plot(t[2:end], spec_select[2:end], label=\"true\"), ax[2].plot(t[2:end], spec_select[2:end], label=\"true\") \n",
    "\n",
    "# plot prediction of frequency component\n",
    "ax[1].plot(t[2:end], μ_pred[1:end-1], label=\"prediction\"), ax[2].plot(t[2:end], μ_pred[1:end-1], label=\"prediction\")\n",
    "\n",
    "# change visualization\n",
    "ax[1].legend(), ax[1].grid(), ax[1].set_xlabel(\"time [sec]\"), ax[1].set_ylabel(\"frequency component\"), ax[1].set_title(\"entire evolution of frequency component\"), ax[1].set_xlim(0, 3)\n",
    "ax[2].legend(), ax[2].grid(), ax[2].set_xlabel(\"time [sec]\"), ax[2].set_ylabel(\"frequency component\"), ax[2].set_title(\"part of evolution of frequency component\")\n",
    "ax[2].set_xlim(2.1, 2.11), ax[2].set_ylim(-1.5,1.5), ax[1].set_ylim(-2.5, 2.5)\n",
    ";"
   ]
  },
  {
   "cell_type": "code",
   "execution_count": 12,
   "metadata": {},
   "outputs": [
    {
     "ename": "UndefVarError",
     "evalue": "UndefVarError: AR_order not defined",
     "output_type": "error",
     "traceback": [
      "UndefVarError: AR_order not defined",
      "",
      "Stacktrace:",
      " [1] top-level scope at In[12]:1"
     ]
    }
   ],
   "source": [
    "# loop through auto-regressive coefficients\n",
    "for ki = 1:AR_order\n",
    "    \n",
    "    # plot auto-regressive coefficients\n",
    "    plt.plot(t, [μ_θ_tot[k][ki] for k=1:iterations:length(μ_θ_tot)])\n",
    "    \n",
    "end\n",
    "\n",
    "# change visualization\n",
    "plt.grid(), plt.ylim(-1, 1), plt.xlim(0, 3), plt.xlabel(\"time [sec]\"), plt.ylabel(\"auto-regressive coefficients θ\"), plt.title(\"Evolution of auto-regressive coefficients\")\n",
    ";"
   ]
  },
  {
   "cell_type": "code",
   "execution_count": 13,
   "metadata": {},
   "outputs": [
    {
     "ename": "UndefVarError",
     "evalue": "UndefVarError: μ_θ_tot not defined",
     "output_type": "error",
     "traceback": [
      "UndefVarError: μ_θ_tot not defined",
      "",
      "Stacktrace:",
      " [1] (::var\"#5#6\")(::Float64) at .\\none:0",
      " [2] iterate at .\\generator.jl:47 [inlined]",
      " [3] collect(::Base.Generator{StepRangeLen{Float64,Base.TwicePrecision{Float64},Base.TwicePrecision{Float64}},var\"#5#6\"}) at .\\array.jl:622",
      " [4] top-level scope at In[13]:6"
     ]
    }
   ],
   "source": [
    "# specify range of normalized frequency\n",
    "theta = 0:pi/100:pi\n",
    "\n",
    "# approximate variance of process noise by mode\n",
    "pn_var = 1/((current_a_γ-1)/current_b_γ) \n",
    "\n",
    "# calculate analytical power spectral density of the evolution of the spectral coefficients\n",
    "psd = pn_var ./(abs.([sum(-append!([-1.], μ_θ_tot[end]).*exp.(-collect(0:AR_order)*1im.*th)) for th in theta]).^2)\n",
    "\n",
    "# create figure\n",
    "_, ax = plt.subplots(ncols=3, figsize=(15,4))\n",
    "\n",
    "# plot analytical solution of PSD\n",
    "ax[1].plot(theta, psd)\n",
    "\n",
    "# plot prediction of PSD\n",
    "ax[2].plot(FFTW.fftfreq(length(μ_pred[1:end-1]), fs_desired), (abs.(FFTW.fft(μ_pred[1:end-1])).^2)./length(μ_pred[1:end-1]))\n",
    "\n",
    "# plot FFT solution of PSD\n",
    "ax[3].plot(FFTW.fftfreq(length(spec_select), fs_desired), (abs.(FFTW.fft(spec_select)).^2)./length(spec_select))\n",
    "\n",
    "# change visualisation\n",
    "ax[1].grid(), ax[2].grid(), ax[3].grid(), ax[1].set_xlabel(\"relative frequency θ [rad]\"), ax[2].set_xlabel(\"frequency [Hz]\"), ax[3].set_xlabel(\"frequency [Hz]\"), ax[1].set_ylabel(\"power spectral density\"), ax[2].set_ylabel(\"power spectral density\"), ax[3].set_ylabel(\"power spectral density\"), ax[1].set_title(\"Found analytical solution\"), ax[2].set_title(\"Found solution\"), ax[3].set_title(\"True solution\"), ax[1].set_xlim(0, pi), ax[2].set_xlim(0, fs_desired/2), ax[3].set_xlim(0, fs_desired/2)\n",
    ";"
   ]
  },
  {
   "cell_type": "code",
   "execution_count": 14,
   "metadata": {},
   "outputs": [
    {
     "ename": "UndefVarError",
     "evalue": "UndefVarError: μ_θ_tot not defined",
     "output_type": "error",
     "traceback": [
      "UndefVarError: μ_θ_tot not defined",
      "",
      "Stacktrace:",
      " [1] (::var\"#7#8\")(::Float64) at .\\none:0",
      " [2] iterate at .\\generator.jl:47 [inlined]",
      " [3] collect(::Base.Generator{StepRangeLen{Float64,Base.TwicePrecision{Float64},Base.TwicePrecision{Float64}},var\"#7#8\"}) at .\\array.jl:622",
      " [4] top-level scope at In[14]:6"
     ]
    }
   ],
   "source": [
    "# specify range of normalized frequency\n",
    "theta = 0:pi/100:pi\n",
    "\n",
    "# approximate variance of process noise by mode\n",
    "pn_var = 1/((current_a_γ-1)/current_b_γ) \n",
    "\n",
    "# calculate analytical power spectral density of the evolution of the spectral coefficients\n",
    "psd = pn_var ./(abs.([sum(-append!([-1.], μ_θ_tot[end]).*exp.(-collect(0:AR_order)*1im.*th)) for th in theta]).^2)\n",
    "\n",
    "# create figure\n",
    "_, ax = plt.subplots(ncols=3, figsize=(15,4))\n",
    "\n",
    "# plot analytical solution of PSD\n",
    "ax[1].plot(theta, 10*log10.(psd))\n",
    "\n",
    "# plot prediction of PSD\n",
    "ax[2].plot(FFTW.fftfreq(length(μ_pred[1:end-1]), fs_desired), 10*log10.((abs.(FFTW.fft(μ_pred[1:end-1])).^2)./length(μ_pred[1:end-1])))\n",
    "\n",
    "# plot FFT solution of PSD\n",
    "ax[3].plot(FFTW.fftfreq(length(spec_select), fs_desired), 10*log10.((abs.(FFTW.fft(spec_select)).^2)./length(spec_select)))\n",
    "\n",
    "\n",
    "# change visualisation\n",
    "ax[1].grid(), ax[2].grid(), ax[3].grid(), ax[1].set_xlabel(\"relative frequency θ [rad]\"), ax[2].set_xlabel(\"frequency [Hz]\"), ax[3].set_xlabel(\"frequency [Hz]\"), ax[1].set_ylabel(\"power spectral density [dB]\"), ax[2].set_ylabel(\"unnormalized power spectral density [dB]\"), ax[3].set_ylabel(\"unnormalized power spectral density [dB]\"), ax[1].set_title(\"Found analytical solution\"), ax[2].set_title(\"Found solution\"), ax[3].set_title(\"True solution\"), ax[1].set_xlim(0, pi), ax[2].set_xlim(0, fs_desired/2), ax[3].set_xlim(0, fs_desired/2)\n",
    "ax[1].set_ylim(ax[3].get_ylim()[1], ax[3].get_ylim()[2])\n",
    "ax[1].set_ylim(-80, 20), ax[2].set_ylim(-80,20), ax[3].set_ylim(-80,20)\n",
    ";"
   ]
  }
 ],
 "metadata": {
  "kernelspec": {
   "display_name": "Julia 1.3.1",
   "language": "julia",
   "name": "julia-1.3"
  },
  "language_info": {
   "file_extension": ".jl",
   "mimetype": "application/julia",
   "name": "julia",
   "version": "1.3.1"
  }
 },
 "nbformat": 4,
 "nbformat_minor": 4
}
