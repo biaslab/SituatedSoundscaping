{
 "cells": [
  {
   "cell_type": "markdown",
   "metadata": {},
   "source": [
    "# GSMM mixture modelling with synthetic data"
   ]
  },
  {
   "cell_type": "markdown",
   "metadata": {},
   "source": [
    "## Import packages and functions"
   ]
  },
  {
   "cell_type": "code",
   "execution_count": 1,
   "metadata": {},
   "outputs": [
    {
     "name": "stdout",
     "output_type": "stream",
     "text": [
      "\u001b[32m\u001b[1mActivating\u001b[22m\u001b[39m environment at `C:\\Users\\s151781\\AppData\\Local\\Julia-1.3.1\\GN\\Project.toml`\n"
     ]
    }
   ],
   "source": [
    "import Pkg; Pkg.activate(\"C:/Users/s151781/AppData/Local/Julia-1.3.1/GN/Project.toml\")\n",
    "using Revise\n",
    "using FFTW\n",
    "using Compat\n",
    "using WAV\n",
    "using DSP\n",
    "using Base64\n",
    "using ForneyLab\n",
    "using LinearAlgebra\n",
    "using ProgressMeter\n",
    "using PyPlot\n",
    "using Clustering"
   ]
  },
  {
   "cell_type": "code",
   "execution_count": 2,
   "metadata": {},
   "outputs": [
    {
     "data": {
      "text/plain": [
       "em (generic function with 1 method)"
      ]
     },
     "execution_count": 2,
     "metadata": {},
     "output_type": "execute_result"
    }
   ],
   "source": [
    "include(\"../extensions/complex_gaussian.jl\")\n",
    "include(\"../extensions/hgf.jl\")\n",
    "include(\"../functions/auxiliary/workflow.jl\")\n"
   ]
  },
  {
   "cell_type": "markdown",
   "metadata": {},
   "source": [
    "## Generate data"
   ]
  },
  {
   "cell_type": "code",
   "execution_count": 3,
   "metadata": {},
   "outputs": [],
   "source": [
    "# generate data\n",
    "import Distributions: Normal, MvNormal, MixtureModel, Dirichlet\n",
    "nr_samples = 200\n",
    "nr_freqs = 5\n",
    "\n",
    "# simulate 2 clusters\n",
    "μ_ξi1 = 1.0*collect(1:1:1*nr_freqs)\n",
    "μ_ξi2 = 1.0*collect(2:2:2*nr_freqs)\n",
    "Σ_ξ = 1e-4*diagm(ones(nr_freqs))\n",
    "Σ_meas = 1e-10*diagm(ones(nr_freqs))\n",
    "\n",
    "# create arrays for samples\n",
    "cluster_id = Array{Int64,1}(undef, nr_samples)\n",
    "ξ_samples = Array{Array{Float64,1},1}(undef, nr_samples)\n",
    "X_samples = Array{Array{Complex{Float64},1},1}(undef, nr_samples)\n",
    "y_samples = Array{Array{Complex{Float64},1},1}(undef, nr_samples)\n",
    "\n",
    "for n = 1:nr_samples\n",
    "     \n",
    "    # create arrays for frequencies\n",
    "    ξ_samples[n] = Array{Float64,1}(undef, nr_freqs)\n",
    "    X_samples[n] = Array{Complex{Float64},1}(undef, nr_freqs)\n",
    "    y_samples[n] = Array{Complex{Float64},1}(undef, nr_freqs)\n",
    "    \n",
    "    # randomly pick cluster to get means from \n",
    "    cluster_id[n] = rand([1,2,2])\n",
    "    if cluster_id[n] == 1\n",
    "        μ_ξi = μ_ξi1\n",
    "    else\n",
    "        μ_ξi = μ_ξi2\n",
    "    end\n",
    "    \n",
    "    for k = 1:nr_freqs\n",
    "        sample_ξ = rand(Normal(μ_ξi[k], sqrt(Σ_ξ[k,k])))\n",
    "        sample_X = rand(Normal(0, sqrt(0.5*exp(sample_ξ)))) + 1im*rand(Normal(0, sqrt(0.5*exp(sample_ξ))))\n",
    "        sample_y = rand(Normal(real(sample_X), sqrt(0.5*Σ_meas[k,k]))) + 1im*rand(Normal(imag(sample_X), sqrt(0.5*Σ_meas[k,k])))\n",
    "\n",
    "        ξ_samples[n][k] = sample_ξ\n",
    "        X_samples[n][k] = sample_X\n",
    "        y_samples[n][k] = sample_y\n",
    "    end\n",
    "end\n",
    "\n",
    "t = collect(1:nr_samples)\n",
    "Y = y_samples;"
   ]
  },
  {
   "cell_type": "markdown",
   "metadata": {},
   "source": [
    "# Building graph"
   ]
  },
  {
   "cell_type": "code",
   "execution_count": 4,
   "metadata": {},
   "outputs": [
    {
     "data": {
      "text/plain": [
       "5×2 Array{Float64,2}:\n",
       " 0.601493  1.35616\n",
       " 1.56028   3.40423\n",
       " 2.47426   5.55853\n",
       " 3.47362   7.41512\n",
       " 4.5188    9.40689"
      ]
     },
     "execution_count": 4,
     "metadata": {},
     "output_type": "execute_result"
    }
   ],
   "source": [
    "# initialization:\n",
    "\n",
    "# reshape Y\n",
    "Yi = hcat(Y...)\n",
    "\n",
    "# approximate with log-power\n",
    "Yi = log.(abs2.(Yi))\n",
    "\n",
    "# perform kmeans clustering\n",
    "prior_m = kmeans(Yi,2).centers"
   ]
  },
  {
   "cell_type": "code",
   "execution_count": 5,
   "metadata": {},
   "outputs": [],
   "source": [
    "#nr_freqs = dimension\n",
    "\n",
    "nr_clusters = 2\n",
    "\n",
    "fg = FactorGraph()\n",
    "α = 1\n",
    "# Specify generative model\n",
    "@RV _pi ~ ForneyLab.Beta(α, α)\n",
    "@RV w_1 ~ Wishart(diagm(ones(nr_freqs)), nr_freqs+2)\n",
    "@RV m_1 ~ GaussianMeanPrecision(prior_m[:,1], w_1)\n",
    "@RV w_2 ~ Wishart(diagm(ones(nr_freqs)), nr_freqs+2)\n",
    "@RV m_2 ~ GaussianMeanPrecision(prior_m[:,2], w_2)\n",
    "\n",
    "z = Vector{Variable}(undef, nr_samples)\n",
    "ξ = Vector{Variable}(undef, nr_samples)\n",
    "X = Vector{Variable}(undef, nr_samples)\n",
    "y = Vector{Variable}(undef, nr_samples)\n",
    "for i in 1:nr_samples\n",
    "    @RV z[i] ~ Bernoulli(_pi)\n",
    "    @RV ξ[i] ~ GaussianMixture(z[i], m_1, w_1, m_2, w_2)\n",
    "    # HGF\n",
    "    @RV X[i] ~ HGF(ξ[i])\n",
    "\n",
    "    # observation model\n",
    "    @RV y[i] ~ ComplexNormal(X[i], 1e-10*diagm(ones(nr_freqs)).+0im, mat(0.0+0.0im))\n",
    "    \n",
    "    \n",
    "    placeholder(y[i], :y, index=i, dims=(nr_freqs,))\n",
    "end\n",
    "# draw graph\n",
    "# ForneyLab.draw(fg)"
   ]
  },
  {
   "cell_type": "code",
   "execution_count": 6,
   "metadata": {},
   "outputs": [],
   "source": [
    "# Build the algorithm\n",
    "q = PosteriorFactorization(_pi, m_1, w_1, m_2, w_2, z, X, ξ, ids=[:PI :M1 :W1 :M2 :W2 :Z :X :Ξ])\n",
    "algo = variationalAlgorithm(q)\n",
    "\n",
    "# Generate source code\n",
    "source_code = algorithmSourceCode(algo);\n",
    "\n",
    "# Load algorithm\n",
    "eval(Meta.parse(source_code));"
   ]
  },
  {
   "cell_type": "code",
   "execution_count": 7,
   "metadata": {},
   "outputs": [],
   "source": [
    "data = Dict(:y => Y)\n",
    "\n",
    "# Prepare posterior factors\n",
    "marginals = Dict(:_pi => vague(ForneyLab.Beta),\n",
    "                 :m_1 => ProbabilityDistribution(Multivariate, GaussianMeanPrecision, m=prior_m[:,1], w=1e0*diagm(ones(nr_freqs))),\n",
    "                 :w_1 => ProbabilityDistribution(MatrixVariate, ForneyLab.Wishart, v=1e0*diagm(ones(nr_freqs)), nu=nr_freqs),\n",
    "                 :m_2 => ProbabilityDistribution(Multivariate, GaussianMeanPrecision, m=prior_m[:,2], w=1e0*diagm(ones(nr_freqs))),\n",
    "                 :w_2 => ProbabilityDistribution(MatrixVariate, ForneyLab.Wishart, v=1e0*diagm(ones(nr_freqs)), nu=nr_freqs))\n",
    "for i in 1:nr_samples\n",
    "    marginals[:z_*i] = vague(Bernoulli)\n",
    "    marginals[:X_*i] = ProbabilityDistribution(Multivariate, ComplexNormal, μ=zeros(nr_freqs) .+ 0.0im, Γ=1e-10*diagm(ones(nr_freqs)).+0im, C=mat(0.0+0.0im));\n",
    "    marginals[:ξ_*i] = ProbabilityDistribution(ForneyLab.Multivariate, GaussianMeanVariance, m=zeros(nr_freqs), v=diagm(ones(nr_freqs)))\n",
    "end\n",
    "\n"
   ]
  },
  {
   "cell_type": "code",
   "execution_count": 8,
   "metadata": {},
   "outputs": [
    {
     "name": "stderr",
     "output_type": "stream",
     "text": [
      "\u001b[32mProgress: 100%|█████████████████████████████████████████| Time: 0:01:07\u001b[39mTA: 0:01:42\u001b[39m\n"
     ]
    }
   ],
   "source": [
    "# Execute algorithm\n",
    "nr_its = 10\n",
    "@showprogress for i in 1:nr_its\n",
    "    stepX!(data, marginals)\n",
    "    stepΞ!(data, marginals)\n",
    "    stepZ!(data, marginals)\n",
    "    stepPI!(data, marginals)\n",
    "    stepM1!(data, marginals)\n",
    "    stepW1!(data, marginals)\n",
    "    stepM2!(data, marginals)\n",
    "    stepW2!(data, marginals)  \n",
    "end"
   ]
  },
  {
   "cell_type": "code",
   "execution_count": 9,
   "metadata": {},
   "outputs": [
    {
     "data": {
      "text/plain": [
       "Beta(a=73.00, b=1.29e+02)\n"
      ]
     },
     "execution_count": 9,
     "metadata": {},
     "output_type": "execute_result"
    }
   ],
   "source": [
    "marginals[:_pi]"
   ]
  },
  {
   "cell_type": "code",
   "execution_count": 10,
   "metadata": {},
   "outputs": [
    {
     "data": {
      "text/plain": [
       "5×2 Array{Float64,2}:\n",
       " 0.601493  1.35616\n",
       " 1.56028   3.40423\n",
       " 2.47426   5.55853\n",
       " 3.47362   7.41512\n",
       " 4.5188    9.40689"
      ]
     },
     "execution_count": 10,
     "metadata": {},
     "output_type": "execute_result"
    }
   ],
   "source": [
    "# these are the means as determined by the k-means algorithm\n",
    "prior_m"
   ]
  },
  {
   "cell_type": "code",
   "execution_count": 11,
   "metadata": {},
   "outputs": [
    {
     "data": {
      "text/plain": [
       "5-element Array{Float64,1}:\n",
       " 0.6444885996907452\n",
       " 1.542159808524552 \n",
       " 2.4189260770136363\n",
       " 3.4820824644918966\n",
       " 4.601710222498747 "
      ]
     },
     "execution_count": 11,
     "metadata": {},
     "output_type": "execute_result"
    }
   ],
   "source": [
    "# Ideally 1:5 or 2:2:10 (depending on cluster assignment, fixed offset of HGF is present)\n",
    "ForneyLab.unsafeMean(marginals[:m_1])"
   ]
  },
  {
   "cell_type": "code",
   "execution_count": 12,
   "metadata": {},
   "outputs": [
    {
     "data": {
      "text/plain": [
       "5-element Array{Float64,1}:\n",
       " 1.3072993489529658\n",
       " 3.351015483328147 \n",
       " 5.420812984477029 \n",
       " 7.281519839722426 \n",
       " 9.259465467831184 "
      ]
     },
     "execution_count": 12,
     "metadata": {},
     "output_type": "execute_result"
    }
   ],
   "source": [
    "# Ideally 1:5 or 2:2:10 (depending on cluster assignment, fixed offset of HGF is present)\n",
    "ForneyLab.unsafeMean(marginals[:m_2])"
   ]
  },
  {
   "cell_type": "code",
   "execution_count": 13,
   "metadata": {},
   "outputs": [
    {
     "data": {
      "image/png": "[encoded data removed]",
      "text/plain": [
       "Figure(PyObject <Figure size 640x480 with 1 Axes>)"
      ]
     },
     "metadata": {},
     "output_type": "display_data"
    },
    {
     "data": {
      "text/plain": [
       "PyObject <matplotlib.collections.PathCollection object at 0x0000000002252E80>"
      ]
     },
     "execution_count": 13,
     "metadata": {},
     "output_type": "execute_result"
    }
   ],
   "source": [
    "# scatter plot of true cluster assignemtns\n",
    "plt.scatter(t,cluster_id)"
   ]
  },
  {
   "cell_type": "code",
   "execution_count": 14,
   "metadata": {},
   "outputs": [
    {
     "data": {
      "image/png": "[encoded data removed]",
      "text/plain": [
       "Figure(PyObject <Figure size 640x480 with 1 Axes>)"
      ]
     },
     "metadata": {},
     "output_type": "display_data"
    },
    {
     "data": {
      "text/plain": [
       "([71.0, 0.0, 0.0, 0.0, 0.0, 0.0, 0.0, 0.0, 0.0, 129.0], [1.0, 1.1, 1.2, 1.3, 1.4, 1.5, 1.6, 1.7000000000000002, 1.8, 1.9, 2.0], PyCall.PyObject[PyObject <matplotlib.patches.Rectangle object at 0x00000000022F3BA8>, PyObject <matplotlib.patches.Rectangle object at 0x00000000022F3978>, PyObject <matplotlib.patches.Rectangle object at 0x00000000022FD1D0>, PyObject <matplotlib.patches.Rectangle object at 0x00000000022FD518>, PyObject <matplotlib.patches.Rectangle object at 0x00000000022FD860>, PyObject <matplotlib.patches.Rectangle object at 0x00000000022FDBA8>, PyObject <matplotlib.patches.Rectangle object at 0x00000000022FDEF0>, PyObject <matplotlib.patches.Rectangle object at 0x000000000230A278>, PyObject <matplotlib.patches.Rectangle object at 0x000000000230A5C0>, PyObject <matplotlib.patches.Rectangle object at 0x000000000230A908>])"
      ]
     },
     "execution_count": 14,
     "metadata": {},
     "output_type": "execute_result"
    }
   ],
   "source": [
    "# histogram of cluster assignments\n",
    "plt.hist(cluster_id)"
   ]
  },
  {
   "cell_type": "code",
   "execution_count": 19,
   "metadata": {},
   "outputs": [],
   "source": [
    "# inferred cluster assignments\n",
    "z_inferred = [Int(round(marginals[:z_*k].params[:p])) for k = 1:nr_samples];"
   ]
  },
  {
   "cell_type": "code",
   "execution_count": 20,
   "metadata": {},
   "outputs": [
    {
     "data": {
      "image/png": "[encoded data removed]",
      "text/plain": [
       "Figure(PyObject <Figure size 640x480 with 1 Axes>)"
      ]
     },
     "metadata": {},
     "output_type": "display_data"
    },
    {
     "data": {
      "text/plain": [
       "PyObject <matplotlib.collections.PathCollection object at 0x0000000002617470>"
      ]
     },
     "execution_count": 20,
     "metadata": {},
     "output_type": "execute_result"
    }
   ],
   "source": [
    "# scatter plot of inferred cluster assignments\n",
    "plt.scatter(t,z_inferred)"
   ]
  },
  {
   "cell_type": "code",
   "execution_count": 25,
   "metadata": {},
   "outputs": [
    {
     "data": {
      "text/plain": [
       "2×2 Array{Int64,2}:\n",
       "   0  71\n",
       " 128   1"
      ]
     },
     "execution_count": 25,
     "metadata": {},
     "output_type": "execute_result"
    }
   ],
   "source": [
    "function confusmat(k::Integer, gts::Array{Int64,1}, preds::Array{Int64,1})\n",
    "    # borrowed from MLBase\n",
    "    n = length(gts)\n",
    "    length(preds) == n || throw(DimensionMismatch(\"Inconsistent lengths.\"))\n",
    "    R = zeros(Int, k, k)\n",
    "    for i = 1:n\n",
    "        @inbounds g = gts[i]\n",
    "        @inbounds p = preds[i]\n",
    "        R[g, p] += 1\n",
    "    end\n",
    "    return R\n",
    "end\n",
    "\n",
    "confusmat(nr_clusters, cluster_id .- minimum(cluster_id) .+ 1, z_inferred .- minimum(z_inferred) .+ 1)"
   ]
  }
 ],
 "metadata": {
  "kernelspec": {
   "display_name": "Julia 1.3.1",
   "language": "julia",
   "name": "julia-1.3"
  },
  "language_info": {
   "file_extension": ".jl",
   "mimetype": "application/julia",
   "name": "julia",
   "version": "1.3.1"
  }
 },
 "nbformat": 4,
 "nbformat_minor": 4
}
