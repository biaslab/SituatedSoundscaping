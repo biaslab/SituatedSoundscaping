{
 "cells": [
  {
   "cell_type": "markdown",
   "metadata": {},
   "source": [
    "# GSMM mixture modelling with synthetic data"
   ]
  },
  {
   "cell_type": "markdown",
   "metadata": {},
   "source": [
    "## Import packages and functions"
   ]
  },
  {
   "cell_type": "code",
   "execution_count": 1,
   "metadata": {},
   "outputs": [
    {
     "name": "stdout",
     "output_type": "stream",
     "text": [
      "\u001b[32m\u001b[1mActivating\u001b[22m\u001b[39m environment at `C:\\Users\\s151781\\AppData\\Local\\Julia-1.3.1\\GN\\Project.toml`\n"
     ]
    }
   ],
   "source": [
    "import Pkg; Pkg.activate(\"C:/Users/s151781/AppData/Local/Julia-1.3.1/GN/Project.toml\")\n",
    "using Revise\n",
    "using FFTW\n",
    "using Compat\n",
    "using WAV\n",
    "using DSP\n",
    "using Base64\n",
    "using ForneyLab\n",
    "using LinearAlgebra\n",
    "using ProgressMeter\n",
    "using PyPlot\n",
    "using Clustering"
   ]
  },
  {
   "cell_type": "code",
   "execution_count": 5,
   "metadata": {},
   "outputs": [],
   "source": [
    "include(\"../extensions/ComplexNormal.jl\")\n",
    "include(\"../extensions/ComplexHGF.jl\")\n",
    "include(\"../extensions/ComplexToReal.jl\")\n",
    "include(\"../functions/auxiliary/workflow.jl\") # for some workflow simplifications\n",
    ";"
   ]
  },
  {
   "cell_type": "markdown",
   "metadata": {},
   "source": [
    "## Generate data"
   ]
  },
  {
   "cell_type": "code",
   "execution_count": 6,
   "metadata": {},
   "outputs": [
    {
     "ename": "UndefVarError",
     "evalue": "UndefVarError: μ_ξi2 not defined",
     "output_type": "error",
     "traceback": [
      "UndefVarError: μ_ξi2 not defined",
      "",
      "Stacktrace:",
      " [1] top-level scope at .\\In[6]:32"
     ]
    }
   ],
   "source": [
    "# data generation parameters\n",
    "nr_samples = 200\n",
    "nr_freqs = 5 \n",
    "nr_clusters = 7\n",
    "\n",
    "# import sampling functions\n",
    "import Distributions: Normal, MvNormal, MixtureModel, Dirichlet\n",
    "\n",
    "# set means of ξ for the different clusters\n",
    "μ_ξ = vcat([collect(k:k:k*nr_freqs) for k = 1:nr_clusters])\n",
    "Σ_ξ = 1e-4*Ic(nr_freqs)\n",
    "Σ_meas = 1e-10*Ic(nr_freqs)\n",
    "\n",
    "# create arrays over samples\n",
    "cluster_id = Array{Int64,1}(undef, nr_samples)\n",
    "ξ_samples = Array{Array{Float64,1},1}(undef, nr_samples)\n",
    "X_samples = Array{Array{Complex{Float64},1},1}(undef, nr_samples)\n",
    "y_samples = Array{Array{Complex{Float64},1},1}(undef, nr_samples)\n",
    "\n",
    "# generate samples independent from each other\n",
    "for n = 1:nr_samples\n",
    "     \n",
    "    # create arrays over frequencies\n",
    "    ξ_samples[n] = Array{Float64,1}(undef, nr_freqs)\n",
    "    X_samples[n] = Array{Complex{Float64},1}(undef, nr_freqs)\n",
    "    y_samples[n] = Array{Complex{Float64},1}(undef, nr_freqs)\n",
    "    \n",
    "    # randomly pick cluster to get means from \n",
    "    cluster_id[n] = rand(collect(1:nr_clusters))\n",
    "    μ_ξi = μ[cluster_id[n]]\n",
    "    \n",
    "    # calculate samples fro frequencies\n",
    "    for k = 1:nr_freqs\n",
    "        \n",
    "        # generate samples\n",
    "        sample_ξ = rand(Normal(μ_ξi[k], sqrt(Σ_ξ[k,k])))\n",
    "        sample_X = rand(Normal(0, sqrt(0.5*exp(sample_ξ)))) + 1im*rand(Normal(0, sqrt(0.5*exp(sample_ξ))))\n",
    "        sample_y = rand(Normal(real(sample_X), sqrt(0.5*Σ_meas[k,k]))) + 1im*rand(Normal(imag(sample_X), sqrt(0.5*Σ_meas[k,k])))\n",
    "\n",
    "        # save samples\n",
    "        ξ_samples[n][k] = sample_ξ\n",
    "        X_samples[n][k] = sample_X\n",
    "        y_samples[n][k] = sample_y\n",
    "        \n",
    "    end\n",
    "    \n",
    "end\n",
    "\n",
    "t = collect(1:nr_samples)\n",
    "Y = y_samples;"
   ]
  },
  {
   "cell_type": "markdown",
   "metadata": {},
   "source": [
    "# Building graph"
   ]
  },
  {
   "cell_type": "code",
   "execution_count": 4,
   "metadata": {},
   "outputs": [
    {
     "data": {
      "text/plain": [
       "5×3 Array{Float64,2}:\n",
       " 0.392998   2.45901  1.21974\n",
       " 1.71851    5.31288  3.42602\n",
       " 2.65035    8.43273  5.52626\n",
       " 3.50981   11.2986   7.30464\n",
       " 4.08299   14.556    9.45059"
      ]
     },
     "execution_count": 4,
     "metadata": {},
     "output_type": "execute_result"
    }
   ],
   "source": [
    "# initialization:\n",
    "\n",
    "# reshape Y\n",
    "Yi = hcat(Y...)\n",
    "\n",
    "# approximate with log-power\n",
    "Yi = log.(abs2.(Yi))\n",
    "\n",
    "# perform kmeans clustering\n",
    "prior_m = kmeans(Yi,3).centers"
   ]
  },
  {
   "cell_type": "code",
   "execution_count": 5,
   "metadata": {},
   "outputs": [],
   "source": [
    "#nr_freqs = dimension\n",
    "\n",
    "nr_clusters = 3\n",
    "\n",
    "fg = FactorGraph()\n",
    "α = 1.0\n",
    "# Specify generative model\n",
    "@RV _pi ~ ForneyLab.Dirichlet(α*ones(nr_clusters))\n",
    "@RV w_1 ~ Wishart(diagm(ones(nr_freqs))/(nr_freqs), nr_freqs)\n",
    "@RV m_1 ~ GaussianMeanPrecision(prior_m[:,1], w_1)\n",
    "@RV w_2 ~ Wishart(diagm(ones(nr_freqs))/(nr_freqs), nr_freqs)\n",
    "@RV m_2 ~ GaussianMeanPrecision(prior_m[:,2], w_2)\n",
    "@RV w_3 ~ Wishart(diagm(ones(nr_freqs))/(nr_freqs), nr_freqs)\n",
    "@RV m_3 ~ GaussianMeanPrecision(prior_m[:,3], w_3)\n",
    "\n",
    "z = Vector{Variable}(undef, nr_samples)\n",
    "ξ = Vector{Variable}(undef, nr_samples)\n",
    "X = Vector{Variable}(undef, nr_samples)\n",
    "y = Vector{Variable}(undef, nr_samples)\n",
    "for i in 1:nr_samples\n",
    "    @RV z[i] ~ Categorical(_pi)\n",
    "    @RV ξ[i] ~ GaussianMixture(z[i], m_1, w_1, m_2, w_2, m_3, w_3)\n",
    "    # HGF\n",
    "    @RV X[i] ~ HGF(ξ[i])\n",
    "\n",
    "    # observation model\n",
    "    @RV y[i] ~ ComplexNormal(X[i], 1e-10*diagm(ones(nr_freqs)).+0im, mat(0.0+0.0im))\n",
    "    \n",
    "    \n",
    "    placeholder(y[i], :y, index=i, dims=(nr_freqs,))\n",
    "end\n",
    "# draw graph\n",
    "# ForneyLab.draw(fg)"
   ]
  },
  {
   "cell_type": "code",
   "execution_count": 7,
   "metadata": {},
   "outputs": [],
   "source": [
    "# Build the algorithm\n",
    "q = PosteriorFactorization(_pi, m_1, w_1, m_2, w_2, m_3, w_3, z, X, ξ, ids=[:PI :M1 :W1 :M2 :W2 :M3 :W3 :Z :X :Ξ])\n",
    "algo = variationalAlgorithm(q)\n",
    "\n",
    "# Generate source code\n",
    "source_code = algorithmSourceCode(algo);\n",
    "\n",
    "# Load algorithm\n",
    "eval(Meta.parse(source_code));"
   ]
  },
  {
   "cell_type": "code",
   "execution_count": 8,
   "metadata": {},
   "outputs": [],
   "source": [
    "data = Dict(:y => Y)\n",
    "\n",
    "# Prepare posterior factors\n",
    "marginals = Dict(:_pi => vague(ForneyLab.Dirichlet, nr_clusters),\n",
    "                 :m_1 => ProbabilityDistribution(Multivariate, GaussianMeanPrecision, m=prior_m[:,1], w=1e0*diagm(ones(nr_freqs))/nr_freqs),\n",
    "                 :w_1 => ProbabilityDistribution(MatrixVariate, ForneyLab.Wishart, v=1e0*diagm(ones(nr_freqs))/nr_freqs, nu=nr_freqs),\n",
    "                 :m_2 => ProbabilityDistribution(Multivariate, GaussianMeanPrecision, m=prior_m[:,2], w=1e0*diagm(ones(nr_freqs))/nr_freqs),\n",
    "                 :w_2 => ProbabilityDistribution(MatrixVariate, ForneyLab.Wishart, v=1e0*diagm(ones(nr_freqs))/nr_freqs, nu=nr_freqs),\n",
    "                 :m_3 => ProbabilityDistribution(Multivariate, GaussianMeanPrecision, m=prior_m[:,3], w=1e0*diagm(ones(nr_freqs))/nr_freqs),\n",
    "                 :w_3 => ProbabilityDistribution(MatrixVariate, ForneyLab.Wishart, v=1e0*diagm(ones(nr_freqs))/nr_freqs, nu=nr_freqs))\n",
    "for i in 1:nr_samples\n",
    "    marginals[:z_*i] = vague(Categorical)\n",
    "    marginals[:X_*i] = ProbabilityDistribution(Multivariate, ComplexNormal, μ=zeros(nr_freqs) .+ 0.0im, Γ=1e10*diagm(ones(nr_freqs)).+0im, C=mat(0.0+0.0im));\n",
    "    marginals[:ξ_*i] = ProbabilityDistribution(ForneyLab.Multivariate, GaussianMeanVariance, m=zeros(nr_freqs), v=diagm(ones(nr_freqs)))\n",
    "end\n",
    "\n"
   ]
  },
  {
   "cell_type": "code",
   "execution_count": 9,
   "metadata": {},
   "outputs": [
    {
     "name": "stderr",
     "output_type": "stream",
     "text": [
      "\u001b[32mProgress: 100%|█████████████████████████████████████████| Time: 0:01:37\u001b[39m\n"
     ]
    }
   ],
   "source": [
    "# Execute algorithm\n",
    "nr_its = 10\n",
    "@showprogress for i in 1:nr_its\n",
    "    stepX!(data, marginals)\n",
    "    stepΞ!(data, marginals)\n",
    "    stepZ!(data, marginals)\n",
    "    stepPI!(data, marginals) \n",
    "    stepM1!(data, marginals)\n",
    "    stepW1!(data, marginals)\n",
    "    stepM2!(data, marginals)\n",
    "    stepW2!(data, marginals) \n",
    "    stepM3!(data, marginals)\n",
    "    stepW3!(data, marginals)  \n",
    "end"
   ]
  },
  {
   "cell_type": "code",
   "execution_count": 21,
   "metadata": {},
   "outputs": [
    {
     "data": {
      "text/plain": [
       "3×3 Array{Int64,2}:\n",
       " 73   0   0\n",
       "  1   0  63\n",
       "  0  61   2"
      ]
     },
     "execution_count": 21,
     "metadata": {},
     "output_type": "execute_result"
    }
   ],
   "source": [
    "function confusmat(k::Integer, gts::Array{Int64,1}, preds::Array{Int64,1})\n",
    "    # borrowed from MLBase\n",
    "    n = length(gts)\n",
    "    length(preds) == n || throw(DimensionMismatch(\"Inconsistent lengths.\"))\n",
    "    R = zeros(Int, k, k)\n",
    "    for i = 1:n\n",
    "        @inbounds g = gts[i]\n",
    "        @inbounds p = preds[i]\n",
    "        R[g, p] += 1\n",
    "    end\n",
    "    return R\n",
    "end\n",
    "\n",
    "confusmat(nr_clusters, cluster_id .- minimum(cluster_id) .+ 1, z_inferred .- minimum(z_inferred) .+ 1)"
   ]
  }
 ],
 "metadata": {
  "kernelspec": {
   "display_name": "Julia 1.3.1",
   "language": "julia",
   "name": "julia-1.3"
  },
  "language_info": {
   "file_extension": ".jl",
   "mimetype": "application/julia",
   "name": "julia",
   "version": "1.3.1"
  }
 },
 "nbformat": 4,
 "nbformat_minor": 4
}
