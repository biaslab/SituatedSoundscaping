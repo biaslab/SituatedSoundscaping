{
 "cells": [
  {
   "cell_type": "markdown",
   "metadata": {},
   "source": [
    "# GSMM mixture modelling with synthetic data"
   ]
  },
  {
   "cell_type": "markdown",
   "metadata": {},
   "source": [
    "## Import packages and functions"
   ]
  },
  {
   "cell_type": "code",
   "execution_count": 31,
   "metadata": {},
   "outputs": [
    {
     "name": "stdout",
     "output_type": "stream",
     "text": [
      "\u001b[32m\u001b[1mActivating\u001b[22m\u001b[39m environment at `C:\\Users\\s151781\\AppData\\Local\\Julia-1.3.1\\GN\\Project.toml`\n"
     ]
    }
   ],
   "source": [
    "import Pkg; Pkg.activate(\"C:/Users/s151781/AppData/Local/Julia-1.3.1/GN/Project.toml\")\n",
    "using Revise\n",
    "using FFTW\n",
    "using Compat\n",
    "using WAV\n",
    "using DSP\n",
    "using Base64\n",
    "using ForneyLab\n",
    "using LinearAlgebra\n",
    "using ProgressMeter\n",
    "using PyPlot\n",
    "using Clustering"
   ]
  },
  {
   "cell_type": "code",
   "execution_count": 2,
   "metadata": {},
   "outputs": [
    {
     "data": {
      "text/plain": [
       "em (generic function with 1 method)"
      ]
     },
     "execution_count": 2,
     "metadata": {},
     "output_type": "execute_result"
    }
   ],
   "source": [
    "include(\"../extensions/complex_gaussian.jl\")\n",
    "include(\"../extensions/hgf.jl\")\n",
    "include(\"../functions/auxiliary/workflow.jl\")\n"
   ]
  },
  {
   "cell_type": "markdown",
   "metadata": {},
   "source": [
    "## Generate data"
   ]
  },
  {
   "cell_type": "code",
   "execution_count": 3,
   "metadata": {},
   "outputs": [],
   "source": [
    "# generate data\n",
    "import Distributions: Normal, MvNormal, MixtureModel, Dirichlet\n",
    "nr_samples = 200\n",
    "nr_freqs = 5\n",
    "\n",
    "# simulate 3 clusters\n",
    "μ_ξi1 = 1.0*collect(1:1:1*nr_freqs)\n",
    "μ_ξi2 = 1.0*collect(2:2:2*nr_freqs)\n",
    "μ_ξi3 = 1.0*collect(3:3:3*nr_freqs)\n",
    "Σ_ξ = 1e-4*diagm(ones(nr_freqs))\n",
    "Σ_meas = 1e-10*diagm(ones(nr_freqs))\n",
    "\n",
    "# create arrays for samples\n",
    "cluster_id = Array{Int64,1}(undef, nr_samples)\n",
    "ξ_samples = Array{Array{Float64,1},1}(undef, nr_samples)\n",
    "X_samples = Array{Array{Complex{Float64},1},1}(undef, nr_samples)\n",
    "y_samples = Array{Array{Complex{Float64},1},1}(undef, nr_samples)\n",
    "\n",
    "for n = 1:nr_samples\n",
    "     \n",
    "    # create arrays for frequencies\n",
    "    ξ_samples[n] = Array{Float64,1}(undef, nr_freqs)\n",
    "    X_samples[n] = Array{Complex{Float64},1}(undef, nr_freqs)\n",
    "    y_samples[n] = Array{Complex{Float64},1}(undef, nr_freqs)\n",
    "    \n",
    "    # randomly pick cluster to get means from \n",
    "    cluster_id[n] = rand([1,2,3])\n",
    "    if cluster_id[n] == 1\n",
    "        μ_ξi = μ_ξi1\n",
    "    elseif cluster_id[n] == 2\n",
    "        μ_ξi = μ_ξi2\n",
    "    else\n",
    "        μ_ξi = μ_ξi3\n",
    "    end\n",
    "    \n",
    "    for k = 1:nr_freqs\n",
    "        sample_ξ = rand(Normal(μ_ξi[k], sqrt(Σ_ξ[k,k])))\n",
    "        sample_X = rand(Normal(0, sqrt(0.5*exp(sample_ξ)))) + 1im*rand(Normal(0, sqrt(0.5*exp(sample_ξ))))\n",
    "        sample_y = rand(Normal(real(sample_X), sqrt(0.5*Σ_meas[k,k]))) + 1im*rand(Normal(imag(sample_X), sqrt(0.5*Σ_meas[k,k])))\n",
    "\n",
    "        ξ_samples[n][k] = sample_ξ\n",
    "        X_samples[n][k] = sample_X\n",
    "        y_samples[n][k] = sample_y\n",
    "    end\n",
    "end\n",
    "\n",
    "t = collect(1:nr_samples)\n",
    "Y = y_samples;"
   ]
  },
  {
   "cell_type": "markdown",
   "metadata": {},
   "source": [
    "# Building graph"
   ]
  },
  {
   "cell_type": "code",
   "execution_count": 44,
   "metadata": {},
   "outputs": [
    {
     "data": {
      "text/plain": [
       "5×3 Array{Float64,2}:\n",
       "  2.14534  1.43136  0.642731\n",
       "  5.41235  3.54664  1.74032 \n",
       "  8.68259  5.55036  2.45118 \n",
       " 11.5115   7.38773  3.52773 \n",
       " 14.4964   9.48162  4.12023 "
      ]
     },
     "execution_count": 44,
     "metadata": {},
     "output_type": "execute_result"
    }
   ],
   "source": [
    "# initialization:\n",
    "\n",
    "# reshape Y\n",
    "Yi = hcat(Y...)\n",
    "\n",
    "# approximate with log-power\n",
    "Yi = log.(abs2.(Yi))\n",
    "\n",
    "# perform kmeans clustering\n",
    "prior_m = kmeans(Yi,3).centers"
   ]
  },
  {
   "cell_type": "code",
   "execution_count": 221,
   "metadata": {},
   "outputs": [],
   "source": [
    "#nr_freqs = dimension\n",
    "\n",
    "nr_clusters = 3\n",
    "\n",
    "fg = FactorGraph()\n",
    "α = 0.1\n",
    "# Specify generative model\n",
    "@RV _pi ~ ForneyLab.Dirichlet(α*ones(nr_clusters))\n",
    "@RV w_1 ~ Wishart(diagm(ones(nr_freqs)), nr_freqs+2)\n",
    "@RV m_1 ~ GaussianMeanPrecision(prior_m[:,1], w_1)\n",
    "@RV w_2 ~ Wishart(diagm(ones(nr_freqs)), nr_freqs+2)\n",
    "@RV m_2 ~ GaussianMeanPrecision(prior_m[:,2], w_2)\n",
    "@RV w_3 ~ Wishart(diagm(ones(nr_freqs)), nr_freqs+2)\n",
    "@RV m_3 ~ GaussianMeanPrecision(prior_m[:,3], w_3)\n",
    "\n",
    "z = Vector{Variable}(undef, nr_samples)\n",
    "ξ = Vector{Variable}(undef, nr_samples)\n",
    "X = Vector{Variable}(undef, nr_samples)\n",
    "y = Vector{Variable}(undef, nr_samples)\n",
    "for i in 1:nr_samples\n",
    "    @RV z[i] ~ Categorical(_pi)\n",
    "    @RV ξ[i] ~ GaussianMixture(z[i], m_1, w_1, m_2, w_2, m_3, w_3)\n",
    "    # HGF\n",
    "    @RV X[i] ~ HGF(ξ[i])\n",
    "\n",
    "    # observation model\n",
    "    @RV y[i] ~ ComplexNormal(X[i], 1e-10*diagm(ones(nr_freqs)).+0im, mat(0.0+0.0im))\n",
    "    \n",
    "    \n",
    "    placeholder(y[i], :y, index=i, dims=(nr_freqs,))\n",
    "end\n",
    "# draw graph\n",
    "# ForneyLab.draw(fg)"
   ]
  },
  {
   "cell_type": "code",
   "execution_count": 222,
   "metadata": {},
   "outputs": [],
   "source": [
    "# Build the algorithm\n",
    "q = PosteriorFactorization(_pi, m_1, w_1, m_2, w_2, m_3, w_3, z, X, ξ, ids=[:PI :M1 :W1 :M2 :W2 :M3 :W3 :Z :X :Ξ])\n",
    "algo = variationalAlgorithm(q)\n",
    "\n",
    "# Generate source code\n",
    "source_code = algorithmSourceCode(algo);\n",
    "\n",
    "# Load algorithm\n",
    "eval(Meta.parse(source_code));"
   ]
  },
  {
   "cell_type": "code",
   "execution_count": 178,
   "metadata": {},
   "outputs": [],
   "source": [
    "# println(source_code)"
   ]
  },
  {
   "cell_type": "code",
   "execution_count": 223,
   "metadata": {},
   "outputs": [],
   "source": [
    "data = Dict(:y => Y)\n",
    "\n",
    "# Prepare posterior factors\n",
    "marginals = Dict(:_pi => vague(ForneyLab.Dirichlet, nr_clusters),\n",
    "                 :m_1 => ProbabilityDistribution(Multivariate, GaussianMeanPrecision, m=prior_m[:,1], w=1e0*diagm(ones(nr_freqs))),\n",
    "                 :w_1 => ProbabilityDistribution(MatrixVariate, ForneyLab.Wishart, v=1e0*diagm(ones(nr_freqs)), nu=nr_freqs),\n",
    "                 :m_2 => ProbabilityDistribution(Multivariate, GaussianMeanPrecision, m=prior_m[:,2], w=1e0*diagm(ones(nr_freqs))),\n",
    "                 :w_2 => ProbabilityDistribution(MatrixVariate, ForneyLab.Wishart, v=1e0*diagm(ones(nr_freqs)), nu=nr_freqs),\n",
    "                 :m_3 => ProbabilityDistribution(Multivariate, GaussianMeanPrecision, m=prior_m[:,3], w=1e0*diagm(ones(nr_freqs))),\n",
    "                 :w_3 => ProbabilityDistribution(MatrixVariate, ForneyLab.Wishart, v=1e0*diagm(ones(nr_freqs)), nu=nr_freqs))\n",
    "for i in 1:nr_samples\n",
    "    marginals[:z_*i] = vague(Categorical)\n",
    "    marginals[:X_*i] = ProbabilityDistribution(Multivariate, ComplexNormal, μ=zeros(nr_freqs) .+ 0.0im, Γ=1e-10*diagm(ones(nr_freqs)).+0im, C=mat(0.0+0.0im));\n",
    "    marginals[:ξ_*i] = ProbabilityDistribution(ForneyLab.Multivariate, GaussianMeanVariance, m=zeros(nr_freqs), v=diagm(ones(nr_freqs)))\n",
    "end\n",
    "\n"
   ]
  },
  {
   "cell_type": "code",
   "execution_count": 224,
   "metadata": {},
   "outputs": [
    {
     "name": "stderr",
     "output_type": "stream",
     "text": [
      "\u001b[32mProgress: 100%|█████████████████████████████████████████| Time: 0:02:16\u001b[39m\n"
     ]
    }
   ],
   "source": [
    "# Execute algorithm\n",
    "nr_its = 10\n",
    "@showprogress for i in 1:nr_its\n",
    "    stepX!(data, marginals)\n",
    "    stepΞ!(data, marginals)\n",
    "    stepZ!(data, marginals)\n",
    "    stepPI!(data, marginals)\n",
    "    stepM1!(data, marginals)\n",
    "    stepW1!(data, marginals)\n",
    "    stepM2!(data, marginals)\n",
    "    stepW2!(data, marginals) \n",
    "    stepM3!(data, marginals)\n",
    "    stepW3!(data, marginals)   \n",
    "end"
   ]
  },
  {
   "cell_type": "code",
   "execution_count": 225,
   "metadata": {},
   "outputs": [
    {
     "data": {
      "text/plain": [
       "Dir(a=[0.10, 2.00e+02, 0.10])\n"
      ]
     },
     "execution_count": 225,
     "metadata": {},
     "output_type": "execute_result"
    }
   ],
   "source": [
    "marginals[:_pi]"
   ]
  },
  {
   "cell_type": "code",
   "execution_count": 226,
   "metadata": {},
   "outputs": [
    {
     "data": {
      "text/plain": [
       "5×3 Array{Float64,2}:\n",
       "  2.14534  1.43136  0.642731\n",
       "  5.41235  3.54664  1.74032 \n",
       "  8.68259  5.55036  2.45118 \n",
       " 11.5115   7.38773  3.52773 \n",
       " 14.4964   9.48162  4.12023 "
      ]
     },
     "execution_count": 226,
     "metadata": {},
     "output_type": "execute_result"
    }
   ],
   "source": [
    "prior_m"
   ]
  },
  {
   "cell_type": "code",
   "execution_count": 227,
   "metadata": {},
   "outputs": [
    {
     "data": {
      "text/plain": [
       "5-element Array{Float64,1}:\n",
       "  2.145344926929221\n",
       "  5.412354446839972\n",
       "  8.68259110995245 \n",
       " 11.511530070314059\n",
       " 14.496391873751852"
      ]
     },
     "execution_count": 227,
     "metadata": {},
     "output_type": "execute_result"
    }
   ],
   "source": [
    "ForneyLab.unsafeMean(marginals[:m_1])"
   ]
  },
  {
   "cell_type": "code",
   "execution_count": 228,
   "metadata": {},
   "outputs": [
    {
     "data": {
      "text/plain": [
       "5-element Array{Float64,1}:\n",
       "  1.5093410378787202\n",
       "  3.8114907088664065\n",
       "  5.978479711819626 \n",
       "  8.005259890237896 \n",
       " 10.071545718522128 "
      ]
     },
     "execution_count": 228,
     "metadata": {},
     "output_type": "execute_result"
    }
   ],
   "source": [
    "ForneyLab.unsafeMean(marginals[:m_2])"
   ]
  },
  {
   "cell_type": "code",
   "execution_count": 229,
   "metadata": {},
   "outputs": [
    {
     "data": {
      "text/plain": [
       "5-element Array{Float64,1}:\n",
       " 0.6427306836304668\n",
       " 1.7403213977771588\n",
       " 2.451184663761332 \n",
       " 3.527725150879931 \n",
       " 4.120234106964631 "
      ]
     },
     "execution_count": 229,
     "metadata": {},
     "output_type": "execute_result"
    }
   ],
   "source": [
    "ForneyLab.unsafeMean(marginals[:m_3])"
   ]
  },
  {
   "cell_type": "code",
   "execution_count": 230,
   "metadata": {},
   "outputs": [
    {
     "data": {
      "image/png": "[encoded data removed]",
      "text/plain": [
       "Figure(PyObject <Figure size 640x480 with 1 Axes>)"
      ]
     },
     "metadata": {},
     "output_type": "display_data"
    },
    {
     "data": {
      "text/plain": [
       "PyObject <matplotlib.collections.PathCollection object at 0x0000000065FB2CC0>"
      ]
     },
     "execution_count": 230,
     "metadata": {},
     "output_type": "execute_result"
    }
   ],
   "source": [
    "plt.scatter(t,cluster_id)"
   ]
  },
  {
   "cell_type": "code",
   "execution_count": 231,
   "metadata": {},
   "outputs": [
    {
     "data": {
      "image/png": "[encoded data removed]",
      "text/plain": [
       "Figure(PyObject <Figure size 640x480 with 1 Axes>)"
      ]
     },
     "metadata": {},
     "output_type": "display_data"
    },
    {
     "data": {
      "text/plain": [
       "([49.0, 0.0, 0.0, 0.0, 0.0, 72.0, 0.0, 0.0, 0.0, 79.0], [1.0, 1.2, 1.4, 1.6, 1.8, 2.0, 2.2, 2.4000000000000004, 2.6, 2.8, 3.0], PyCall.PyObject[PyObject <matplotlib.patches.Rectangle object at 0x0000000069BBFB00>, PyObject <matplotlib.patches.Rectangle object at 0x0000000069BBF908>, PyObject <matplotlib.patches.Rectangle object at 0x0000000069BC7160>, PyObject <matplotlib.patches.Rectangle object at 0x0000000069BC74A8>, PyObject <matplotlib.patches.Rectangle object at 0x0000000069BC77F0>, PyObject <matplotlib.patches.Rectangle object at 0x0000000069BC7B38>, PyObject <matplotlib.patches.Rectangle object at 0x0000000069BC7E80>, PyObject <matplotlib.patches.Rectangle object at 0x0000000069BD3208>, PyObject <matplotlib.patches.Rectangle object at 0x0000000069BD3550>, PyObject <matplotlib.patches.Rectangle object at 0x0000000069BD3898>])"
      ]
     },
     "execution_count": 231,
     "metadata": {},
     "output_type": "execute_result"
    }
   ],
   "source": [
    "plt.hist(cluster_id)"
   ]
  },
  {
   "cell_type": "code",
   "execution_count": 232,
   "metadata": {},
   "outputs": [],
   "source": [
    "z_inferred = [findmax(marginals[:z_*k].params[:p])[2] for k = 1:nr_samples];"
   ]
  },
  {
   "cell_type": "code",
   "execution_count": 233,
   "metadata": {},
   "outputs": [
    {
     "data": {
      "image/png": "[encoded data removed]",
      "text/plain": [
       "Figure(PyObject <Figure size 640x480 with 1 Axes>)"
      ]
     },
     "metadata": {},
     "output_type": "display_data"
    },
    {
     "data": {
      "text/plain": [
       "PyObject <matplotlib.collections.PathCollection object at 0x00000000697ECE80>"
      ]
     },
     "execution_count": 233,
     "metadata": {},
     "output_type": "execute_result"
    }
   ],
   "source": [
    "plt.scatter(t,z_inferred)"
   ]
  },
  {
   "cell_type": "code",
   "execution_count": null,
   "metadata": {},
   "outputs": [],
   "source": []
  }
 ],
 "metadata": {
  "kernelspec": {
   "display_name": "Julia 1.3.1",
   "language": "julia",
   "name": "julia-1.3"
  },
  "language_info": {
   "file_extension": ".jl",
   "mimetype": "application/julia",
   "name": "julia",
   "version": "1.3.1"
  }
 },
 "nbformat": 4,
 "nbformat_minor": 4
}
