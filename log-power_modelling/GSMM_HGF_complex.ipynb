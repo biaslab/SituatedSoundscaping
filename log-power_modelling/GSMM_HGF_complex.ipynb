{
 "cells": [
  {
   "cell_type": "code",
   "execution_count": 1,
   "metadata": {},
   "outputs": [
    {
     "name": "stdout",
     "output_type": "stream",
     "text": [
      "\u001b[32m\u001b[1mActivating\u001b[22m\u001b[39m environment at `C:\\Users\\s151781\\AppData\\Local\\Julia-1.3.1\\GN\\Project.toml`\n"
     ]
    },
    {
     "data": {
      "text/plain": [
       "fft_expand (generic function with 1 method)"
      ]
     },
     "execution_count": 1,
     "metadata": {},
     "output_type": "execute_result"
    }
   ],
   "source": [
    "import Pkg; Pkg.activate(\"C:/Users/s151781/AppData/Local/Julia-1.3.1/GN/Project.toml\")\n",
    "using Revise\n",
    "using Distributions\n",
    "using PyPlot\n",
    "using FFTW\n",
    "using Compat\n",
    "using WAV\n",
    "using DSP\n",
    "using Base64\n",
    "using ForneyLab\n",
    "using LinearAlgebra\n",
    "using ProgressMeter\n",
    "\n",
    "include(\"../functions/auxiliary/audioplayer.jl\")\n",
    "include(\"../functions/auxiliary/workflow.jl\")\n",
    "include(\"../functions/auxiliary/fourier.jl\")\n",
    "include(\"../functions/auxiliary/visualization.jl\")\n",
    "include(\"../functions/auxiliary/buffer.jl\")\n",
    "include(\"../functions/preprocessing.jl\")"
   ]
  },
  {
   "cell_type": "markdown",
   "metadata": {},
   "source": [
    "# Complex normal distribution"
   ]
  },
  {
   "cell_type": "code",
   "execution_count": 2,
   "metadata": {},
   "outputs": [],
   "source": [
    "# create random variable for vectors of gamma distributed RV's\n",
    "mutable struct ComplexNormal <: ForneyLab.SoftFactor\n",
    "    id::Symbol\n",
    "    interfaces::Vector{Interface}\n",
    "    i::Dict{Symbol,Interface}\n",
    "\n",
    "    function ComplexNormal(out, μ, Γ, C; id=ForneyLab.generateId(ComplexNormal))\n",
    "        @ensureVariables(out, μ, Γ, C)\n",
    "        self = new(id, Array{Interface}(undef, 4), Dict{Symbol,Interface}())\n",
    "        ForneyLab.addNode!(currentGraph(), self)\n",
    "        self.i[:out] = self.interfaces[1] = ForneyLab.associate!(Interface(self), out)\n",
    "        self.i[:μ] = self.interfaces[2] = ForneyLab.associate!(Interface(self), μ)\n",
    "        self.i[:Γ] = self.interfaces[3] = ForneyLab.associate!(Interface(self), Γ)\n",
    "        self.i[:C] = self.interfaces[4] = ForneyLab.associate!(Interface(self), C)\n",
    "\n",
    "        return self\n",
    "    end\n",
    "end\n",
    "\n",
    "format(dist::ProbabilityDistribution{ForneyLab.Multivariate, ComplexNormal}) = \"$(slug(ComplexNormal))(μ=$(format(dist.params[:μ])), Γ=$(format(dist.params[:Γ])), C=$(format(dist.params[:C])))\"\n",
    "\n",
    "ProbabilityDistribution(::Type{ForneyLab.Multivariate}, ::Type{ComplexNormal}; μ::Array{Complex{Float64},1}, Γ::Array{Complex{Float64},2}, C::Array{Complex{Float64},2}) = ProbabilityDistribution{ForneyLab.Multivariate, ComplexNormal}(Dict(:μ=>μ, :Γ=>Γ, :C=>C))\n",
    "ProbabilityDistribution(::Type{ComplexNormal}; μ::Array{Complex{Float64},1}, Γ::Array{Complex{Float64},2}, C::Array{Complex{Float64},2}) = ProbabilityDistribution{ForneyLab.Multivariate, ComplexNormal}(Dict(:μ=>μ, :Γ=>Γ, :C=>C))\n",
    "\n",
    "function ForneyLab.prod!( x::ProbabilityDistribution{ForneyLab.Multivariate, ComplexNormal},\n",
    "                          y::ProbabilityDistribution{ForneyLab.Multivariate, ComplexNormal},\n",
    "                          z::ProbabilityDistribution{ForneyLab.Multivariate, ComplexNormal}=ProbabilityDistribution(ForneyLab.Multivariate, ComplexNormal, μ=zeros(size(x.params[:μ])).+0im, Γ=(1e10+1e10im)*Ic(length(x.params[:μ])), C=mat(0.0+0.0im)))\n",
    "\n",
    "    # TOO SIMPLIFIED (CASE FOR C=0 -> circular symmetry)\n",
    "    z.params[:Γ] = inv(inv(x.params[:Γ]) + inv(y.params[:Γ])) .+ 0.0im\n",
    "    z.params[:μ] = z.params[:Γ]*(inv(x.params[:Γ])*x.params[:μ] + inv(y.params[:Γ])*y.params[:μ]) .+ 0.0im\n",
    "    z.params[:C] = mat(0.0+0.0im)\n",
    "        \n",
    "    return z\n",
    "end\n",
    "\n",
    "unsafeMean(dist::ProbabilityDistribution{ForneyLab.Multivariate, ComplexNormal}) = dist.params[:μ] # unsafe mean  \n",
    "ForneyLab.unsafeMean(dist::ProbabilityDistribution{ForneyLab.Multivariate, ComplexNormal}) = dist.params[:μ] # unsafe mean  \n",
    "unsafeCov(dist::ProbabilityDistribution{ForneyLab.Multivariate, ComplexNormal}) = dist.params[:Γ] # unsafe mean  \n",
    "ForneyLab.unsafeCov(dist::ProbabilityDistribution{ForneyLab.Multivariate, ComplexNormal}) = dist.params[:Γ] # unsafe mean  "
   ]
  },
  {
   "cell_type": "code",
   "execution_count": 3,
   "metadata": {},
   "outputs": [
    {
     "data": {
      "text/plain": [
       "ruleSPComplexNormalOutNPPP (generic function with 1 method)"
      ]
     },
     "execution_count": 3,
     "metadata": {},
     "output_type": "execute_result"
    }
   ],
   "source": [
    "ruleSPComplexNormalOutNPPP(msg_out::Nothing, \n",
    "                           msg_μ::Message{PointMass},\n",
    "                           msg_Γ::Message{PointMass},\n",
    "                           msf_C::Message{PointMass}) =\n",
    "                           Message(ForneyLab.Multivariate, ComplexNormal, μ=deepcopy(msg_μ.dist.params[:μ]), Γ=deepcopy(msg_Γ.dist.params[:Γ]), C=deepcopy(msg_C.dist.params[:C]))"
   ]
  },
  {
   "cell_type": "code",
   "execution_count": 4,
   "metadata": {},
   "outputs": [
    {
     "data": {
      "text/plain": [
       "ruleSPComplexNormalIn1PNPP (generic function with 1 method)"
      ]
     },
     "execution_count": 4,
     "metadata": {},
     "output_type": "execute_result"
    }
   ],
   "source": [
    "ruleSPComplexNormalIn1PNPP(msg_out::Message{PointMass}, \n",
    "                           msg_μ::Nothing,\n",
    "                           msg_Γ::Message{PointMass},\n",
    "                           msf_C::Message{PointMass}) =\n",
    "                           Message(ForneyLab.Multivariate, ComplexNormal, μ=deepcopy(msg_out.dist.params[:μ]), Γ=deepcopy(msg_Γ.dist.params[:Γ]), C=deepcopy(msg_C.dist.params[:C]))"
   ]
  },
  {
   "cell_type": "code",
   "execution_count": 5,
   "metadata": {},
   "outputs": [
    {
     "data": {
      "text/plain": [
       "ruleVBComplexNormalOut (generic function with 1 method)"
      ]
     },
     "execution_count": 5,
     "metadata": {},
     "output_type": "execute_result"
    }
   ],
   "source": [
    "ruleVBComplexNormalOut(dist_out::Any,\n",
    "                       dist_μ::ProbabilityDistribution{ForneyLab.Multivariate},\n",
    "                       dist_Γ::ProbabilityDistribution{ForneyLab.MatrixVariate},\n",
    "                       dist_C::ProbabilityDistribution{ForneyLab.MatrixVariate}) =\n",
    "                       Message(ForneyLab.Multivariate, ComplexNormal, μ=ForneyLab.unsafeMean(dist_μ), Γ=ForneyLab.unsafeMean(dist_Γ), C=ForneyLab.unsafeMean(dist_C))"
   ]
  },
  {
   "cell_type": "code",
   "execution_count": 6,
   "metadata": {},
   "outputs": [
    {
     "data": {
      "text/plain": [
       "ruleVBComplexNormalIn1 (generic function with 1 method)"
      ]
     },
     "execution_count": 6,
     "metadata": {},
     "output_type": "execute_result"
    }
   ],
   "source": [
    "ruleVBComplexNormalIn1(dist_out::ProbabilityDistribution{ForneyLab.Multivariate},\n",
    "                       dist_μ::Any,\n",
    "                       dist_Γ::ProbabilityDistribution{ForneyLab.MatrixVariate},\n",
    "                       dist_C::ProbabilityDistribution{ForneyLab.MatrixVariate}) =\n",
    "                       Message(ForneyLab.Multivariate, ComplexNormal, μ=ForneyLab.unsafeMean(dist_out), Γ=ForneyLab.unsafeMean(dist_Γ), C=ForneyLab.unsafeMean(dist_C))"
   ]
  },
  {
   "cell_type": "code",
   "execution_count": 7,
   "metadata": {},
   "outputs": [],
   "source": [
    "@sumProductRule(:node_type     => ComplexNormal,\n",
    "                :outbound_type => Message{ComplexNormal},\n",
    "                :inbound_types => (Nothing, Message{PointMass}, Message{PointMass}, Message{PointMass}),\n",
    "                :name          => SPComplexNormalOutNPP)\n",
    "\n",
    "@sumProductRule(:node_type     => ComplexNormal,\n",
    "                :outbound_type => Message{ComplexNormal},\n",
    "                :inbound_types => (Message{PointMass}, Nothing, Message{PointMass}, Message{PointMass}),\n",
    "                :name          => SPComplexNormalIn1NPP)\n",
    "\n",
    "@naiveVariationalRule(:node_type     => ComplexNormal,\n",
    "                      :outbound_type => Message{ComplexNormal},\n",
    "                      :inbound_types => (Nothing, ProbabilityDistribution, ProbabilityDistribution, ProbabilityDistribution),\n",
    "                      :name          => VBComplexNormalOut)\n",
    "\n",
    "@naiveVariationalRule(:node_type     => ComplexNormal,\n",
    "                      :outbound_type => Message{ComplexNormal},\n",
    "                      :inbound_types => (ProbabilityDistribution, Nothing, ProbabilityDistribution, ProbabilityDistribution),\n",
    "                      :name          => VBComplexNormalIn1)"
   ]
  },
  {
   "cell_type": "markdown",
   "metadata": {},
   "source": [
    "# Hierarchical Gaussian filter"
   ]
  },
  {
   "cell_type": "code",
   "execution_count": 8,
   "metadata": {},
   "outputs": [],
   "source": [
    "mutable struct HGF <: ForneyLab.SoftFactor\n",
    "    id::Symbol\n",
    "    interfaces::Vector{Interface}\n",
    "    i::Dict{Symbol,Interface}\n",
    "\n",
    "    function HGF(X, ξ; id=ForneyLab.generateId(HGF))\n",
    "        \n",
    "        # ensure that the input arguments are random variables\n",
    "        @ensureVariables(X, ξ) \n",
    "        \n",
    "        # create new object\n",
    "        self = new(id, Array{Interface}(undef, 2), Dict{Symbol,Interface}())\n",
    "        \n",
    "        # add the node to the current factor graph\n",
    "        ForneyLab.addNode!(currentGraph(), self)\n",
    "        \n",
    "        # add argument variables to interfaces of node\n",
    "        self.i[:X] = self.interfaces[1] = ForneyLab.associate!(Interface(self), X)\n",
    "        self.i[:ξ] = self.interfaces[2] = ForneyLab.associate!(Interface(self), ξ)\n",
    "        \n",
    "        # return object\n",
    "        return self\n",
    "    end\n",
    "end"
   ]
  },
  {
   "cell_type": "code",
   "execution_count": 9,
   "metadata": {},
   "outputs": [
    {
     "data": {
      "text/plain": [
       "ruleVariationalHGFOutNP (generic function with 1 method)"
      ]
     },
     "execution_count": 9,
     "metadata": {},
     "output_type": "execute_result"
    }
   ],
   "source": [
    "function ruleVariationalHGFOutNP(marg_X::Nothing, \n",
    "                                 marg_ξ::ProbabilityDistribution{ForneyLab.Multivariate})\n",
    "    \n",
    "    # caluclate required mean\n",
    "    mξ = ForneyLab.unsafeMean(marg_ξ)\n",
    "\n",
    "    # calculate required variance\n",
    "    vξ = diag(ForneyLab.unsafeCov(marg_ξ))\n",
    "\n",
    "    # calculate new parameters\n",
    "    mX = zeros(size(mξ)) .+ 0im\n",
    "    vX = exp.(mξ - vξ/2) .+ 0im\n",
    "    \n",
    "    # create variational message\n",
    "    return Message(ForneyLab.Multivariate, ComplexNormal, μ=mX, Γ=diagm(vX), C=mat(0.0+0.0im))\n",
    "\n",
    "end"
   ]
  },
  {
   "cell_type": "code",
   "execution_count": 10,
   "metadata": {},
   "outputs": [
    {
     "data": {
      "text/plain": [
       "ruleVariationalHGFIn1PN (generic function with 1 method)"
      ]
     },
     "execution_count": 10,
     "metadata": {},
     "output_type": "execute_result"
    }
   ],
   "source": [
    "function ruleVariationalHGFIn1PN(marg_X::ProbabilityDistribution{ForneyLab.Multivariate}, \n",
    "                                 marg_ξ::Nothing)\n",
    "    \n",
    "    # calculate required means\n",
    "    mX = ForneyLab.unsafeMean(marg_X)\n",
    "\n",
    "    # calculate required variances\n",
    "    vX = diag(ForneyLab.unsafeCov(marg_X))\n",
    "\n",
    "    # calculate new parameters\n",
    "    mξ = log.(abs2.(mX) + real.(vX))\n",
    "    vξ = 1.0*ones(length(mξ))\n",
    "\n",
    "    # create variational message\n",
    "    Message(ForneyLab.Multivariate, GaussianWeightedMeanPrecision, xi=mξ./vξ, w=diagm(1 ./ vξ))\n",
    "\n",
    "end"
   ]
  },
  {
   "cell_type": "code",
   "execution_count": 11,
   "metadata": {},
   "outputs": [],
   "source": [
    "@naiveVariationalRule(:node_type     => HGF,\n",
    "                      :outbound_type => Message{ComplexNormal},\n",
    "                      :inbound_types => (Nothing, ProbabilityDistribution),\n",
    "                      :name          => VariationalHGFOutNP)\n",
    "\n",
    "@naiveVariationalRule(:node_type     => HGF,\n",
    "                      :outbound_type => Message{GaussianWeightedMeanPrecision},\n",
    "                      :inbound_types => (ProbabilityDistribution, Nothing),\n",
    "                      :name          => VariationalHGFIn1PN)"
   ]
  },
  {
   "cell_type": "markdown",
   "metadata": {},
   "source": [
    "## Factor graph"
   ]
  },
  {
   "cell_type": "code",
   "execution_count": 12,
   "metadata": {},
   "outputs": [
    {
     "data": {
      "text/html": [
       "<?xml version=\"1.0\" encoding=\"UTF-8\" standalone=\"no\"?>\r\n",
       "<!DOCTYPE svg PUBLIC \"-//W3C//DTD SVG 1.1//EN\"\r\n",
       " \"http://www.w3.org/Graphics/SVG/1.1/DTD/svg11.dtd\">\r\n",
       "<!-- Generated by graphviz version 2.38.0 (20140413.2041)\r\n",
       " -->\r\n",
       "<!-- Title: G Pages: 1 -->\r\n",
       "<svg width=\"442pt\" height=\"512pt\"\r\n",
       " viewBox=\"0.00 0.00 441.50 512.00\" xmlns=\"http://www.w3.org/2000/svg\" xmlns:xlink=\"http://www.w3.org/1999/xlink\">\r\n",
       "<g id=\"graph0\" class=\"graph\" transform=\"scale(1 1) rotate(0) translate(4 508)\">\r\n",
       "<title>G</title>\r\n",
       "<polygon fill=\"white\" stroke=\"none\" points=\"-4,4 -4,-508 437.5,-508 437.5,4 -4,4\"/>\r\n",
       "<!-- 14260923139631754417 -->\r\n",
       "<g id=\"node1\" class=\"node\"><title>14260923139631754417</title>\r\n",
       "<polygon fill=\"lightgrey\" stroke=\"black\" points=\"77,-279 0,-279 0,-225 77,-225 77,-279\"/>\r\n",
       "<text text-anchor=\"middle\" x=\"38.5\" y=\"-249.8\" font-family=\"Times New Roman,serif\" font-size=\"9.00\">placeholder_Σ_y</text>\r\n",
       "</g>\r\n",
       "<!-- 6786647979742980866 -->\r\n",
       "<g id=\"node2\" class=\"node\"><title>6786647979742980866</title>\r\n",
       "<polygon fill=\"lightgrey\" stroke=\"black\" points=\"262.5,-504 194.5,-504 194.5,-450 262.5,-450 262.5,-504\"/>\r\n",
       "<text text-anchor=\"middle\" x=\"228.5\" y=\"-474.8\" font-family=\"Times New Roman,serif\" font-size=\"9.00\">placeholder_y</text>\r\n",
       "</g>\r\n",
       "<!-- 3663060049341228766 -->\r\n",
       "<g id=\"node6\" class=\"node\"><title>3663060049341228766</title>\r\n",
       "<polygon fill=\"none\" stroke=\"black\" points=\"268.5,-405 188.5,-405 188.5,-333 268.5,-333 268.5,-405\"/>\r\n",
       "<text text-anchor=\"middle\" x=\"228.5\" y=\"-371.8\" font-family=\"Times New Roman,serif\" font-size=\"9.00\">ComplexNormal</text>\r\n",
       "<text text-anchor=\"middle\" x=\"228.5\" y=\"-361.8\" font-family=\"Times New Roman,serif\" font-size=\"9.00\">complexnormal_1</text>\r\n",
       "</g>\r\n",
       "<!-- 6786647979742980866&#45;&#45;3663060049341228766 -->\r\n",
       "<g id=\"edge5\" class=\"edge\"><title>6786647979742980866&#45;&#45;3663060049341228766</title>\r\n",
       "<path fill=\"none\" stroke=\"black\" d=\"M228.5,-449.798C228.5,-436.31 228.5,-419.68 228.5,-405.099\"/>\r\n",
       "<text text-anchor=\"start\" x=\"228.5\" y=\"-425.6\" font-family=\"Times New Roman,serif\" font-size=\"8.00\" fill=\"red\">y</text>\r\n",
       "<text text-anchor=\"start\" x=\"207.5\" y=\"-407.699\" font-family=\"Times New Roman,serif\" font-size=\"8.00\">1 out </text>\r\n",
       "<text text-anchor=\"start\" x=\"207.5\" y=\"-443.398\" font-family=\"Times New Roman,serif\" font-size=\"8.00\">1 out </text>\r\n",
       "</g>\r\n",
       "<!-- 10143694323003098131 -->\r\n",
       "<g id=\"node3\" class=\"node\"><title>10143694323003098131</title>\r\n",
       "<polygon fill=\"none\" stroke=\"black\" points=\"264.5,-288 192.5,-288 192.5,-216 264.5,-216 264.5,-288\"/>\r\n",
       "<text text-anchor=\"middle\" x=\"228.5\" y=\"-254.8\" font-family=\"Times New Roman,serif\" font-size=\"9.00\">HGF</text>\r\n",
       "<text text-anchor=\"middle\" x=\"228.5\" y=\"-244.8\" font-family=\"Times New Roman,serif\" font-size=\"9.00\">hgf_1</text>\r\n",
       "</g>\r\n",
       "<!-- 7906786618100845641 -->\r\n",
       "<g id=\"node8\" class=\"node\"><title>7906786618100845641</title>\r\n",
       "<polygon fill=\"none\" stroke=\"black\" points=\"280.5,-171 176.5,-171 176.5,-99 280.5,-99 280.5,-171\"/>\r\n",
       "<text text-anchor=\"middle\" x=\"228.5\" y=\"-137.8\" font-family=\"Times New Roman,serif\" font-size=\"9.00\">𝒩</text>\r\n",
       "<text text-anchor=\"middle\" x=\"228.5\" y=\"-127.8\" font-family=\"Times New Roman,serif\" font-size=\"9.00\">gaussianmeanvariance_1</text>\r\n",
       "</g>\r\n",
       "<!-- 10143694323003098131&#45;&#45;7906786618100845641 -->\r\n",
       "<g id=\"edge2\" class=\"edge\"><title>10143694323003098131&#45;&#45;7906786618100845641</title>\r\n",
       "<path fill=\"none\" stroke=\"black\" d=\"M228.5,-215.871C228.5,-201.736 228.5,-185.463 228.5,-171.31\"/>\r\n",
       "<text text-anchor=\"start\" x=\"228.5\" y=\"-191.6\" font-family=\"Times New Roman,serif\" font-size=\"8.00\" fill=\"red\">ξ</text>\r\n",
       "<text text-anchor=\"start\" x=\"207.5\" y=\"-173.91\" font-family=\"Times New Roman,serif\" font-size=\"8.00\">1 out </text>\r\n",
       "<text text-anchor=\"start\" x=\"215.5\" y=\"-209.471\" font-family=\"Times New Roman,serif\" font-size=\"8.00\">2 ξ </text>\r\n",
       "</g>\r\n",
       "<!-- 3323974771329118815 -->\r\n",
       "<g id=\"node4\" class=\"node\"><title>3323974771329118815</title>\r\n",
       "<polygon fill=\"lightgrey\" stroke=\"black\" points=\"171.5,-54 95.5,-54 95.5,-0 171.5,-0 171.5,-54\"/>\r\n",
       "<text text-anchor=\"middle\" x=\"133.5\" y=\"-24.8\" font-family=\"Times New Roman,serif\" font-size=\"9.00\">placeholder_Σ_ξ</text>\r\n",
       "</g>\r\n",
       "<!-- 3298797449712972471 -->\r\n",
       "<g id=\"node5\" class=\"node\"><title>3298797449712972471</title>\r\n",
       "<polygon fill=\"lightgrey\" stroke=\"black\" points=\"433.5,-279 379.5,-279 379.5,-225 433.5,-225 433.5,-279\"/>\r\n",
       "<text text-anchor=\"middle\" x=\"406.5\" y=\"-249.8\" font-family=\"Times New Roman,serif\" font-size=\"9.00\">clamp_1</text>\r\n",
       "</g>\r\n",
       "<!-- 3663060049341228766&#45;&#45;14260923139631754417 -->\r\n",
       "<g id=\"edge4\" class=\"edge\"><title>3663060049341228766&#45;&#45;14260923139631754417</title>\r\n",
       "<path fill=\"none\" stroke=\"black\" d=\"M188.206,-343.611C155.418,-323.766 109.441,-295.938 77.1139,-276.372\"/>\r\n",
       "<text text-anchor=\"start\" x=\"139.5\" y=\"-308.6\" font-family=\"Times New Roman,serif\" font-size=\"8.00\" fill=\"red\">Σ_y</text>\r\n",
       "<text text-anchor=\"start\" x=\"77.1139\" y=\"-278.972\" font-family=\"Times New Roman,serif\" font-size=\"8.00\">1 out </text>\r\n",
       "<text text-anchor=\"start\" x=\"174.206\" y=\"-346.211\" font-family=\"Times New Roman,serif\" font-size=\"8.00\">3 Γ </text>\r\n",
       "</g>\r\n",
       "<!-- 3663060049341228766&#45;&#45;10143694323003098131 -->\r\n",
       "<g id=\"edge3\" class=\"edge\"><title>3663060049341228766&#45;&#45;10143694323003098131</title>\r\n",
       "<path fill=\"none\" stroke=\"black\" d=\"M228.5,-332.871C228.5,-318.736 228.5,-302.463 228.5,-288.31\"/>\r\n",
       "<text text-anchor=\"start\" x=\"228.5\" y=\"-308.6\" font-family=\"Times New Roman,serif\" font-size=\"8.00\" fill=\"red\">X</text>\r\n",
       "<text text-anchor=\"start\" x=\"212.5\" y=\"-290.91\" font-family=\"Times New Roman,serif\" font-size=\"8.00\">1 X </text>\r\n",
       "<text text-anchor=\"start\" x=\"214.5\" y=\"-326.471\" font-family=\"Times New Roman,serif\" font-size=\"8.00\">2 μ </text>\r\n",
       "</g>\r\n",
       "<!-- 3663060049341228766&#45;&#45;3298797449712972471 -->\r\n",
       "<g id=\"edge1\" class=\"edge\"><title>3663060049341228766&#45;&#45;3298797449712972471</title>\r\n",
       "<path fill=\"none\" stroke=\"black\" d=\"M268.891,-341.905C302.638,-320.102 349.834,-289.61 379.261,-270.598\"/>\r\n",
       "<text text-anchor=\"start\" x=\"323.5\" y=\"-308.6\" font-family=\"Times New Roman,serif\" font-size=\"8.00\" fill=\"red\">clamp_1</text>\r\n",
       "<text text-anchor=\"start\" x=\"358.261\" y=\"-273.198\" font-family=\"Times New Roman,serif\" font-size=\"8.00\">1 out </text>\r\n",
       "<text text-anchor=\"start\" x=\"268.891\" y=\"-344.505\" font-family=\"Times New Roman,serif\" font-size=\"8.00\">4 C </text>\r\n",
       "</g>\r\n",
       "<!-- 13663358509000810982 -->\r\n",
       "<g id=\"node7\" class=\"node\"><title>13663358509000810982</title>\r\n",
       "<polygon fill=\"lightgrey\" stroke=\"black\" points=\"362,-54 287,-54 287,-0 362,-0 362,-54\"/>\r\n",
       "<text text-anchor=\"middle\" x=\"324.5\" y=\"-24.8\" font-family=\"Times New Roman,serif\" font-size=\"9.00\">placeholder_μ_ξ</text>\r\n",
       "</g>\r\n",
       "<!-- 7906786618100845641&#45;&#45;3323974771329118815 -->\r\n",
       "<g id=\"edge7\" class=\"edge\"><title>7906786618100845641&#45;&#45;3323974771329118815</title>\r\n",
       "<path fill=\"none\" stroke=\"black\" d=\"M185.026,-98.9751C178.864,-93.2419 172.822,-87.1552 167.5,-81 160.421,-72.8131 153.733,-63.0321 148.191,-54.1142\"/>\r\n",
       "<text text-anchor=\"start\" x=\"167.5\" y=\"-74.6\" font-family=\"Times New Roman,serif\" font-size=\"8.00\" fill=\"red\">Σ_ξ</text>\r\n",
       "<text text-anchor=\"start\" x=\"127.191\" y=\"-56.7142\" font-family=\"Times New Roman,serif\" font-size=\"8.00\">1 out </text>\r\n",
       "<text text-anchor=\"start\" x=\"171.026\" y=\"-92.5751\" font-family=\"Times New Roman,serif\" font-size=\"8.00\">3 v </text>\r\n",
       "</g>\r\n",
       "<!-- 7906786618100845641&#45;&#45;13663358509000810982 -->\r\n",
       "<g id=\"edge6\" class=\"edge\"><title>7906786618100845641&#45;&#45;13663358509000810982</title>\r\n",
       "<path fill=\"none\" stroke=\"black\" d=\"M260.2,-98.9979C273.417,-84.4044 288.504,-67.7451 300.742,-54.2331\"/>\r\n",
       "<text text-anchor=\"start\" x=\"282.5\" y=\"-74.6\" font-family=\"Times New Roman,serif\" font-size=\"8.00\" fill=\"red\">μ_ξ</text>\r\n",
       "<text text-anchor=\"start\" x=\"279.742\" y=\"-56.8331\" font-family=\"Times New Roman,serif\" font-size=\"8.00\">1 out </text>\r\n",
       "<text text-anchor=\"start\" x=\"244.2\" y=\"-92.5979\" font-family=\"Times New Roman,serif\" font-size=\"8.00\">2 m </text>\r\n",
       "</g>\r\n",
       "</g>\r\n",
       "</svg>\r\n"
      ]
     },
     "metadata": {},
     "output_type": "display_data"
    }
   ],
   "source": [
    "# number of frequency bins \n",
    "nr_freqs = 5\n",
    "\n",
    "# create factor graph\n",
    "fg = FactorGraph()\n",
    "\n",
    "# gaussian mixture \n",
    "@RV [id=:ξ] ξ ~ GaussianMeanVariance(placeholder(:μ_ξ, dims=(nr_freqs,)), placeholder(:Σ_ξ, dims=(nr_freqs,nr_freqs)))\n",
    "\n",
    "# HGF\n",
    "@RV [id=:X] X ~ HGF(ξ)\n",
    "\n",
    "# observation model\n",
    "@RV [id=:y] y ~ ComplexNormal(X, placeholder(:Σ_y, dims=(nr_freqs,nr_freqs)), mat(0.0+0.0im))\n",
    "placeholder(y, :y, dims=(nr_freqs,))\n",
    "\n",
    "# draw graph\n",
    "ForneyLab.draw(fg)"
   ]
  },
  {
   "cell_type": "markdown",
   "metadata": {},
   "source": [
    "## Data generation"
   ]
  },
  {
   "cell_type": "code",
   "execution_count": 13,
   "metadata": {},
   "outputs": [],
   "source": [
    "# generate data\n",
    "N = 10000\n",
    "\n",
    "μ_ξi = 1.0*collect(-4:2:4)\n",
    "Σ_ξ = 1e-4*diagm(ones(nr_freqs))\n",
    "Σ_meas = 1e-10*Ic(nr_freqs)\n",
    "\n",
    "ξ_samples = Array{Float64,2}(undef, N, nr_freqs)\n",
    "X_samples = Array{Complex{Float64},2}(undef, N, nr_freqs)\n",
    "y_samples = Array{Complex{Float64},2}(undef, N, nr_freqs)\n",
    "\n",
    "for n = 1:N\n",
    "\n",
    "#     sample_ξ = rand(MvNormal(μ_ξ, Σ_ξ))\n",
    "#     sample_X = rand(MvNormal(zeros(nr_freqs), real.((exp.(0.5*sample_ξ))))) + 1im*rand(MvNormal(zeros(nr_freqs), real.((exp.(0.5*sample_ξ)))))\n",
    "#     sample_y = rand(MvNormal(real(sample_X), 0.5*real.(Σ_meas))) + 1im*rand(MvNormal(imag(sample_X), 0.5*real.(Σ_meas)))\n",
    "    \n",
    "#     ξ_samples[n,:] = sample_ξ\n",
    "#     X_samples[n,:] = sample_X\n",
    "#     y_samples[n,:] = sample_y\n",
    "    for k = 1:nr_freqs\n",
    "        sample_ξ = rand(Normal(μ_ξi[k], sqrt(Σ_ξ[k,k])))\n",
    "        sample_X = rand(Normal(0, sqrt(0.5*exp(sample_ξ)))) + 1im*rand(Normal(0, sqrt(0.5*exp(sample_ξ))))\n",
    "        sample_y = rand(Normal(real(sample_X), sqrt(0.5*Σ_meas[k,k]))) + 1im*rand(Normal(imag(sample_X), sqrt(0.5*Σ_meas[k,k])))\n",
    "\n",
    "        ξ_samples[n,k] = sample_ξ\n",
    "        X_samples[n,k] = sample_X\n",
    "        y_samples[n,k] = sample_y\n",
    "    end\n",
    "end\n",
    "\n",
    "t = collect(1:N)\n",
    ";"
   ]
  },
  {
   "cell_type": "code",
   "execution_count": 14,
   "metadata": {},
   "outputs": [
    {
     "data": {
      "image/png": "[encoded data removed]",
      "text/plain": [
       "Figure(PyObject <Figure size 640x480 with 1 Axes>)"
      ]
     },
     "metadata": {},
     "output_type": "display_data"
    }
   ],
   "source": [
    "plt.plot(t, ξ_samples);"
   ]
  },
  {
   "cell_type": "code",
   "execution_count": 15,
   "metadata": {},
   "outputs": [
    {
     "data": {
      "text/plain": [
       "(-4.000179898158945, 0.00010156982996634659)"
      ]
     },
     "execution_count": 15,
     "metadata": {},
     "output_type": "execute_result"
    }
   ],
   "source": [
    "mean(ξ_samples[:,1]), var(ξ_samples[:,1])"
   ]
  },
  {
   "cell_type": "code",
   "execution_count": 16,
   "metadata": {},
   "outputs": [
    {
     "data": {
      "image/png": "[encoded data removed]",
      "text/plain": [
       "Figure(PyObject <Figure size 640x480 with 1 Axes>)"
      ]
     },
     "metadata": {},
     "output_type": "display_data"
    }
   ],
   "source": [
    "plt.hist(ξ_samples[:,1], bins=50), plt.title(\"samples ξ\");"
   ]
  },
  {
   "cell_type": "code",
   "execution_count": 17,
   "metadata": {},
   "outputs": [
    {
     "data": {
      "text/plain": [
       "(0.009084489840704509, 0.00914356621417521, 1.3591409142295225)"
      ]
     },
     "execution_count": 17,
     "metadata": {},
     "output_type": "execute_result"
    }
   ],
   "source": [
    "var(real(X_samples[:,1])), var(imag(X_samples[:,1])), 0.5*exp(1)"
   ]
  },
  {
   "cell_type": "code",
   "execution_count": 18,
   "metadata": {},
   "outputs": [
    {
     "data": {
      "image/png": "[encoded data removed]",
      "text/plain": [
       "Figure(PyObject <Figure size 640x480 with 2 Axes>)"
      ]
     },
     "metadata": {},
     "output_type": "display_data"
    }
   ],
   "source": [
    "_,ax = plt.subplots(ncols=2); ax[1].hist(real(X_samples[:,1]), bins=50), ax[1].set_title(\"samples X real\"), ax[2].hist(imag(X_samples[:,1]), bins=50), ax[2].set_title(\"samples X imag\");"
   ]
  },
  {
   "cell_type": "code",
   "execution_count": 19,
   "metadata": {},
   "outputs": [
    {
     "data": {
      "image/png": "[encoded data removed]",
      "text/plain": [
       "Figure(PyObject <Figure size 640x480 with 1 Axes>)"
      ]
     },
     "metadata": {},
     "output_type": "display_data"
    },
    {
     "name": "stderr",
     "output_type": "stream",
     "text": [
      "C:\\Users\\s151781\\.julia\\conda\\3\\lib\\site-packages\\numpy\\core\\_asarray.py:85: ComplexWarning: Casting complex values to real discards the imaginary part\n",
      "  return array(a, dtype, copy=False, order=order)\n"
     ]
    }
   ],
   "source": [
    "plt.plot(t, X_samples);"
   ]
  },
  {
   "cell_type": "code",
   "execution_count": 20,
   "metadata": {},
   "outputs": [
    {
     "data": {
      "image/png": "[encoded data removed]",
      "text/plain": [
       "Figure(PyObject <Figure size 640x480 with 2 Axes>)"
      ]
     },
     "metadata": {},
     "output_type": "display_data"
    }
   ],
   "source": [
    "_,ax = plt.subplots(ncols=2); ax[1].hist(real(y_samples[:,1]), bins=50), ax[1].set_title(\"samples y real\"), ax[2].hist(imag(y_samples[:,1]), bins=50), ax[2].set_title(\"samples y imag\");"
   ]
  },
  {
   "cell_type": "code",
   "execution_count": 21,
   "metadata": {},
   "outputs": [
    {
     "data": {
      "image/png": "[encoded data removed]",
      "text/plain": [
       "Figure(PyObject <Figure size 640x480 with 1 Axes>)"
      ]
     },
     "metadata": {},
     "output_type": "display_data"
    }
   ],
   "source": [
    "plt.plot(t,y_samples);"
   ]
  },
  {
   "cell_type": "markdown",
   "metadata": {},
   "source": [
    "## Inference "
   ]
  },
  {
   "cell_type": "code",
   "execution_count": 22,
   "metadata": {},
   "outputs": [
    {
     "name": "stdout",
     "output_type": "stream",
     "text": [
      "begin\n",
      "\n",
      "function stepξ!(data::Dict, marginals::Dict=Dict(), messages::Vector{Message}=Array{Message}(undef, 2))\n",
      "\n",
      "messages[1] = ruleVBGaussianMeanVarianceOut(nothing, ProbabilityDistribution(ForneyLab.Multivariate, PointMass, m=data[:μ_ξ]), ProbabilityDistribution(MatrixVariate, PointMass, m=data[:Σ_ξ]))\n",
      "messages[2] = ruleVariationalHGFIn1PN(marginals[:X], nothing)\n",
      "\n",
      "marginals[:ξ] = messages[1].dist * messages[2].dist\n",
      "\n",
      "return marginals\n",
      "\n",
      "end\n",
      "\n",
      "function stepX!(data::Dict, marginals::Dict=Dict(), messages::Vector{Message}=Array{Message}(undef, 2))\n",
      "\n",
      "messages[1] = ruleVariationalHGFOutNP(nothing, marginals[:ξ])\n",
      "messages[2] = ruleVBComplexNormalIn1(ProbabilityDistribution(ForneyLab.Multivariate, PointMass, m=data[:y]), nothing, ProbabilityDistribution(MatrixVariate, PointMass, m=data[:Σ_y]), ProbabilityDistribution(MatrixVariate, PointMass, m=mat(0.0 + 0.0im)))\n",
      "\n",
      "marginals[:X] = messages[1].dist * messages[2].dist\n",
      "\n",
      "return marginals\n",
      "\n",
      "end\n",
      "\n",
      "end # block\n"
     ]
    }
   ],
   "source": [
    "q = PosteriorFactorization(X, ξ, ids=[:X :ξ])\n",
    "# generate algorithm\n",
    "algo = variationalAlgorithm(q)\n",
    "source_code = compatibility_fix(algorithmSourceCode(algo))\n",
    "eval(Meta.parse(source_code))\n",
    "println(source_code)"
   ]
  },
  {
   "cell_type": "code",
   "execution_count": 23,
   "metadata": {},
   "outputs": [],
   "source": [
    "μ_ξ_mem = Array{Float64,2}(undef, N, nr_freqs)\n",
    "Σ_ξ_mem = Array{Float64,2}(undef, N, nr_freqs)\n",
    "\n",
    "# priors\n",
    "μ_ξ = zeros(nr_freqs)\n",
    "Σ_ξ = 1*Ic(nr_freqs)\n",
    "Σ_y = 1e-10*Ic(nr_freqs).+0im# .+ 1im*0.5*1e-10*Ic(nr_freqs)\n",
    "\n",
    "marginals = Dict()\n",
    "\n",
    "for n = 1:N\n",
    "        \n",
    "    # fill marginals dictionary\n",
    "    marginals[:ξ] = ProbabilityDistribution(ForneyLab.Multivariate, GaussianMeanVariance, m=μ_ξ, v=Σ_ξ)\n",
    "    \n",
    "    # fill data dictionary\n",
    "    data = Dict()\n",
    "    data[:μ_ξ] = μ_ξ\n",
    "    data[:Σ_ξ] = Σ_ξ\n",
    "    data[:Σ_y] = Σ_y\n",
    "    data[:y] = y_samples[n,:]\n",
    "    \n",
    "    # perform updates\n",
    "    for _ in 1:5\n",
    "        Base.invokelatest(stepX!, data, marginals)\n",
    "        Base.invokelatest(stepξ!, data, marginals)\n",
    "    end\n",
    "    \n",
    "    # update parameters\n",
    "    μ_ξ = ForneyLab.unsafeMean(marginals[:ξ])\n",
    "    Σ_ξ = ForneyLab.unsafeCov(marginals[:ξ])\n",
    "\n",
    "    # save parameters\n",
    "    μ_ξ_mem[n,:] = μ_ξ\n",
    "    Σ_ξ_mem[n,:] = diag(Σ_ξ)\n",
    "    \n",
    "end"
   ]
  },
  {
   "cell_type": "code",
   "execution_count": 24,
   "metadata": {},
   "outputs": [
    {
     "data": {
      "text/plain": [
       "5-element Array{Float64,1}:\n",
       " -4.586621388495511 \n",
       " -2.602787220666117 \n",
       " -0.569872954341272 \n",
       "  1.4275573506371313\n",
       "  3.4238186111822637"
      ]
     },
     "execution_count": 24,
     "metadata": {},
     "output_type": "execute_result"
    }
   ],
   "source": [
    "mean(marginals[:ξ])"
   ]
  },
  {
   "cell_type": "code",
   "execution_count": 25,
   "metadata": {},
   "outputs": [
    {
     "data": {
      "text/plain": [
       "5×5 Array{Float64,2}:\n",
       "  9.999e-5   0.0        0.0        0.0       -0.0     \n",
       "  0.0        9.999e-5   0.0        0.0       -0.0     \n",
       "  0.0        0.0        9.999e-5   0.0       -0.0     \n",
       "  0.0        0.0        0.0        9.999e-5  -0.0     \n",
       " -0.0       -0.0       -0.0       -0.0        9.999e-5"
      ]
     },
     "execution_count": 25,
     "metadata": {},
     "output_type": "execute_result"
    }
   ],
   "source": [
    "cov(marginals[:ξ])"
   ]
  },
  {
   "cell_type": "code",
   "execution_count": 26,
   "metadata": {},
   "outputs": [
    {
     "data": {
      "text/plain": [
       "5-element Array{Complex{Float64},1}:\n",
       " 0.15920578380143913 - 0.015481489364851076im\n",
       " 0.04926478385053912 + 0.368771784236252im   \n",
       " -0.9124305328937559 + 0.1350254411445235im  \n",
       " -2.4222057252315907 + 1.4718596748936643im  \n",
       "  1.7567544897442524 - 3.3598240567091433im  "
      ]
     },
     "execution_count": 26,
     "metadata": {},
     "output_type": "execute_result"
    }
   ],
   "source": [
    "ForneyLab.unsafeMean(marginals[:X])"
   ]
  },
  {
   "cell_type": "code",
   "execution_count": 27,
   "metadata": {},
   "outputs": [
    {
     "data": {
      "text/plain": [
       "5×5 Array{Complex{Float64},2}:\n",
       " 1.0e-10+0.0im      0.0+0.0im      0.0+0.0im      0.0+0.0im      0.0+0.0im\n",
       "     0.0+0.0im  1.0e-10+0.0im      0.0+0.0im      0.0+0.0im      0.0+0.0im\n",
       "     0.0+0.0im      0.0+0.0im  1.0e-10+0.0im      0.0+0.0im      0.0+0.0im\n",
       "     0.0+0.0im      0.0+0.0im      0.0+0.0im  1.0e-10+0.0im      0.0+0.0im\n",
       "     0.0+0.0im      0.0+0.0im      0.0+0.0im      0.0+0.0im  1.0e-10+0.0im"
      ]
     },
     "execution_count": 27,
     "metadata": {},
     "output_type": "execute_result"
    }
   ],
   "source": [
    "ForneyLab.unsafeCov(marginals[:X])"
   ]
  },
  {
   "cell_type": "code",
   "execution_count": 28,
   "metadata": {},
   "outputs": [
    {
     "data": {
      "text/plain": [
       "5-element Array{Float64,1}:\n",
       " -3.665703772602573  \n",
       " -1.9774652821704932 \n",
       " -0.16162362791392293\n",
       "  2.0836142585157225 \n",
       "  2.6654630405146706 "
      ]
     },
     "execution_count": 28,
     "metadata": {},
     "output_type": "execute_result"
    }
   ],
   "source": [
    "log.(abs2.(ForneyLab.unsafeMean(marginals[:X])))"
   ]
  },
  {
   "cell_type": "markdown",
   "metadata": {},
   "source": [
    "## Results"
   ]
  },
  {
   "cell_type": "code",
   "execution_count": 29,
   "metadata": {},
   "outputs": [
    {
     "data": {
      "image/png": "[encoded data removed]",
      "text/plain": [
       "Figure(PyObject <Figure size 640x480 with 1 Axes>)"
      ]
     },
     "metadata": {},
     "output_type": "display_data"
    }
   ],
   "source": [
    "for k = 1:nr_freqs\n",
    "    plt.plot(t, μ_ξ_mem[:,k])\n",
    "    plt.fill_between(t, μ_ξ_mem[:,k] - sqrt.(Σ_ξ_mem[:,k]), μ_ξ_mem[:,k] + sqrt.(Σ_ξ_mem[:,k]), alpha=0.3)\n",
    "end\n"
   ]
  },
  {
   "cell_type": "code",
   "execution_count": 30,
   "metadata": {},
   "outputs": [
    {
     "data": {
      "text/plain": [
       "10000×5 Array{Float64,2}:\n",
       " -2.01082  -0.924717   0.325559   1.34006   2.58691\n",
       " -2.52094  -1.52832    0.331786   1.7399    3.15527\n",
       " -2.77207  -1.708      0.0739047  1.69836   3.33794\n",
       " -3.05296  -1.95454   -0.0483725  1.08458   3.24935\n",
       " -3.5262   -2.09371    0.117876   1.27607   3.23467\n",
       " -3.73283  -2.29424    0.125868   1.10684   3.09086\n",
       " -4.17165  -2.20747   -0.0232524  1.09576   2.81952\n",
       " -4.10092  -3.06601    0.12337    1.00269   2.9344 \n",
       " -4.19768  -2.84871    0.152435   0.967173  2.96984\n",
       " -4.31103  -2.88892    0.0176332  1.04252   2.90986\n",
       " -4.26734  -2.7566    -0.0394589  1.08671   3.02824\n",
       " -4.50304  -2.70217   -0.0174451  1.14513   3.21495\n",
       " -4.62837  -2.6149    -0.100076   1.18955   3.30586\n",
       "  ⋮                                                \n",
       " -4.58685  -2.60264   -0.570328   1.42726   3.42389\n",
       " -4.58674  -2.60273   -0.570166   1.42717   3.42386\n",
       " -4.58662  -2.60275   -0.570014   1.42719   3.42383\n",
       " -4.58656  -2.60265   -0.569837   1.42726   3.42397\n",
       " -4.58656  -2.60261   -0.570031   1.42729   3.42396\n",
       " -4.58641  -2.60258   -0.569903   1.42738   3.42397\n",
       " -4.58642  -2.60268   -0.569922   1.42731   3.42386\n",
       " -4.58628  -2.60268   -0.569916   1.42737   3.42388\n",
       " -4.58653  -2.60273   -0.569813   1.42735   3.42379\n",
       " -4.58669  -2.60276   -0.56965    1.42739   3.42374\n",
       " -4.58671  -2.60285   -0.569914   1.42749   3.42389\n",
       " -4.58662  -2.60279   -0.569873   1.42756   3.42382"
      ]
     },
     "execution_count": 30,
     "metadata": {},
     "output_type": "execute_result"
    }
   ],
   "source": [
    "μ_ξ_mem"
   ]
  },
  {
   "cell_type": "code",
   "execution_count": 31,
   "metadata": {},
   "outputs": [
    {
     "data": {
      "text/plain": [
       "10000×5 Array{Float64,2}:\n",
       " 0.5         0.5         0.5         0.5         0.5       \n",
       " 0.333333    0.333333    0.333333    0.333333    0.333333  \n",
       " 0.25        0.25        0.25        0.25        0.25      \n",
       " 0.2         0.2         0.2         0.2         0.2       \n",
       " 0.166667    0.166667    0.166667    0.166667    0.166667  \n",
       " 0.142857    0.142857    0.142857    0.142857    0.142857  \n",
       " 0.125       0.125       0.125       0.125       0.125     \n",
       " 0.111111    0.111111    0.111111    0.111111    0.111111  \n",
       " 0.1         0.1         0.1         0.1         0.1       \n",
       " 0.0909091   0.0909091   0.0909091   0.0909091   0.0909091 \n",
       " 0.0833333   0.0833333   0.0833333   0.0833333   0.0833333 \n",
       " 0.0769231   0.0769231   0.0769231   0.0769231   0.0769231 \n",
       " 0.0714286   0.0714286   0.0714286   0.0714286   0.0714286 \n",
       " ⋮                                                         \n",
       " 0.0001001   0.0001001   0.0001001   0.0001001   0.0001001 \n",
       " 0.00010009  0.00010009  0.00010009  0.00010009  0.00010009\n",
       " 0.00010008  0.00010008  0.00010008  0.00010008  0.00010008\n",
       " 0.00010007  0.00010007  0.00010007  0.00010007  0.00010007\n",
       " 0.00010006  0.00010006  0.00010006  0.00010006  0.00010006\n",
       " 0.00010005  0.00010005  0.00010005  0.00010005  0.00010005\n",
       " 0.00010004  0.00010004  0.00010004  0.00010004  0.00010004\n",
       " 0.00010003  0.00010003  0.00010003  0.00010003  0.00010003\n",
       " 0.00010002  0.00010002  0.00010002  0.00010002  0.00010002\n",
       " 0.00010001  0.00010001  0.00010001  0.00010001  0.00010001\n",
       " 0.0001      0.0001      0.0001      0.0001      0.0001    \n",
       " 9.999e-5    9.999e-5    9.999e-5    9.999e-5    9.999e-5  "
      ]
     },
     "execution_count": 31,
     "metadata": {},
     "output_type": "execute_result"
    }
   ],
   "source": [
    "Σ_ξ_mem"
   ]
  },
  {
   "cell_type": "code",
   "execution_count": 32,
   "metadata": {},
   "outputs": [
    {
     "data": {
      "text/plain": [
       "5-element Array{Float64,1}:\n",
       " 0.5866213884955114\n",
       " 0.6027872206661171\n",
       " 0.569872954341272 \n",
       " 0.5724426493628687\n",
       " 0.5761813888177363"
      ]
     },
     "execution_count": 32,
     "metadata": {},
     "output_type": "execute_result"
    }
   ],
   "source": [
    "μ_ξi  .- μ_ξ_mem[end,:] "
   ]
  },
  {
   "cell_type": "code",
   "execution_count": 33,
   "metadata": {},
   "outputs": [
    {
     "data": {
      "text/plain": [
       "0.5815811203367011"
      ]
     },
     "execution_count": 33,
     "metadata": {},
     "output_type": "execute_result"
    }
   ],
   "source": [
    "mean(μ_ξi  .- μ_ξ_mem[end,:])"
   ]
  },
  {
   "cell_type": "code",
   "execution_count": 34,
   "metadata": {},
   "outputs": [
    {
     "data": {
      "text/plain": [
       "(1.1447298858494002, 0.5723649429247001, 0.5641895835477563)"
      ]
     },
     "execution_count": 34,
     "metadata": {},
     "output_type": "execute_result"
    }
   ],
   "source": [
    "log(pi), 0.5*log(pi), 1/sqrt(pi)"
   ]
  }
 ],
 "metadata": {
  "kernelspec": {
   "display_name": "Julia 1.3.1",
   "language": "julia",
   "name": "julia-1.3"
  },
  "language_info": {
   "file_extension": ".jl",
   "mimetype": "application/julia",
   "name": "julia",
   "version": "1.3.1"
  }
 },
 "nbformat": 4,
 "nbformat_minor": 4
}
