{
 "cells": [
  {
   "cell_type": "code",
   "execution_count": 1,
   "metadata": {},
   "outputs": [
    {
     "name": "stdout",
     "output_type": "stream",
     "text": [
      "\u001b[32m\u001b[1mActivating\u001b[22m\u001b[39m environment at `C:\\Users\\s151781\\AppData\\Local\\Julia-1.3.1\\GN\\Project.toml`\n"
     ]
    },
    {
     "data": {
      "text/plain": [
       "fft_expand (generic function with 1 method)"
      ]
     },
     "execution_count": 1,
     "metadata": {},
     "output_type": "execute_result"
    }
   ],
   "source": [
    "import Pkg; Pkg.activate(\"C:/Users/s151781/AppData/Local/Julia-1.3.1/GN/Project.toml\")\n",
    "using Revise\n",
    "using Distributions\n",
    "using PyPlot\n",
    "using FFTW\n",
    "using Compat\n",
    "using WAV\n",
    "using DSP\n",
    "using Base64\n",
    "using ForneyLab\n",
    "using LinearAlgebra\n",
    "using ProgressMeter\n",
    "\n",
    "include(\"../functions/auxiliary/audioplayer.jl\")\n",
    "include(\"../functions/auxiliary/workflow.jl\")\n",
    "include(\"../functions/auxiliary/fourier.jl\")\n",
    "include(\"../functions/auxiliary/visualization.jl\")\n",
    "include(\"../functions/auxiliary/buffer.jl\")\n",
    "include(\"../functions/preprocessing.jl\")"
   ]
  },
  {
   "cell_type": "markdown",
   "metadata": {},
   "source": [
    "# Complex normal distribution"
   ]
  },
  {
   "cell_type": "code",
   "execution_count": 2,
   "metadata": {},
   "outputs": [],
   "source": [
    "# create random variable for vectors of gamma distributed RV's\n",
    "mutable struct ComplexNormal <: ForneyLab.SoftFactor\n",
    "    id::Symbol\n",
    "    interfaces::Vector{Interface}\n",
    "    i::Dict{Symbol,Interface}\n",
    "\n",
    "    function ComplexNormal(out, μ, Γ, C; id=ForneyLab.generateId(ComplexNormal))\n",
    "        @ensureVariables(out, μ, Γ, C)\n",
    "        self = new(id, Array{Interface}(undef, 4), Dict{Symbol,Interface}())\n",
    "        ForneyLab.addNode!(currentGraph(), self)\n",
    "        self.i[:out] = self.interfaces[1] = ForneyLab.associate!(Interface(self), out)\n",
    "        self.i[:μ] = self.interfaces[2] = ForneyLab.associate!(Interface(self), μ)\n",
    "        self.i[:Γ] = self.interfaces[3] = ForneyLab.associate!(Interface(self), Γ)\n",
    "        self.i[:C] = self.interfaces[4] = ForneyLab.associate!(Interface(self), C)\n",
    "\n",
    "        return self\n",
    "    end\n",
    "end\n",
    "\n",
    "format(dist::ProbabilityDistribution{ForneyLab.Multivariate, ComplexNormal}) = \"$(slug(ComplexNormal))(μ=$(format(dist.params[:μ])), Γ=$(format(dist.params[:Γ])), C=$(format(dist.params[:C])))\"\n",
    "\n",
    "ProbabilityDistribution(::Type{ForneyLab.Multivariate}, ::Type{ComplexNormal}; μ::Array{Complex{Float64},1}, Γ::Array{Complex{Float64},2}, C::Array{Complex{Float64},2}) = ProbabilityDistribution{ForneyLab.Multivariate, ComplexNormal}(Dict(:μ=>μ, :Γ=>Γ, :C=>C))\n",
    "ProbabilityDistribution(::Type{ComplexNormal}; μ::Array{Complex{Float64},1}, Γ::Array{Complex{Float64},2}, C::Array{Complex{Float64},2}) = ProbabilityDistribution{ForneyLab.Multivariate, ComplexNormal}(Dict(:μ=>μ, :Γ=>Γ, :C=>C))\n",
    "\n",
    "function ForneyLab.prod!( x::ProbabilityDistribution{ForneyLab.Multivariate, ComplexNormal},\n",
    "                          y::ProbabilityDistribution{ForneyLab.Multivariate, ComplexNormal},\n",
    "                          z::ProbabilityDistribution{ForneyLab.Multivariate, ComplexNormal}=ProbabilityDistribution(ForneyLab.Multivariate, ComplexNormal, μ=zeros(size(x.params[:μ])).+0im, Γ=(1e10+1e10im)*Ic(length(x.params[:μ])), C=mat(0.0+0.0im)))\n",
    "\n",
    "    # TOO SIMPLIFIED (CASE FOR C=0 -> circular symmetry)\n",
    "    z.params[:Γ] = inv(inv(x.params[:Γ]) + inv(y.params[:Γ])) .+ 0.0im\n",
    "    z.params[:μ] = z.params[:Γ]*(inv(x.params[:Γ])*x.params[:μ] + inv(y.params[:Γ])*y.params[:μ]) .+ 0.0im\n",
    "    z.params[:C] = mat(0.0+0.0im)\n",
    "        \n",
    "    return z\n",
    "end\n",
    "\n",
    "unsafeMean(dist::ProbabilityDistribution{ForneyLab.Multivariate, ComplexNormal}) = dist.params[:μ] # unsafe mean  \n",
    "ForneyLab.unsafeMean(dist::ProbabilityDistribution{ForneyLab.Multivariate, ComplexNormal}) = dist.params[:μ] # unsafe mean  \n",
    "unsafeCov(dist::ProbabilityDistribution{ForneyLab.Multivariate, ComplexNormal}) = dist.params[:Γ] # unsafe mean  \n",
    "ForneyLab.unsafeCov(dist::ProbabilityDistribution{ForneyLab.Multivariate, ComplexNormal}) = dist.params[:Γ] # unsafe mean  "
   ]
  },
  {
   "cell_type": "code",
   "execution_count": 3,
   "metadata": {},
   "outputs": [
    {
     "data": {
      "text/plain": [
       "ruleSPComplexNormalOutNPPP (generic function with 1 method)"
      ]
     },
     "execution_count": 3,
     "metadata": {},
     "output_type": "execute_result"
    }
   ],
   "source": [
    "ruleSPComplexNormalOutNPPP(msg_out::Nothing, \n",
    "                           msg_μ::Message{PointMass},\n",
    "                           msg_Γ::Message{PointMass},\n",
    "                           msf_C::Message{PointMass}) =\n",
    "                           Message(ForneyLab.Multivariate, ComplexNormal, μ=deepcopy(msg_μ.dist.params[:μ]), Γ=deepcopy(msg_Γ.dist.params[:Γ]), C=deepcopy(msg_C.dist.params[:C]))"
   ]
  },
  {
   "cell_type": "code",
   "execution_count": 4,
   "metadata": {},
   "outputs": [
    {
     "data": {
      "text/plain": [
       "ruleSPComplexNormalIn1PNPP (generic function with 1 method)"
      ]
     },
     "execution_count": 4,
     "metadata": {},
     "output_type": "execute_result"
    }
   ],
   "source": [
    "ruleSPComplexNormalIn1PNPP(msg_out::Message{PointMass}, \n",
    "                           msg_μ::Nothing,\n",
    "                           msg_Γ::Message{PointMass},\n",
    "                           msf_C::Message{PointMass}) =\n",
    "                           Message(ForneyLab.Multivariate, ComplexNormal, μ=deepcopy(msg_out.dist.params[:μ]), Γ=deepcopy(msg_Γ.dist.params[:Γ]), C=deepcopy(msg_C.dist.params[:C]))"
   ]
  },
  {
   "cell_type": "code",
   "execution_count": 5,
   "metadata": {},
   "outputs": [
    {
     "data": {
      "text/plain": [
       "ruleVBComplexNormalOut (generic function with 1 method)"
      ]
     },
     "execution_count": 5,
     "metadata": {},
     "output_type": "execute_result"
    }
   ],
   "source": [
    "ruleVBComplexNormalOut(dist_out::Any,\n",
    "                       dist_μ::ProbabilityDistribution{ForneyLab.Multivariate},\n",
    "                       dist_Γ::ProbabilityDistribution{ForneyLab.MatrixVariate},\n",
    "                       dist_C::ProbabilityDistribution{ForneyLab.MatrixVariate}) =\n",
    "                       Message(ForneyLab.Multivariate, ComplexNormal, μ=ForneyLab.unsafeMean(dist_μ), Γ=ForneyLab.unsafeMean(dist_Γ), C=ForneyLab.unsafeMean(dist_C))"
   ]
  },
  {
   "cell_type": "code",
   "execution_count": 6,
   "metadata": {},
   "outputs": [
    {
     "data": {
      "text/plain": [
       "ruleVBComplexNormalIn1 (generic function with 1 method)"
      ]
     },
     "execution_count": 6,
     "metadata": {},
     "output_type": "execute_result"
    }
   ],
   "source": [
    "ruleVBComplexNormalIn1(dist_out::ProbabilityDistribution{ForneyLab.Multivariate},\n",
    "                       dist_μ::Any,\n",
    "                       dist_Γ::ProbabilityDistribution{ForneyLab.MatrixVariate},\n",
    "                       dist_C::ProbabilityDistribution{ForneyLab.MatrixVariate}) =\n",
    "                       Message(ForneyLab.Multivariate, ComplexNormal, μ=ForneyLab.unsafeMean(dist_out), Γ=ForneyLab.unsafeMean(dist_Γ), C=ForneyLab.unsafeMean(dist_C))"
   ]
  },
  {
   "cell_type": "code",
   "execution_count": 7,
   "metadata": {},
   "outputs": [],
   "source": [
    "@sumProductRule(:node_type     => ComplexNormal,\n",
    "                :outbound_type => Message{ComplexNormal},\n",
    "                :inbound_types => (Nothing, Message{PointMass}, Message{PointMass}, Message{PointMass}),\n",
    "                :name          => SPComplexNormalOutNPP)\n",
    "\n",
    "@sumProductRule(:node_type     => ComplexNormal,\n",
    "                :outbound_type => Message{ComplexNormal},\n",
    "                :inbound_types => (Message{PointMass}, Nothing, Message{PointMass}, Message{PointMass}),\n",
    "                :name          => SPComplexNormalIn1NPP)\n",
    "\n",
    "@naiveVariationalRule(:node_type     => ComplexNormal,\n",
    "                      :outbound_type => Message{ComplexNormal},\n",
    "                      :inbound_types => (Nothing, ProbabilityDistribution, ProbabilityDistribution, ProbabilityDistribution),\n",
    "                      :name          => VBComplexNormalOut)\n",
    "\n",
    "@naiveVariationalRule(:node_type     => ComplexNormal,\n",
    "                      :outbound_type => Message{ComplexNormal},\n",
    "                      :inbound_types => (ProbabilityDistribution, Nothing, ProbabilityDistribution, ProbabilityDistribution),\n",
    "                      :name          => VBComplexNormalIn1)"
   ]
  },
  {
   "cell_type": "markdown",
   "metadata": {},
   "source": [
    "# Hierarchical Gaussian filter"
   ]
  },
  {
   "cell_type": "code",
   "execution_count": 8,
   "metadata": {},
   "outputs": [],
   "source": [
    "mutable struct HGF <: ForneyLab.SoftFactor\n",
    "    id::Symbol\n",
    "    interfaces::Vector{Interface}\n",
    "    i::Dict{Symbol,Interface}\n",
    "\n",
    "    function HGF(X, ξ; id=ForneyLab.generateId(HGF))\n",
    "        \n",
    "        # ensure that the input arguments are random variables\n",
    "        @ensureVariables(X, ξ) \n",
    "        \n",
    "        # create new object\n",
    "        self = new(id, Array{Interface}(undef, 2), Dict{Symbol,Interface}())\n",
    "        \n",
    "        # add the node to the current factor graph\n",
    "        ForneyLab.addNode!(currentGraph(), self)\n",
    "        \n",
    "        # add argument variables to interfaces of node\n",
    "        self.i[:X] = self.interfaces[1] = ForneyLab.associate!(Interface(self), X)\n",
    "        self.i[:ξ] = self.interfaces[2] = ForneyLab.associate!(Interface(self), ξ)\n",
    "        \n",
    "        # return object\n",
    "        return self\n",
    "    end\n",
    "end"
   ]
  },
  {
   "cell_type": "code",
   "execution_count": 9,
   "metadata": {},
   "outputs": [
    {
     "data": {
      "text/plain": [
       "ruleVariationalHGFOutNP (generic function with 1 method)"
      ]
     },
     "execution_count": 9,
     "metadata": {},
     "output_type": "execute_result"
    }
   ],
   "source": [
    "function ruleVariationalHGFOutNP(marg_X::Nothing, \n",
    "                                 marg_ξ::ProbabilityDistribution{ForneyLab.Multivariate})\n",
    "    \n",
    "    # caluclate required mean\n",
    "    mξ = ForneyLab.unsafeMean(marg_ξ)\n",
    "\n",
    "    # calculate required variance\n",
    "    vξ = diag(ForneyLab.unsafeCov(marg_ξ))\n",
    "\n",
    "    # calculate new parameters\n",
    "    mX = zeros(size(mξ)) .+ 0im\n",
    "    vX = exp.(mξ - vξ/2) .+ 0im\n",
    "    \n",
    "    # create variational message\n",
    "    return Message(ForneyLab.Multivariate, ComplexNormal, μ=mX, Γ=diagm(vX), C=mat(0.0+0.0im))\n",
    "\n",
    "end"
   ]
  },
  {
   "cell_type": "code",
   "execution_count": 110,
   "metadata": {},
   "outputs": [
    {
     "data": {
      "text/plain": [
       "ruleVariationalHGFIn1PN (generic function with 1 method)"
      ]
     },
     "execution_count": 110,
     "metadata": {},
     "output_type": "execute_result"
    }
   ],
   "source": [
    "function ruleVariationalHGFIn1PN(marg_X::ProbabilityDistribution{ForneyLab.Multivariate}, \n",
    "                                 marg_ξ::Nothing)\n",
    "    \n",
    "    # calculate required means\n",
    "    mX = ForneyLab.unsafeMean(marg_X)\n",
    "\n",
    "    # calculate required variances\n",
    "    vX = diag(ForneyLab.unsafeCov(marg_X))\n",
    "\n",
    "    # calculate new parameters\n",
    "    mξ = log.(abs2.(mX) + real.(vX))\n",
    "    vξ = 1.0*ones(length(mξ))\n",
    "\n",
    "    # create variational message\n",
    "    Message(ForneyLab.Multivariate, GaussianWeightedMeanPrecision, xi=mξ./vξ, w=diagm(1 ./ vξ))\n",
    "\n",
    "end"
   ]
  },
  {
   "cell_type": "code",
   "execution_count": 111,
   "metadata": {},
   "outputs": [],
   "source": [
    "@naiveVariationalRule(:node_type     => HGF,\n",
    "                      :outbound_type => Message{ComplexNormal},\n",
    "                      :inbound_types => (Nothing, ProbabilityDistribution),\n",
    "                      :name          => VariationalHGFOutNP)\n",
    "\n",
    "@naiveVariationalRule(:node_type     => HGF,\n",
    "                      :outbound_type => Message{GaussianWeightedMeanPrecision},\n",
    "                      :inbound_types => (ProbabilityDistribution, Nothing),\n",
    "                      :name          => VariationalHGFIn1PN)"
   ]
  },
  {
   "cell_type": "markdown",
   "metadata": {},
   "source": [
    "## Factor graph"
   ]
  },
  {
   "cell_type": "code",
   "execution_count": 112,
   "metadata": {},
   "outputs": [
    {
     "data": {
      "text/html": [
       "<?xml version=\"1.0\" encoding=\"UTF-8\" standalone=\"no\"?>\r\n",
       "<!DOCTYPE svg PUBLIC \"-//W3C//DTD SVG 1.1//EN\"\r\n",
       " \"http://www.w3.org/Graphics/SVG/1.1/DTD/svg11.dtd\">\r\n",
       "<!-- Generated by graphviz version 2.38.0 (20140413.2041)\r\n",
       " -->\r\n",
       "<!-- Title: G Pages: 1 -->\r\n",
       "<svg width=\"442pt\" height=\"512pt\"\r\n",
       " viewBox=\"0.00 0.00 441.50 512.00\" xmlns=\"http://www.w3.org/2000/svg\" xmlns:xlink=\"http://www.w3.org/1999/xlink\">\r\n",
       "<g id=\"graph0\" class=\"graph\" transform=\"scale(1 1) rotate(0) translate(4 508)\">\r\n",
       "<title>G</title>\r\n",
       "<polygon fill=\"white\" stroke=\"none\" points=\"-4,4 -4,-508 437.5,-508 437.5,4 -4,4\"/>\r\n",
       "<!-- 14381285354676498861 -->\r\n",
       "<g id=\"node1\" class=\"node\"><title>14381285354676498861</title>\r\n",
       "<polygon fill=\"none\" stroke=\"black\" points=\"245,-405 165,-405 165,-333 245,-333 245,-405\"/>\r\n",
       "<text text-anchor=\"middle\" x=\"205\" y=\"-371.8\" font-family=\"Times New Roman,serif\" font-size=\"9.00\">ComplexNormal</text>\r\n",
       "<text text-anchor=\"middle\" x=\"205\" y=\"-361.8\" font-family=\"Times New Roman,serif\" font-size=\"9.00\">complexnormal_1</text>\r\n",
       "</g>\r\n",
       "<!-- 4444955716817476409 -->\r\n",
       "<g id=\"node3\" class=\"node\"><title>4444955716817476409</title>\r\n",
       "<polygon fill=\"lightgrey\" stroke=\"black\" points=\"54,-279 0,-279 0,-225 54,-225 54,-279\"/>\r\n",
       "<text text-anchor=\"middle\" x=\"27\" y=\"-249.8\" font-family=\"Times New Roman,serif\" font-size=\"9.00\">clamp_1</text>\r\n",
       "</g>\r\n",
       "<!-- 14381285354676498861&#45;&#45;4444955716817476409 -->\r\n",
       "<g id=\"edge1\" class=\"edge\"><title>14381285354676498861&#45;&#45;4444955716817476409</title>\r\n",
       "<path fill=\"none\" stroke=\"black\" d=\"M164.609,-341.905C130.862,-320.102 83.6658,-289.61 54.2387,-270.598\"/>\r\n",
       "<text text-anchor=\"start\" x=\"122\" y=\"-308.6\" font-family=\"Times New Roman,serif\" font-size=\"8.00\" fill=\"red\">clamp_1</text>\r\n",
       "<text text-anchor=\"start\" x=\"54.2387\" y=\"-273.198\" font-family=\"Times New Roman,serif\" font-size=\"8.00\">1 out </text>\r\n",
       "<text text-anchor=\"start\" x=\"149.609\" y=\"-344.505\" font-family=\"Times New Roman,serif\" font-size=\"8.00\">4 C </text>\r\n",
       "</g>\r\n",
       "<!-- 4555548502931957992 -->\r\n",
       "<g id=\"node4\" class=\"node\"><title>4555548502931957992</title>\r\n",
       "<polygon fill=\"none\" stroke=\"black\" points=\"241,-288 169,-288 169,-216 241,-216 241,-288\"/>\r\n",
       "<text text-anchor=\"middle\" x=\"205\" y=\"-254.8\" font-family=\"Times New Roman,serif\" font-size=\"9.00\">HGF</text>\r\n",
       "<text text-anchor=\"middle\" x=\"205\" y=\"-244.8\" font-family=\"Times New Roman,serif\" font-size=\"9.00\">hgf_1</text>\r\n",
       "</g>\r\n",
       "<!-- 14381285354676498861&#45;&#45;4555548502931957992 -->\r\n",
       "<g id=\"edge3\" class=\"edge\"><title>14381285354676498861&#45;&#45;4555548502931957992</title>\r\n",
       "<path fill=\"none\" stroke=\"black\" d=\"M205,-332.871C205,-318.736 205,-302.463 205,-288.31\"/>\r\n",
       "<text text-anchor=\"start\" x=\"205\" y=\"-308.6\" font-family=\"Times New Roman,serif\" font-size=\"8.00\" fill=\"red\">X</text>\r\n",
       "<text text-anchor=\"start\" x=\"189\" y=\"-290.91\" font-family=\"Times New Roman,serif\" font-size=\"8.00\">1 X </text>\r\n",
       "<text text-anchor=\"start\" x=\"191\" y=\"-326.471\" font-family=\"Times New Roman,serif\" font-size=\"8.00\">2 μ </text>\r\n",
       "</g>\r\n",
       "<!-- 2264875319020035981 -->\r\n",
       "<g id=\"node7\" class=\"node\"><title>2264875319020035981</title>\r\n",
       "<polygon fill=\"lightgrey\" stroke=\"black\" points=\"433.5,-279 356.5,-279 356.5,-225 433.5,-225 433.5,-279\"/>\r\n",
       "<text text-anchor=\"middle\" x=\"395\" y=\"-249.8\" font-family=\"Times New Roman,serif\" font-size=\"9.00\">placeholder_Σ_y</text>\r\n",
       "</g>\r\n",
       "<!-- 14381285354676498861&#45;&#45;2264875319020035981 -->\r\n",
       "<g id=\"edge4\" class=\"edge\"><title>14381285354676498861&#45;&#45;2264875319020035981</title>\r\n",
       "<path fill=\"none\" stroke=\"black\" d=\"M245.294,-343.611C278.082,-323.766 324.059,-295.938 356.386,-276.372\"/>\r\n",
       "<text text-anchor=\"start\" x=\"306\" y=\"-308.6\" font-family=\"Times New Roman,serif\" font-size=\"8.00\" fill=\"red\">Σ_y</text>\r\n",
       "<text text-anchor=\"start\" x=\"335.386\" y=\"-278.972\" font-family=\"Times New Roman,serif\" font-size=\"8.00\">1 out </text>\r\n",
       "<text text-anchor=\"start\" x=\"245.294\" y=\"-346.211\" font-family=\"Times New Roman,serif\" font-size=\"8.00\">3 Γ </text>\r\n",
       "</g>\r\n",
       "<!-- 18061513437584745015 -->\r\n",
       "<g id=\"node2\" class=\"node\"><title>18061513437584745015</title>\r\n",
       "<polygon fill=\"lightgrey\" stroke=\"black\" points=\"239,-504 171,-504 171,-450 239,-450 239,-504\"/>\r\n",
       "<text text-anchor=\"middle\" x=\"205\" y=\"-474.8\" font-family=\"Times New Roman,serif\" font-size=\"9.00\">placeholder_y</text>\r\n",
       "</g>\r\n",
       "<!-- 18061513437584745015&#45;&#45;14381285354676498861 -->\r\n",
       "<g id=\"edge7\" class=\"edge\"><title>18061513437584745015&#45;&#45;14381285354676498861</title>\r\n",
       "<path fill=\"none\" stroke=\"black\" d=\"M205,-449.798C205,-436.31 205,-419.68 205,-405.099\"/>\r\n",
       "<text text-anchor=\"start\" x=\"205\" y=\"-425.6\" font-family=\"Times New Roman,serif\" font-size=\"8.00\" fill=\"red\">y</text>\r\n",
       "<text text-anchor=\"start\" x=\"184\" y=\"-407.699\" font-family=\"Times New Roman,serif\" font-size=\"8.00\">1 out </text>\r\n",
       "<text text-anchor=\"start\" x=\"184\" y=\"-443.398\" font-family=\"Times New Roman,serif\" font-size=\"8.00\">1 out </text>\r\n",
       "</g>\r\n",
       "<!-- 15043558548840460637 -->\r\n",
       "<g id=\"node8\" class=\"node\"><title>15043558548840460637</title>\r\n",
       "<polygon fill=\"none\" stroke=\"black\" points=\"257,-171 153,-171 153,-99 257,-99 257,-171\"/>\r\n",
       "<text text-anchor=\"middle\" x=\"205\" y=\"-137.8\" font-family=\"Times New Roman,serif\" font-size=\"9.00\">𝒩</text>\r\n",
       "<text text-anchor=\"middle\" x=\"205\" y=\"-127.8\" font-family=\"Times New Roman,serif\" font-size=\"9.00\">gaussianmeanvariance_1</text>\r\n",
       "</g>\r\n",
       "<!-- 4555548502931957992&#45;&#45;15043558548840460637 -->\r\n",
       "<g id=\"edge6\" class=\"edge\"><title>4555548502931957992&#45;&#45;15043558548840460637</title>\r\n",
       "<path fill=\"none\" stroke=\"black\" d=\"M205,-215.871C205,-201.736 205,-185.463 205,-171.31\"/>\r\n",
       "<text text-anchor=\"start\" x=\"205\" y=\"-191.6\" font-family=\"Times New Roman,serif\" font-size=\"8.00\" fill=\"red\">ξ</text>\r\n",
       "<text text-anchor=\"start\" x=\"184\" y=\"-173.91\" font-family=\"Times New Roman,serif\" font-size=\"8.00\">1 out </text>\r\n",
       "<text text-anchor=\"start\" x=\"192\" y=\"-209.471\" font-family=\"Times New Roman,serif\" font-size=\"8.00\">2 ξ </text>\r\n",
       "</g>\r\n",
       "<!-- 16295430057242775315 -->\r\n",
       "<g id=\"node5\" class=\"node\"><title>16295430057242775315</title>\r\n",
       "<polygon fill=\"lightgrey\" stroke=\"black\" points=\"147.5,-54 72.5,-54 72.5,-0 147.5,-0 147.5,-54\"/>\r\n",
       "<text text-anchor=\"middle\" x=\"110\" y=\"-24.8\" font-family=\"Times New Roman,serif\" font-size=\"9.00\">placeholder_μ_ξ</text>\r\n",
       "</g>\r\n",
       "<!-- 17899716807526513980 -->\r\n",
       "<g id=\"node6\" class=\"node\"><title>17899716807526513980</title>\r\n",
       "<polygon fill=\"lightgrey\" stroke=\"black\" points=\"339,-54 263,-54 263,-0 339,-0 339,-54\"/>\r\n",
       "<text text-anchor=\"middle\" x=\"301\" y=\"-24.8\" font-family=\"Times New Roman,serif\" font-size=\"9.00\">placeholder_Σ_ξ</text>\r\n",
       "</g>\r\n",
       "<!-- 15043558548840460637&#45;&#45;16295430057242775315 -->\r\n",
       "<g id=\"edge2\" class=\"edge\"><title>15043558548840460637&#45;&#45;16295430057242775315</title>\r\n",
       "<path fill=\"none\" stroke=\"black\" d=\"M162.334,-98.8483C156.259,-93.1326 150.288,-87.0846 145,-81 137.839,-72.7603 130.983,-62.9673 125.266,-54.0546\"/>\r\n",
       "<text text-anchor=\"start\" x=\"145\" y=\"-74.6\" font-family=\"Times New Roman,serif\" font-size=\"8.00\" fill=\"red\">μ_ξ</text>\r\n",
       "<text text-anchor=\"start\" x=\"104.266\" y=\"-56.6546\" font-family=\"Times New Roman,serif\" font-size=\"8.00\">1 out </text>\r\n",
       "<text text-anchor=\"start\" x=\"146.334\" y=\"-92.4483\" font-family=\"Times New Roman,serif\" font-size=\"8.00\">2 m </text>\r\n",
       "</g>\r\n",
       "<!-- 15043558548840460637&#45;&#45;17899716807526513980 -->\r\n",
       "<g id=\"edge5\" class=\"edge\"><title>15043558548840460637&#45;&#45;17899716807526513980</title>\r\n",
       "<path fill=\"none\" stroke=\"black\" d=\"M236.7,-98.9979C249.917,-84.4044 265.004,-67.7451 277.242,-54.2331\"/>\r\n",
       "<text text-anchor=\"start\" x=\"259\" y=\"-74.6\" font-family=\"Times New Roman,serif\" font-size=\"8.00\" fill=\"red\">Σ_ξ</text>\r\n",
       "<text text-anchor=\"start\" x=\"256.242\" y=\"-56.8331\" font-family=\"Times New Roman,serif\" font-size=\"8.00\">1 out </text>\r\n",
       "<text text-anchor=\"start\" x=\"222.7\" y=\"-92.5979\" font-family=\"Times New Roman,serif\" font-size=\"8.00\">3 v </text>\r\n",
       "</g>\r\n",
       "</g>\r\n",
       "</svg>\r\n"
      ]
     },
     "metadata": {},
     "output_type": "display_data"
    }
   ],
   "source": [
    "# number of frequency bins \n",
    "nr_freqs = 5\n",
    "\n",
    "# create factor graph\n",
    "fg = FactorGraph()\n",
    "\n",
    "# gaussian mixture \n",
    "@RV [id=:ξ] ξ ~ GaussianMeanVariance(placeholder(:μ_ξ, dims=(nr_freqs,)), placeholder(:Σ_ξ, dims=(nr_freqs,nr_freqs)))\n",
    "\n",
    "# HGF\n",
    "@RV [id=:X] X ~ HGF(ξ)\n",
    "\n",
    "# observation model\n",
    "@RV [id=:y] y ~ ComplexNormal(X, placeholder(:Σ_y, dims=(nr_freqs,nr_freqs)), mat(0.0+0.0im))\n",
    "placeholder(y, :y, dims=(nr_freqs,))\n",
    "\n",
    "# draw graph\n",
    "ForneyLab.draw(fg)"
   ]
  },
  {
   "cell_type": "markdown",
   "metadata": {},
   "source": [
    "## Data generation"
   ]
  },
  {
   "cell_type": "code",
   "execution_count": 113,
   "metadata": {},
   "outputs": [],
   "source": [
    "# generate data\n",
    "N = 10000\n",
    "\n",
    "μ_ξi = 1.0*collect(-4:2:4)\n",
    "Σ_ξ = 1e-4*diagm(ones(nr_freqs))\n",
    "Σ_meas = 1e-10*Ic(nr_freqs)\n",
    "\n",
    "ξ_samples = Array{Float64,2}(undef, N, nr_freqs)\n",
    "X_samples = Array{Complex{Float64},2}(undef, N, nr_freqs)\n",
    "y_samples = Array{Complex{Float64},2}(undef, N, nr_freqs)\n",
    "\n",
    "for n = 1:N\n",
    "\n",
    "#     sample_ξ = rand(MvNormal(μ_ξ, Σ_ξ))\n",
    "#     sample_X = rand(MvNormal(zeros(nr_freqs), real.((exp.(0.5*sample_ξ))))) + 1im*rand(MvNormal(zeros(nr_freqs), real.((exp.(0.5*sample_ξ)))))\n",
    "#     sample_y = rand(MvNormal(real(sample_X), 0.5*real.(Σ_meas))) + 1im*rand(MvNormal(imag(sample_X), 0.5*real.(Σ_meas)))\n",
    "    \n",
    "#     ξ_samples[n,:] = sample_ξ\n",
    "#     X_samples[n,:] = sample_X\n",
    "#     y_samples[n,:] = sample_y\n",
    "    for k = 1:nr_freqs\n",
    "        sample_ξ = rand(Normal(μ_ξi[k], sqrt(Σ_ξ[k,k])))\n",
    "        sample_X = rand(Normal(0, sqrt(0.5*exp(sample_ξ)))) + 1im*rand(Normal(0, sqrt(0.5*exp(sample_ξ))))\n",
    "        sample_y = rand(Normal(real(sample_X), sqrt(0.5*Σ_meas[k,k]))) + 1im*rand(Normal(imag(sample_X), sqrt(0.5*Σ_meas[k,k])))\n",
    "\n",
    "        ξ_samples[n,k] = sample_ξ\n",
    "        X_samples[n,k] = sample_X\n",
    "        y_samples[n,k] = sample_y\n",
    "    end\n",
    "end\n",
    "\n",
    "t = collect(1:N)\n",
    ";"
   ]
  },
  {
   "cell_type": "code",
   "execution_count": 114,
   "metadata": {},
   "outputs": [
    {
     "data": {
      "image/png": "[encoded data removed]",
      "text/plain": [
       "Figure(PyObject <Figure size 640x480 with 1 Axes>)"
      ]
     },
     "metadata": {},
     "output_type": "display_data"
    }
   ],
   "source": [
    "plt.plot(t, ξ_samples);"
   ]
  },
  {
   "cell_type": "code",
   "execution_count": 115,
   "metadata": {},
   "outputs": [
    {
     "data": {
      "text/plain": [
       "(-4.000123082366698, 9.969532963908071e-5)"
      ]
     },
     "execution_count": 115,
     "metadata": {},
     "output_type": "execute_result"
    }
   ],
   "source": [
    "mean(ξ_samples[:,1]), var(ξ_samples[:,1])"
   ]
  },
  {
   "cell_type": "code",
   "execution_count": 116,
   "metadata": {},
   "outputs": [
    {
     "data": {
      "image/png": "[encoded data removed]",
      "text/plain": [
       "Figure(PyObject <Figure size 640x480 with 1 Axes>)"
      ]
     },
     "metadata": {},
     "output_type": "display_data"
    }
   ],
   "source": [
    "plt.hist(ξ_samples[:,1], bins=50), plt.title(\"samples ξ\");"
   ]
  },
  {
   "cell_type": "code",
   "execution_count": 117,
   "metadata": {},
   "outputs": [
    {
     "data": {
      "text/plain": [
       "(0.008938175187177143, 0.00934998417709526, 1.3591409142295225)"
      ]
     },
     "execution_count": 117,
     "metadata": {},
     "output_type": "execute_result"
    }
   ],
   "source": [
    "var(real(X_samples[:,1])), var(imag(X_samples[:,1])), 0.5*exp(1)"
   ]
  },
  {
   "cell_type": "code",
   "execution_count": 118,
   "metadata": {},
   "outputs": [
    {
     "data": {
      "image/png": "[encoded data removed]",
      "text/plain": [
       "Figure(PyObject <Figure size 640x480 with 2 Axes>)"
      ]
     },
     "metadata": {},
     "output_type": "display_data"
    }
   ],
   "source": [
    "_,ax = plt.subplots(ncols=2); ax[1].hist(real(X_samples[:,1]), bins=50), ax[1].set_title(\"samples X real\"), ax[2].hist(imag(X_samples[:,1]), bins=50), ax[2].set_title(\"samples X imag\");"
   ]
  },
  {
   "cell_type": "code",
   "execution_count": 119,
   "metadata": {},
   "outputs": [
    {
     "data": {
      "image/png": "[encoded data removed]",
      "text/plain": [
       "Figure(PyObject <Figure size 640x480 with 1 Axes>)"
      ]
     },
     "metadata": {},
     "output_type": "display_data"
    }
   ],
   "source": [
    "plt.plot(t, X_samples);"
   ]
  },
  {
   "cell_type": "code",
   "execution_count": 120,
   "metadata": {},
   "outputs": [
    {
     "data": {
      "image/png": "[encoded data removed]",
      "text/plain": [
       "Figure(PyObject <Figure size 640x480 with 2 Axes>)"
      ]
     },
     "metadata": {},
     "output_type": "display_data"
    }
   ],
   "source": [
    "_,ax = plt.subplots(ncols=2); ax[1].hist(real(y_samples[:,1]), bins=50), ax[1].set_title(\"samples y real\"), ax[2].hist(imag(y_samples[:,1]), bins=50), ax[2].set_title(\"samples y imag\");"
   ]
  },
  {
   "cell_type": "code",
   "execution_count": 121,
   "metadata": {},
   "outputs": [
    {
     "data": {
      "image/png": "[encoded data removed]",
      "text/plain": [
       "Figure(PyObject <Figure size 640x480 with 1 Axes>)"
      ]
     },
     "metadata": {},
     "output_type": "display_data"
    }
   ],
   "source": [
    "plt.plot(t,y_samples);"
   ]
  },
  {
   "cell_type": "markdown",
   "metadata": {},
   "source": [
    "## Inference "
   ]
  },
  {
   "cell_type": "code",
   "execution_count": 122,
   "metadata": {},
   "outputs": [
    {
     "name": "stdout",
     "output_type": "stream",
     "text": [
      "begin\n",
      "\n",
      "function stepξ!(data::Dict, marginals::Dict=Dict(), messages::Vector{Message}=Array{Message}(undef, 2))\n",
      "\n",
      "messages[1] = ruleVBGaussianMeanVarianceOut(nothing, ProbabilityDistribution(ForneyLab.Multivariate, PointMass, m=data[:μ_ξ]), ProbabilityDistribution(MatrixVariate, PointMass, m=data[:Σ_ξ]))\n",
      "messages[2] = ruleVariationalHGFIn1PN(marginals[:X], nothing)\n",
      "\n",
      "marginals[:ξ] = messages[1].dist * messages[2].dist\n",
      "\n",
      "return marginals\n",
      "\n",
      "end\n",
      "\n",
      "function stepX!(data::Dict, marginals::Dict=Dict(), messages::Vector{Message}=Array{Message}(undef, 2))\n",
      "\n",
      "messages[1] = ruleVariationalHGFOutNP(nothing, marginals[:ξ])\n",
      "messages[2] = ruleVBComplexNormalIn1(ProbabilityDistribution(ForneyLab.Multivariate, PointMass, m=data[:y]), nothing, ProbabilityDistribution(MatrixVariate, PointMass, m=data[:Σ_y]), ProbabilityDistribution(MatrixVariate, PointMass, m=mat(0.0 + 0.0im)))\n",
      "\n",
      "marginals[:X] = messages[1].dist * messages[2].dist\n",
      "\n",
      "return marginals\n",
      "\n",
      "end\n",
      "\n",
      "end # block\n"
     ]
    }
   ],
   "source": [
    "q = PosteriorFactorization(X, ξ, ids=[:X :ξ])\n",
    "# generate algorithm\n",
    "algo = variationalAlgorithm(q)\n",
    "source_code = compatibility_fix(algorithmSourceCode(algo))\n",
    "eval(Meta.parse(source_code))\n",
    "println(source_code)"
   ]
  },
  {
   "cell_type": "code",
   "execution_count": 123,
   "metadata": {},
   "outputs": [],
   "source": [
    "μ_ξ_mem = Array{Float64,2}(undef, N, nr_freqs)\n",
    "Σ_ξ_mem = Array{Float64,2}(undef, N, nr_freqs)\n",
    "\n",
    "# priors\n",
    "μ_ξ = zeros(nr_freqs)\n",
    "Σ_ξ = 1*Ic(nr_freqs)\n",
    "Σ_y = 1e-10*Ic(nr_freqs).+0im# .+ 1im*0.5*1e-10*Ic(nr_freqs)\n",
    "\n",
    "marginals = Dict()\n",
    "\n",
    "for n = 1:N\n",
    "        \n",
    "    # fill marginals dictionary\n",
    "    marginals[:ξ] = ProbabilityDistribution(ForneyLab.Multivariate, GaussianMeanVariance, m=μ_ξ, v=Σ_ξ)\n",
    "    \n",
    "    # fill data dictionary\n",
    "    data = Dict()\n",
    "    data[:μ_ξ] = μ_ξ\n",
    "    data[:Σ_ξ] = Σ_ξ\n",
    "    data[:Σ_y] = Σ_y\n",
    "    data[:y] = y_samples[n,:]\n",
    "    \n",
    "    # perform updates\n",
    "    for _ in 1:5\n",
    "        Base.invokelatest(stepX!, data, marginals)\n",
    "        Base.invokelatest(stepξ!, data, marginals)\n",
    "    end\n",
    "    \n",
    "    # update parameters\n",
    "    μ_ξ = ForneyLab.unsafeMean(marginals[:ξ])\n",
    "    Σ_ξ = ForneyLab.unsafeCov(marginals[:ξ])\n",
    "\n",
    "    # save parameters\n",
    "    μ_ξ_mem[n,:] = μ_ξ\n",
    "    Σ_ξ_mem[n,:] = diag(Σ_ξ)\n",
    "    \n",
    "end"
   ]
  },
  {
   "cell_type": "code",
   "execution_count": 124,
   "metadata": {},
   "outputs": [
    {
     "data": {
      "text/plain": [
       "5-element Array{Float64,1}:\n",
       " -4.5804832820798795\n",
       " -2.58391940785854  \n",
       " -0.5790207099870851\n",
       "  1.426420364963586 \n",
       "  3.429017009148643 "
      ]
     },
     "execution_count": 124,
     "metadata": {},
     "output_type": "execute_result"
    }
   ],
   "source": [
    "mean(marginals[:ξ])"
   ]
  },
  {
   "cell_type": "code",
   "execution_count": 125,
   "metadata": {},
   "outputs": [
    {
     "data": {
      "text/plain": [
       "5×5 Array{Float64,2}:\n",
       "  9.999e-5   0.0        0.0        0.0       -0.0     \n",
       "  0.0        9.999e-5   0.0        0.0       -0.0     \n",
       "  0.0        0.0        9.999e-5   0.0       -0.0     \n",
       "  0.0        0.0        0.0        9.999e-5  -0.0     \n",
       " -0.0       -0.0       -0.0       -0.0        9.999e-5"
      ]
     },
     "execution_count": 125,
     "metadata": {},
     "output_type": "execute_result"
    }
   ],
   "source": [
    "cov(marginals[:ξ])"
   ]
  },
  {
   "cell_type": "code",
   "execution_count": 126,
   "metadata": {},
   "outputs": [
    {
     "data": {
      "text/plain": [
       "5-element Array{Complex{Float64},1}:\n",
       "  0.09447917063806933 + 0.1656446694561695im\n",
       " -0.12246639935604783 + 0.1678294682966467im\n",
       " 0.022275327408395083 + 0.8499653641531189im\n",
       "   1.0116101094816135 + 2.344138225792154im \n",
       "   -2.612981106334428 - 3.531484417663181im "
      ]
     },
     "execution_count": 126,
     "metadata": {},
     "output_type": "execute_result"
    }
   ],
   "source": [
    "ForneyLab.unsafeMean(marginals[:X])"
   ]
  },
  {
   "cell_type": "code",
   "execution_count": 127,
   "metadata": {},
   "outputs": [
    {
     "data": {
      "text/plain": [
       "5×5 Array{Complex{Float64},2}:\n",
       " 1.0e-10+0.0im      0.0+0.0im      0.0+0.0im      0.0+0.0im      0.0+0.0im\n",
       "     0.0+0.0im  1.0e-10+0.0im      0.0+0.0im      0.0+0.0im      0.0+0.0im\n",
       "     0.0+0.0im      0.0+0.0im  1.0e-10+0.0im      0.0+0.0im      0.0+0.0im\n",
       "     0.0+0.0im      0.0+0.0im      0.0+0.0im  1.0e-10+0.0im      0.0+0.0im\n",
       "     0.0+0.0im      0.0+0.0im      0.0+0.0im      0.0+0.0im  1.0e-10+0.0im"
      ]
     },
     "execution_count": 127,
     "metadata": {},
     "output_type": "execute_result"
    }
   ],
   "source": [
    "ForneyLab.unsafeCov(marginals[:X])"
   ]
  },
  {
   "cell_type": "code",
   "execution_count": 128,
   "metadata": {},
   "outputs": [
    {
     "data": {
      "text/plain": [
       "5-element Array{Float64,1}:\n",
       " -3.3141630743336483\n",
       " -3.142731102941757 \n",
       " -0.3244327680915445\n",
       "  1.8746195942859127\n",
       "  2.9600559990713378"
      ]
     },
     "execution_count": 128,
     "metadata": {},
     "output_type": "execute_result"
    }
   ],
   "source": [
    "log.(abs2.(ForneyLab.unsafeMean(marginals[:X])))"
   ]
  },
  {
   "cell_type": "markdown",
   "metadata": {},
   "source": [
    "## Results"
   ]
  },
  {
   "cell_type": "code",
   "execution_count": 129,
   "metadata": {},
   "outputs": [
    {
     "data": {
      "image/png": "[encoded data removed]",
      "text/plain": [
       "Figure(PyObject <Figure size 640x480 with 1 Axes>)"
      ]
     },
     "metadata": {},
     "output_type": "display_data"
    }
   ],
   "source": [
    "for k = 1:nr_freqs\n",
    "    plt.plot(t, μ_ξ_mem[:,k])\n",
    "    plt.fill_between(t, μ_ξ_mem[:,k] - sqrt.(Σ_ξ_mem[:,k]), μ_ξ_mem[:,k] + sqrt.(Σ_ξ_mem[:,k]), alpha=0.3)\n",
    "end\n"
   ]
  },
  {
   "cell_type": "code",
   "execution_count": 130,
   "metadata": {},
   "outputs": [
    {
     "data": {
      "text/plain": [
       "10000×5 Array{Float64,2}:\n",
       " -2.5026   -1.45354   0.223194  1.10347  1.65405\n",
       " -4.04759  -1.69303  -0.152557  1.50008  2.2619 \n",
       " -3.94964  -2.43744  -0.300424  1.75999  2.78582\n",
       " -3.95238  -2.75211  -0.392413  2.07469  2.58235\n",
       " -4.17108  -2.52281  -0.424428  1.91592  2.8132 \n",
       " -4.16634  -2.77396  -0.379857  1.46912  2.90462\n",
       " -4.0186   -2.57223  -0.327744  1.06073  3.23943\n",
       " -3.91548  -2.61196  -0.323621  1.31496  3.41822\n",
       " -3.84125  -2.52918  -0.227088  1.30671  3.47575\n",
       " -3.75487  -2.5118   -0.320389  1.412    3.58611\n",
       " -3.89322  -2.7325   -0.547757  1.11035  3.4265 \n",
       " -3.80293  -2.61585  -0.50871   1.10026  3.50282\n",
       " -3.82603  -2.5819   -0.401355  1.16237  3.63437\n",
       "  ⋮                                             \n",
       " -4.58129  -2.58406  -0.579083  1.42657  3.42908\n",
       " -4.58122  -2.5843   -0.57916   1.42663  3.42914\n",
       " -4.58111  -2.58432  -0.579153  1.42672  3.42901\n",
       " -4.58104  -2.58455  -0.579023  1.42653  3.42899\n",
       " -4.58097  -2.58438  -0.579031  1.42644  3.42897\n",
       " -4.58092  -2.58432  -0.579054  1.42664  3.42909\n",
       " -4.58086  -2.58417  -0.579195  1.42653  3.42889\n",
       " -4.58066  -2.58412  -0.579005  1.42677  3.42894\n",
       " -4.58083  -2.58401  -0.578869  1.42682  3.42889\n",
       " -4.5807   -2.58406  -0.578905  1.42679  3.42912\n",
       " -4.58061  -2.58386  -0.579046  1.42638  3.42906\n",
       " -4.58048  -2.58392  -0.579021  1.42642  3.42902"
      ]
     },
     "execution_count": 130,
     "metadata": {},
     "output_type": "execute_result"
    }
   ],
   "source": [
    "μ_ξ_mem"
   ]
  },
  {
   "cell_type": "code",
   "execution_count": 131,
   "metadata": {},
   "outputs": [
    {
     "data": {
      "text/plain": [
       "10000×5 Array{Float64,2}:\n",
       " 0.5         0.5         0.5         0.5         0.5       \n",
       " 0.333333    0.333333    0.333333    0.333333    0.333333  \n",
       " 0.25        0.25        0.25        0.25        0.25      \n",
       " 0.2         0.2         0.2         0.2         0.2       \n",
       " 0.166667    0.166667    0.166667    0.166667    0.166667  \n",
       " 0.142857    0.142857    0.142857    0.142857    0.142857  \n",
       " 0.125       0.125       0.125       0.125       0.125     \n",
       " 0.111111    0.111111    0.111111    0.111111    0.111111  \n",
       " 0.1         0.1         0.1         0.1         0.1       \n",
       " 0.0909091   0.0909091   0.0909091   0.0909091   0.0909091 \n",
       " 0.0833333   0.0833333   0.0833333   0.0833333   0.0833333 \n",
       " 0.0769231   0.0769231   0.0769231   0.0769231   0.0769231 \n",
       " 0.0714286   0.0714286   0.0714286   0.0714286   0.0714286 \n",
       " ⋮                                                         \n",
       " 0.0001001   0.0001001   0.0001001   0.0001001   0.0001001 \n",
       " 0.00010009  0.00010009  0.00010009  0.00010009  0.00010009\n",
       " 0.00010008  0.00010008  0.00010008  0.00010008  0.00010008\n",
       " 0.00010007  0.00010007  0.00010007  0.00010007  0.00010007\n",
       " 0.00010006  0.00010006  0.00010006  0.00010006  0.00010006\n",
       " 0.00010005  0.00010005  0.00010005  0.00010005  0.00010005\n",
       " 0.00010004  0.00010004  0.00010004  0.00010004  0.00010004\n",
       " 0.00010003  0.00010003  0.00010003  0.00010003  0.00010003\n",
       " 0.00010002  0.00010002  0.00010002  0.00010002  0.00010002\n",
       " 0.00010001  0.00010001  0.00010001  0.00010001  0.00010001\n",
       " 0.0001      0.0001      0.0001      0.0001      0.0001    \n",
       " 9.999e-5    9.999e-5    9.999e-5    9.999e-5    9.999e-5  "
      ]
     },
     "execution_count": 131,
     "metadata": {},
     "output_type": "execute_result"
    }
   ],
   "source": [
    "Σ_ξ_mem"
   ]
  },
  {
   "cell_type": "code",
   "execution_count": 132,
   "metadata": {},
   "outputs": [
    {
     "data": {
      "text/plain": [
       "5-element Array{Float64,1}:\n",
       " 0.5804832820798795\n",
       " 0.5839194078585401\n",
       " 0.5790207099870851\n",
       " 0.573579635036414 \n",
       " 0.5709829908513568"
      ]
     },
     "execution_count": 132,
     "metadata": {},
     "output_type": "execute_result"
    }
   ],
   "source": [
    "μ_ξi  .- μ_ξ_mem[end,:] "
   ]
  },
  {
   "cell_type": "code",
   "execution_count": 133,
   "metadata": {},
   "outputs": [
    {
     "data": {
      "text/plain": [
       "0.577597205162655"
      ]
     },
     "execution_count": 133,
     "metadata": {},
     "output_type": "execute_result"
    }
   ],
   "source": [
    "mean(μ_ξi  .- μ_ξ_mem[end,:])"
   ]
  },
  {
   "cell_type": "code",
   "execution_count": 134,
   "metadata": {},
   "outputs": [
    {
     "data": {
      "text/plain": [
       "(1.1447298858494002, 0.5723649429247001, 0.5641895835477563)"
      ]
     },
     "execution_count": 134,
     "metadata": {},
     "output_type": "execute_result"
    }
   ],
   "source": [
    "log(pi), 0.5*log(pi), 1/sqrt(pi)"
   ]
  },
  {
   "cell_type": "code",
   "execution_count": null,
   "metadata": {},
   "outputs": [],
   "source": []
  }
 ],
 "metadata": {
  "kernelspec": {
   "display_name": "Julia 1.3.1",
   "language": "julia",
   "name": "julia-1.3"
  },
  "language_info": {
   "file_extension": ".jl",
   "mimetype": "application/julia",
   "name": "julia",
   "version": "1.3.1"
  }
 },
 "nbformat": 4,
 "nbformat_minor": 4
}
