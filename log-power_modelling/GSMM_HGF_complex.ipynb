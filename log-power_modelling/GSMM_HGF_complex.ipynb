{
 "cells": [
  {
   "cell_type": "code",
   "execution_count": 1,
   "metadata": {},
   "outputs": [
    {
     "name": "stdout",
     "output_type": "stream",
     "text": [
      "\u001b[32m\u001b[1mActivating\u001b[22m\u001b[39m environment at `C:\\Users\\s151781\\AppData\\Local\\Julia-1.3.1\\GN\\Project.toml`\n"
     ]
    },
    {
     "data": {
      "text/plain": [
       "fft_expand (generic function with 1 method)"
      ]
     },
     "execution_count": 1,
     "metadata": {},
     "output_type": "execute_result"
    }
   ],
   "source": [
    "import Pkg; Pkg.activate(\"C:/Users/s151781/AppData/Local/Julia-1.3.1/GN/Project.toml\")\n",
    "using Revise\n",
    "using Distributions\n",
    "using PyPlot\n",
    "using FFTW\n",
    "using Compat\n",
    "using WAV\n",
    "using DSP\n",
    "using Base64\n",
    "using ForneyLab\n",
    "using LinearAlgebra\n",
    "using ProgressMeter\n",
    "\n",
    "include(\"../functions/auxiliary/audioplayer.jl\")\n",
    "include(\"../functions/auxiliary/workflow.jl\")\n",
    "include(\"../functions/auxiliary/fourier.jl\")\n",
    "include(\"../functions/auxiliary/visualization.jl\")\n",
    "include(\"../functions/auxiliary/buffer.jl\")\n",
    "include(\"../functions/preprocessing.jl\")"
   ]
  },
  {
   "cell_type": "markdown",
   "metadata": {},
   "source": [
    "# Complex normal distribution"
   ]
  },
  {
   "cell_type": "code",
   "execution_count": 2,
   "metadata": {},
   "outputs": [],
   "source": [
    "# create random variable for vectors of gamma distributed RV's\n",
    "mutable struct ComplexNormal <: ForneyLab.SoftFactor\n",
    "    id::Symbol\n",
    "    interfaces::Vector{Interface}\n",
    "    i::Dict{Symbol,Interface}\n",
    "\n",
    "    function ComplexNormal(out, μ, Γ, C; id=ForneyLab.generateId(ComplexNormal))\n",
    "        @ensureVariables(out, μ, Γ, C)\n",
    "        self = new(id, Array{Interface}(undef, 4), Dict{Symbol,Interface}())\n",
    "        ForneyLab.addNode!(currentGraph(), self)\n",
    "        self.i[:out] = self.interfaces[1] = ForneyLab.associate!(Interface(self), out)\n",
    "        self.i[:μ] = self.interfaces[2] = ForneyLab.associate!(Interface(self), μ)\n",
    "        self.i[:Γ] = self.interfaces[3] = ForneyLab.associate!(Interface(self), Γ)\n",
    "        self.i[:C] = self.interfaces[4] = ForneyLab.associate!(Interface(self), C)\n",
    "\n",
    "        return self\n",
    "    end\n",
    "end\n",
    "\n",
    "format(dist::ProbabilityDistribution{ForneyLab.Multivariate, ComplexNormal}) = \"$(slug(ComplexNormal))(μ=$(format(dist.params[:μ])), Γ=$(format(dist.params[:Γ])), C=$(format(dist.params[:C])))\"\n",
    "\n",
    "ProbabilityDistribution(::Type{ForneyLab.Multivariate}, ::Type{ComplexNormal}; μ::Array{Complex{Float64},1}, Γ::Array{Complex{Float64},2}, C::Array{Complex{Float64},2}) = ProbabilityDistribution{ForneyLab.Multivariate, ComplexNormal}(Dict(:μ=>μ, :Γ=>Γ, :C=>C))\n",
    "ProbabilityDistribution(::Type{ComplexNormal}; μ::Array{Complex{Float64},1}, Γ::Array{Complex{Float64},2}, C::Array{Complex{Float64},2}) = ProbabilityDistribution{ForneyLab.Multivariate, ComplexNormal}(Dict(:μ=>μ, :Γ=>Γ, :C=>C))\n",
    "\n",
    "function ForneyLab.prod!( x::ProbabilityDistribution{ForneyLab.Multivariate, ComplexNormal},\n",
    "                          y::ProbabilityDistribution{ForneyLab.Multivariate, ComplexNormal},\n",
    "                          z::ProbabilityDistribution{ForneyLab.Multivariate, ComplexNormal}=ProbabilityDistribution(ForneyLab.Multivariate, ComplexNormal, μ=zeros(size(x.params[:μ])).+0im, Γ=(1e10+1e10im)*Ic(length(x.params[:μ])), C=mat(0.0+0.0im)))\n",
    "\n",
    "    # TOO SIMPLIFIED (CASE FOR C=0 -> circular symmetry)\n",
    "    z.params[:Γ] = inv(inv(x.params[:Γ]) + inv(y.params[:Γ])) .+ 0.0im\n",
    "    z.params[:μ] = z.params[:Γ]*(inv(x.params[:Γ])*x.params[:μ] + inv(y.params[:Γ])*y.params[:μ]) .+ 0.0im\n",
    "    z.params[:C] = mat(0.0+0.0im)\n",
    "        \n",
    "    return z\n",
    "end\n",
    "\n",
    "unsafeMean(dist::ProbabilityDistribution{ForneyLab.Multivariate, ComplexNormal}) = dist.params[:μ] # unsafe mean  \n",
    "ForneyLab.unsafeMean(dist::ProbabilityDistribution{ForneyLab.Multivariate, ComplexNormal}) = dist.params[:μ] # unsafe mean  \n",
    "unsafeCov(dist::ProbabilityDistribution{ForneyLab.Multivariate, ComplexNormal}) = dist.params[:Γ] # unsafe mean  \n",
    "ForneyLab.unsafeCov(dist::ProbabilityDistribution{ForneyLab.Multivariate, ComplexNormal}) = dist.params[:Γ] # unsafe mean  "
   ]
  },
  {
   "cell_type": "code",
   "execution_count": 3,
   "metadata": {},
   "outputs": [
    {
     "data": {
      "text/plain": [
       "ruleSPComplexNormalOutNPPP (generic function with 1 method)"
      ]
     },
     "execution_count": 3,
     "metadata": {},
     "output_type": "execute_result"
    }
   ],
   "source": [
    "ruleSPComplexNormalOutNPPP(msg_out::Nothing, \n",
    "                           msg_μ::Message{PointMass},\n",
    "                           msg_Γ::Message{PointMass},\n",
    "                           msg_C::Message{PointMass}) =\n",
    "                           Message(ForneyLab.Multivariate, ComplexNormal, μ=deepcopy(msg_μ.dist.params[:m]), Γ=deepcopy(msg_Γ.dist.params[:m]), C=deepcopy(msg_C.dist.params[:m]))"
   ]
  },
  {
   "cell_type": "code",
   "execution_count": 4,
   "metadata": {},
   "outputs": [
    {
     "data": {
      "text/plain": [
       "ruleSPComplexNormalIn1PNPP (generic function with 1 method)"
      ]
     },
     "execution_count": 4,
     "metadata": {},
     "output_type": "execute_result"
    }
   ],
   "source": [
    "ruleSPComplexNormalIn1PNPP(msg_out::Message{PointMass}, \n",
    "                           msg_μ::Nothing,\n",
    "                           msg_Γ::Message{PointMass},\n",
    "                           msg_C::Message{PointMass}) =\n",
    "                           Message(ForneyLab.Multivariate, ComplexNormal, μ=deepcopy(msg_out.dist.params[:m]), Γ=deepcopy(msg_Γ.dist.params[:m]), C=deepcopy(msg_C.dist.params[:m]))"
   ]
  },
  {
   "cell_type": "code",
   "execution_count": 5,
   "metadata": {},
   "outputs": [
    {
     "data": {
      "text/plain": [
       "ruleVBComplexNormalOut (generic function with 1 method)"
      ]
     },
     "execution_count": 5,
     "metadata": {},
     "output_type": "execute_result"
    }
   ],
   "source": [
    "ruleVBComplexNormalOut(dist_out::Any,\n",
    "                       dist_μ::ProbabilityDistribution{ForneyLab.Multivariate},\n",
    "                       dist_Γ::ProbabilityDistribution{ForneyLab.MatrixVariate},\n",
    "                       dist_C::ProbabilityDistribution{ForneyLab.MatrixVariate}) =\n",
    "                       Message(ForneyLab.Multivariate, ComplexNormal, μ=ForneyLab.unsafeMean(dist_μ), Γ=ForneyLab.unsafeMean(dist_Γ), C=ForneyLab.unsafeMean(dist_C))"
   ]
  },
  {
   "cell_type": "code",
   "execution_count": 6,
   "metadata": {},
   "outputs": [
    {
     "data": {
      "text/plain": [
       "ruleVBComplexNormalIn1 (generic function with 1 method)"
      ]
     },
     "execution_count": 6,
     "metadata": {},
     "output_type": "execute_result"
    }
   ],
   "source": [
    "ruleVBComplexNormalIn1(dist_out::ProbabilityDistribution{ForneyLab.Multivariate},\n",
    "                       dist_μ::Any,\n",
    "                       dist_Γ::ProbabilityDistribution{ForneyLab.MatrixVariate},\n",
    "                       dist_C::ProbabilityDistribution{ForneyLab.MatrixVariate}) =\n",
    "                       Message(ForneyLab.Multivariate, ComplexNormal, μ=ForneyLab.unsafeMean(dist_out), Γ=ForneyLab.unsafeMean(dist_Γ), C=ForneyLab.unsafeMean(dist_C))"
   ]
  },
  {
   "cell_type": "code",
   "execution_count": 7,
   "metadata": {},
   "outputs": [],
   "source": [
    "@sumProductRule(:node_type     => ComplexNormal,\n",
    "                :outbound_type => Message{ComplexNormal},\n",
    "                :inbound_types => (Nothing, Message{PointMass}, Message{PointMass}, Message{PointMass}),\n",
    "                :name          => SPComplexNormalOutNPP)\n",
    "\n",
    "@sumProductRule(:node_type     => ComplexNormal,\n",
    "                :outbound_type => Message{ComplexNormal},\n",
    "                :inbound_types => (Message{PointMass}, Nothing, Message{PointMass}, Message{PointMass}),\n",
    "                :name          => SPComplexNormalIn1NPP)\n",
    "\n",
    "@naiveVariationalRule(:node_type     => ComplexNormal,\n",
    "                      :outbound_type => Message{ComplexNormal},\n",
    "                      :inbound_types => (Nothing, ProbabilityDistribution, ProbabilityDistribution, ProbabilityDistribution),\n",
    "                      :name          => VBComplexNormalOut)\n",
    "\n",
    "@naiveVariationalRule(:node_type     => ComplexNormal,\n",
    "                      :outbound_type => Message{ComplexNormal},\n",
    "                      :inbound_types => (ProbabilityDistribution, Nothing, ProbabilityDistribution, ProbabilityDistribution),\n",
    "                      :name          => VBComplexNormalIn1)"
   ]
  },
  {
   "cell_type": "markdown",
   "metadata": {},
   "source": [
    "# Hierarchical Gaussian filter"
   ]
  },
  {
   "cell_type": "code",
   "execution_count": 8,
   "metadata": {},
   "outputs": [],
   "source": [
    "mutable struct HGF <: ForneyLab.SoftFactor\n",
    "    id::Symbol\n",
    "    interfaces::Vector{Interface}\n",
    "    i::Dict{Symbol,Interface}\n",
    "\n",
    "    function HGF(X, ξ; id=ForneyLab.generateId(HGF))\n",
    "        \n",
    "        # ensure that the input arguments are random variables\n",
    "        @ensureVariables(X, ξ) \n",
    "        \n",
    "        # create new object\n",
    "        self = new(id, Array{Interface}(undef, 2), Dict{Symbol,Interface}())\n",
    "        \n",
    "        # add the node to the current factor graph\n",
    "        ForneyLab.addNode!(currentGraph(), self)\n",
    "        \n",
    "        # add argument variables to interfaces of node\n",
    "        self.i[:X] = self.interfaces[1] = ForneyLab.associate!(Interface(self), X)\n",
    "        self.i[:ξ] = self.interfaces[2] = ForneyLab.associate!(Interface(self), ξ)\n",
    "        \n",
    "        # return object\n",
    "        return self\n",
    "    end\n",
    "end"
   ]
  },
  {
   "cell_type": "code",
   "execution_count": 9,
   "metadata": {},
   "outputs": [
    {
     "data": {
      "text/plain": [
       "ruleVariationalHGFOutNP (generic function with 1 method)"
      ]
     },
     "execution_count": 9,
     "metadata": {},
     "output_type": "execute_result"
    }
   ],
   "source": [
    "function ruleVariationalHGFOutNP(marg_X::Nothing, \n",
    "                                 marg_ξ::ProbabilityDistribution{ForneyLab.Multivariate})\n",
    "    \n",
    "    # caluclate required mean\n",
    "    mξ = ForneyLab.unsafeMean(marg_ξ)\n",
    "\n",
    "    # calculate required variance\n",
    "    vξ = diag(ForneyLab.unsafeCov(marg_ξ))\n",
    "\n",
    "    # calculate new parameters\n",
    "    mX = zeros(size(mξ)) .+ 0im\n",
    "    vX = exp.(mξ - vξ/2) .+ 0im\n",
    "    \n",
    "    # create variational message\n",
    "    return Message(ForneyLab.Multivariate, ComplexNormal, μ=mX, Γ=diagm(vX), C=mat(0.0+0.0im))\n",
    "\n",
    "end"
   ]
  },
  {
   "cell_type": "code",
   "execution_count": 10,
   "metadata": {},
   "outputs": [
    {
     "data": {
      "text/plain": [
       "ruleVariationalHGFIn1PN (generic function with 1 method)"
      ]
     },
     "execution_count": 10,
     "metadata": {},
     "output_type": "execute_result"
    }
   ],
   "source": [
    "function ruleVariationalHGFIn1PN(marg_X::ProbabilityDistribution{ForneyLab.Multivariate}, \n",
    "                                 marg_ξ::Nothing)\n",
    "    \n",
    "    # calculate required means\n",
    "    mX = ForneyLab.unsafeMean(marg_X)\n",
    "\n",
    "    # calculate required variances\n",
    "    vX = diag(ForneyLab.unsafeCov(marg_X))\n",
    "\n",
    "    # calculate new parameters\n",
    "    mξ = log.(abs2.(mX) + real.(vX))\n",
    "    vξ = 1.0*ones(length(mξ))\n",
    "\n",
    "    # create variational message\n",
    "    Message(ForneyLab.Multivariate, GaussianWeightedMeanPrecision, xi=mξ./vξ, w=diagm(1 ./ vξ))\n",
    "\n",
    "end"
   ]
  },
  {
   "cell_type": "code",
   "execution_count": 11,
   "metadata": {},
   "outputs": [],
   "source": [
    "@naiveVariationalRule(:node_type     => HGF,\n",
    "                      :outbound_type => Message{ComplexNormal},\n",
    "                      :inbound_types => (Nothing, ProbabilityDistribution),\n",
    "                      :name          => VariationalHGFOutNP)\n",
    "\n",
    "@naiveVariationalRule(:node_type     => HGF,\n",
    "                      :outbound_type => Message{GaussianWeightedMeanPrecision},\n",
    "                      :inbound_types => (ProbabilityDistribution, Nothing),\n",
    "                      :name          => VariationalHGFIn1PN)"
   ]
  },
  {
   "cell_type": "markdown",
   "metadata": {},
   "source": [
    "## Factor graph"
   ]
  },
  {
   "cell_type": "code",
   "execution_count": 12,
   "metadata": {},
   "outputs": [
    {
     "data": {
      "text/html": [
       "<?xml version=\"1.0\" encoding=\"UTF-8\" standalone=\"no\"?>\r\n",
       "<!DOCTYPE svg PUBLIC \"-//W3C//DTD SVG 1.1//EN\"\r\n",
       " \"http://www.w3.org/Graphics/SVG/1.1/DTD/svg11.dtd\">\r\n",
       "<!-- Generated by graphviz version 2.38.0 (20140413.2041)\r\n",
       " -->\r\n",
       "<!-- Title: G Pages: 1 -->\r\n",
       "<svg width=\"540pt\" height=\"512pt\"\r\n",
       " viewBox=\"0.00 0.00 540.00 512.00\" xmlns=\"http://www.w3.org/2000/svg\" xmlns:xlink=\"http://www.w3.org/1999/xlink\">\r\n",
       "<g id=\"graph0\" class=\"graph\" transform=\"scale(1 1) rotate(0) translate(4 508)\">\r\n",
       "<title>G</title>\r\n",
       "<polygon fill=\"white\" stroke=\"none\" points=\"-4,4 -4,-508 536,-508 536,4 -4,4\"/>\r\n",
       "<!-- 1665954175460168121 -->\r\n",
       "<g id=\"node1\" class=\"node\"><title>1665954175460168121</title>\r\n",
       "<polygon fill=\"none\" stroke=\"black\" points=\"450,-171 346,-171 346,-99 450,-99 450,-171\"/>\r\n",
       "<text text-anchor=\"middle\" x=\"398\" y=\"-137.8\" font-family=\"Times New Roman,serif\" font-size=\"9.00\">𝒩</text>\r\n",
       "<text text-anchor=\"middle\" x=\"398\" y=\"-127.8\" font-family=\"Times New Roman,serif\" font-size=\"9.00\">gaussianmeanvariance_1</text>\r\n",
       "</g>\r\n",
       "<!-- 13356635603406441123 -->\r\n",
       "<g id=\"node4\" class=\"node\"><title>13356635603406441123</title>\r\n",
       "<polygon fill=\"lightgrey\" stroke=\"black\" points=\"340.5,-54 265.5,-54 265.5,-0 340.5,-0 340.5,-54\"/>\r\n",
       "<text text-anchor=\"middle\" x=\"303\" y=\"-24.8\" font-family=\"Times New Roman,serif\" font-size=\"9.00\">placeholder_μ_ξ</text>\r\n",
       "</g>\r\n",
       "<!-- 1665954175460168121&#45;&#45;13356635603406441123 -->\r\n",
       "<g id=\"edge5\" class=\"edge\"><title>1665954175460168121&#45;&#45;13356635603406441123</title>\r\n",
       "<path fill=\"none\" stroke=\"black\" d=\"M355.334,-98.8483C349.259,-93.1326 343.288,-87.0846 338,-81 330.839,-72.7603 323.983,-62.9673 318.266,-54.0546\"/>\r\n",
       "<text text-anchor=\"start\" x=\"338\" y=\"-74.6\" font-family=\"Times New Roman,serif\" font-size=\"8.00\" fill=\"red\">μ_ξ</text>\r\n",
       "<text text-anchor=\"start\" x=\"297.266\" y=\"-56.6546\" font-family=\"Times New Roman,serif\" font-size=\"8.00\">1 out </text>\r\n",
       "<text text-anchor=\"start\" x=\"339.334\" y=\"-92.4483\" font-family=\"Times New Roman,serif\" font-size=\"8.00\">2 m </text>\r\n",
       "</g>\r\n",
       "<!-- 5822511130817769432 -->\r\n",
       "<g id=\"node5\" class=\"node\"><title>5822511130817769432</title>\r\n",
       "<polygon fill=\"lightgrey\" stroke=\"black\" points=\"532,-54 456,-54 456,-0 532,-0 532,-54\"/>\r\n",
       "<text text-anchor=\"middle\" x=\"494\" y=\"-24.8\" font-family=\"Times New Roman,serif\" font-size=\"9.00\">placeholder_Σ_ξ</text>\r\n",
       "</g>\r\n",
       "<!-- 1665954175460168121&#45;&#45;5822511130817769432 -->\r\n",
       "<g id=\"edge1\" class=\"edge\"><title>1665954175460168121&#45;&#45;5822511130817769432</title>\r\n",
       "<path fill=\"none\" stroke=\"black\" d=\"M429.7,-98.9979C442.917,-84.4044 458.004,-67.7451 470.242,-54.2331\"/>\r\n",
       "<text text-anchor=\"start\" x=\"452\" y=\"-74.6\" font-family=\"Times New Roman,serif\" font-size=\"8.00\" fill=\"red\">Σ_ξ</text>\r\n",
       "<text text-anchor=\"start\" x=\"449.242\" y=\"-56.8331\" font-family=\"Times New Roman,serif\" font-size=\"8.00\">1 out </text>\r\n",
       "<text text-anchor=\"start\" x=\"415.7\" y=\"-92.5979\" font-family=\"Times New Roman,serif\" font-size=\"8.00\">3 v </text>\r\n",
       "</g>\r\n",
       "<!-- 6882729099746691596 -->\r\n",
       "<g id=\"node2\" class=\"node\"><title>6882729099746691596</title>\r\n",
       "<polygon fill=\"lightgrey\" stroke=\"black\" points=\"54,-279 0,-279 0,-225 54,-225 54,-279\"/>\r\n",
       "<text text-anchor=\"middle\" x=\"27\" y=\"-249.8\" font-family=\"Times New Roman,serif\" font-size=\"9.00\">clamp_1</text>\r\n",
       "</g>\r\n",
       "<!-- 14691432461606868682 -->\r\n",
       "<g id=\"node3\" class=\"node\"><title>14691432461606868682</title>\r\n",
       "<polygon fill=\"lightgrey\" stroke=\"black\" points=\"242,-504 174,-504 174,-450 242,-450 242,-504\"/>\r\n",
       "<text text-anchor=\"middle\" x=\"208\" y=\"-474.8\" font-family=\"Times New Roman,serif\" font-size=\"9.00\">placeholder_y</text>\r\n",
       "</g>\r\n",
       "<!-- 15526064024851859458 -->\r\n",
       "<g id=\"node8\" class=\"node\"><title>15526064024851859458</title>\r\n",
       "<polygon fill=\"none\" stroke=\"black\" points=\"248,-405 168,-405 168,-333 248,-333 248,-405\"/>\r\n",
       "<text text-anchor=\"middle\" x=\"208\" y=\"-371.8\" font-family=\"Times New Roman,serif\" font-size=\"9.00\">ComplexNormal</text>\r\n",
       "<text text-anchor=\"middle\" x=\"208\" y=\"-361.8\" font-family=\"Times New Roman,serif\" font-size=\"9.00\">complexnormal_1</text>\r\n",
       "</g>\r\n",
       "<!-- 14691432461606868682&#45;&#45;15526064024851859458 -->\r\n",
       "<g id=\"edge7\" class=\"edge\"><title>14691432461606868682&#45;&#45;15526064024851859458</title>\r\n",
       "<path fill=\"none\" stroke=\"black\" d=\"M208,-449.798C208,-436.31 208,-419.68 208,-405.099\"/>\r\n",
       "<text text-anchor=\"start\" x=\"208\" y=\"-425.6\" font-family=\"Times New Roman,serif\" font-size=\"8.00\" fill=\"red\">y</text>\r\n",
       "<text text-anchor=\"start\" x=\"187\" y=\"-407.699\" font-family=\"Times New Roman,serif\" font-size=\"8.00\">1 out </text>\r\n",
       "<text text-anchor=\"start\" x=\"187\" y=\"-443.398\" font-family=\"Times New Roman,serif\" font-size=\"8.00\">1 out </text>\r\n",
       "</g>\r\n",
       "<!-- 16116285487655671404 -->\r\n",
       "<g id=\"node6\" class=\"node\"><title>16116285487655671404</title>\r\n",
       "<polygon fill=\"lightgrey\" stroke=\"black\" points=\"246.5,-279 169.5,-279 169.5,-225 246.5,-225 246.5,-279\"/>\r\n",
       "<text text-anchor=\"middle\" x=\"208\" y=\"-249.8\" font-family=\"Times New Roman,serif\" font-size=\"9.00\">placeholder_Σ_y</text>\r\n",
       "</g>\r\n",
       "<!-- 18049823937083536291 -->\r\n",
       "<g id=\"node7\" class=\"node\"><title>18049823937083536291</title>\r\n",
       "<polygon fill=\"none\" stroke=\"black\" points=\"434,-288 362,-288 362,-216 434,-216 434,-288\"/>\r\n",
       "<text text-anchor=\"middle\" x=\"398\" y=\"-254.8\" font-family=\"Times New Roman,serif\" font-size=\"9.00\">HGF</text>\r\n",
       "<text text-anchor=\"middle\" x=\"398\" y=\"-244.8\" font-family=\"Times New Roman,serif\" font-size=\"9.00\">hgf_1</text>\r\n",
       "</g>\r\n",
       "<!-- 18049823937083536291&#45;&#45;1665954175460168121 -->\r\n",
       "<g id=\"edge6\" class=\"edge\"><title>18049823937083536291&#45;&#45;1665954175460168121</title>\r\n",
       "<path fill=\"none\" stroke=\"black\" d=\"M398,-215.871C398,-201.736 398,-185.463 398,-171.31\"/>\r\n",
       "<text text-anchor=\"start\" x=\"398\" y=\"-191.6\" font-family=\"Times New Roman,serif\" font-size=\"8.00\" fill=\"red\">ξ</text>\r\n",
       "<text text-anchor=\"start\" x=\"377\" y=\"-173.91\" font-family=\"Times New Roman,serif\" font-size=\"8.00\">1 out </text>\r\n",
       "<text text-anchor=\"start\" x=\"385\" y=\"-209.471\" font-family=\"Times New Roman,serif\" font-size=\"8.00\">2 ξ </text>\r\n",
       "</g>\r\n",
       "<!-- 15526064024851859458&#45;&#45;6882729099746691596 -->\r\n",
       "<g id=\"edge3\" class=\"edge\"><title>15526064024851859458&#45;&#45;6882729099746691596</title>\r\n",
       "<path fill=\"none\" stroke=\"black\" d=\"M167.83,-342.478C133.253,-320.509 84.303,-289.408 54.1587,-270.256\"/>\r\n",
       "<text text-anchor=\"start\" x=\"123\" y=\"-308.6\" font-family=\"Times New Roman,serif\" font-size=\"8.00\" fill=\"red\">clamp_1</text>\r\n",
       "<text text-anchor=\"start\" x=\"54.1587\" y=\"-272.856\" font-family=\"Times New Roman,serif\" font-size=\"8.00\">1 out </text>\r\n",
       "<text text-anchor=\"start\" x=\"152.83\" y=\"-345.078\" font-family=\"Times New Roman,serif\" font-size=\"8.00\">4 C </text>\r\n",
       "</g>\r\n",
       "<!-- 15526064024851859458&#45;&#45;16116285487655671404 -->\r\n",
       "<g id=\"edge4\" class=\"edge\"><title>15526064024851859458&#45;&#45;16116285487655671404</title>\r\n",
       "<path fill=\"none\" stroke=\"black\" d=\"M208,-332.871C208,-315.565 208,-295.056 208,-279.154\"/>\r\n",
       "<text text-anchor=\"start\" x=\"208\" y=\"-308.6\" font-family=\"Times New Roman,serif\" font-size=\"8.00\" fill=\"red\">Σ_y</text>\r\n",
       "<text text-anchor=\"start\" x=\"187\" y=\"-281.754\" font-family=\"Times New Roman,serif\" font-size=\"8.00\">1 out </text>\r\n",
       "<text text-anchor=\"start\" x=\"194\" y=\"-326.471\" font-family=\"Times New Roman,serif\" font-size=\"8.00\">3 Γ </text>\r\n",
       "</g>\r\n",
       "<!-- 15526064024851859458&#45;&#45;18049823937083536291 -->\r\n",
       "<g id=\"edge2\" class=\"edge\"><title>15526064024851859458&#45;&#45;18049823937083536291</title>\r\n",
       "<path fill=\"none\" stroke=\"black\" d=\"M248.294,-343.611C281.954,-323.238 329.513,-294.453 361.934,-274.829\"/>\r\n",
       "<text text-anchor=\"start\" x=\"309\" y=\"-308.6\" font-family=\"Times New Roman,serif\" font-size=\"8.00\" fill=\"red\">X</text>\r\n",
       "<text text-anchor=\"start\" x=\"345.934\" y=\"-277.429\" font-family=\"Times New Roman,serif\" font-size=\"8.00\">1 X </text>\r\n",
       "<text text-anchor=\"start\" x=\"248.294\" y=\"-346.211\" font-family=\"Times New Roman,serif\" font-size=\"8.00\">2 μ </text>\r\n",
       "</g>\r\n",
       "</g>\r\n",
       "</svg>\r\n"
      ]
     },
     "metadata": {},
     "output_type": "display_data"
    }
   ],
   "source": [
    "# number of frequency bins \n",
    "nr_freqs = 5\n",
    "\n",
    "# create factor graph\n",
    "fg = FactorGraph()\n",
    "\n",
    "# gaussian mixture \n",
    "@RV [id=:ξ] ξ ~ GaussianMeanVariance(placeholder(:μ_ξ, dims=(nr_freqs,)), placeholder(:Σ_ξ, dims=(nr_freqs,nr_freqs)))\n",
    "\n",
    "# HGF\n",
    "@RV [id=:X] X ~ HGF(ξ)\n",
    "\n",
    "# observation model\n",
    "@RV [id=:y] y ~ ComplexNormal(X, placeholder(:Σ_y, dims=(nr_freqs,nr_freqs)), mat(0.0+0.0im))\n",
    "placeholder(y, :y, dims=(nr_freqs,))\n",
    "\n",
    "# draw graph\n",
    "ForneyLab.draw(fg)"
   ]
  },
  {
   "cell_type": "markdown",
   "metadata": {},
   "source": [
    "## Data generation"
   ]
  },
  {
   "cell_type": "code",
   "execution_count": 13,
   "metadata": {},
   "outputs": [],
   "source": [
    "# generate data\n",
    "N = 10000\n",
    "\n",
    "μ_ξi = 1.0*collect(-4:2:4)\n",
    "Σ_ξ = 1e-4*diagm(ones(nr_freqs))\n",
    "Σ_meas = 1e-10*Ic(nr_freqs)\n",
    "\n",
    "ξ_samples = Array{Float64,2}(undef, N, nr_freqs)\n",
    "X_samples = Array{Complex{Float64},2}(undef, N, nr_freqs)\n",
    "y_samples = Array{Complex{Float64},2}(undef, N, nr_freqs)\n",
    "\n",
    "for n = 1:N\n",
    "\n",
    "#     sample_ξ = rand(MvNormal(μ_ξ, Σ_ξ))\n",
    "#     sample_X = rand(MvNormal(zeros(nr_freqs), real.((exp.(0.5*sample_ξ))))) + 1im*rand(MvNormal(zeros(nr_freqs), real.((exp.(0.5*sample_ξ)))))\n",
    "#     sample_y = rand(MvNormal(real(sample_X), 0.5*real.(Σ_meas))) + 1im*rand(MvNormal(imag(sample_X), 0.5*real.(Σ_meas)))\n",
    "    \n",
    "#     ξ_samples[n,:] = sample_ξ\n",
    "#     X_samples[n,:] = sample_X\n",
    "#     y_samples[n,:] = sample_y\n",
    "    for k = 1:nr_freqs\n",
    "        sample_ξ = rand(Normal(μ_ξi[k], sqrt(Σ_ξ[k,k])))\n",
    "        sample_X = rand(Normal(0, sqrt(0.5*exp(sample_ξ)))) + 1im*rand(Normal(0, sqrt(0.5*exp(sample_ξ))))\n",
    "        sample_y = rand(Normal(real(sample_X), sqrt(0.5*Σ_meas[k,k]))) + 1im*rand(Normal(imag(sample_X), sqrt(0.5*Σ_meas[k,k])))\n",
    "\n",
    "        ξ_samples[n,k] = sample_ξ\n",
    "        X_samples[n,k] = sample_X\n",
    "        y_samples[n,k] = sample_y\n",
    "    end\n",
    "end\n",
    "\n",
    "t = collect(1:N)\n",
    ";"
   ]
  },
  {
   "cell_type": "code",
   "execution_count": 14,
   "metadata": {},
   "outputs": [
    {
     "data": {
      "image/png": "[encoded data removed]",
      "text/plain": [
       "Figure(PyObject <Figure size 640x480 with 1 Axes>)"
      ]
     },
     "metadata": {},
     "output_type": "display_data"
    }
   ],
   "source": [
    "plt.plot(t, ξ_samples);"
   ]
  },
  {
   "cell_type": "code",
   "execution_count": 15,
   "metadata": {},
   "outputs": [
    {
     "data": {
      "text/plain": [
       "(-3.9998933914383046, 9.920041776709228e-5)"
      ]
     },
     "execution_count": 15,
     "metadata": {},
     "output_type": "execute_result"
    }
   ],
   "source": [
    "mean(ξ_samples[:,1]), var(ξ_samples[:,1])"
   ]
  },
  {
   "cell_type": "code",
   "execution_count": 16,
   "metadata": {},
   "outputs": [
    {
     "data": {
      "image/png": "[encoded data removed]",
      "text/plain": [
       "Figure(PyObject <Figure size 640x480 with 1 Axes>)"
      ]
     },
     "metadata": {},
     "output_type": "display_data"
    }
   ],
   "source": [
    "plt.hist(ξ_samples[:,1], bins=50), plt.title(\"samples ξ\");"
   ]
  },
  {
   "cell_type": "code",
   "execution_count": 17,
   "metadata": {},
   "outputs": [
    {
     "data": {
      "text/plain": [
       "(0.009179426744147245, 0.009209270416146975, 1.3591409142295225)"
      ]
     },
     "execution_count": 17,
     "metadata": {},
     "output_type": "execute_result"
    }
   ],
   "source": [
    "var(real(X_samples[:,1])), var(imag(X_samples[:,1])), 0.5*exp(1)"
   ]
  },
  {
   "cell_type": "code",
   "execution_count": 18,
   "metadata": {},
   "outputs": [
    {
     "data": {
      "image/png": "[encoded data removed]",
      "text/plain": [
       "Figure(PyObject <Figure size 640x480 with 2 Axes>)"
      ]
     },
     "metadata": {},
     "output_type": "display_data"
    }
   ],
   "source": [
    "_,ax = plt.subplots(ncols=2); ax[1].hist(real(X_samples[:,1]), bins=50), ax[1].set_title(\"samples X real\"), ax[2].hist(imag(X_samples[:,1]), bins=50), ax[2].set_title(\"samples X imag\");"
   ]
  },
  {
   "cell_type": "code",
   "execution_count": 19,
   "metadata": {},
   "outputs": [
    {
     "data": {
      "image/png": "[encoded data removed]",
      "text/plain": [
       "Figure(PyObject <Figure size 640x480 with 1 Axes>)"
      ]
     },
     "metadata": {},
     "output_type": "display_data"
    },
    {
     "name": "stderr",
     "output_type": "stream",
     "text": [
      "C:\\Users\\s151781\\.julia\\conda\\3\\lib\\site-packages\\numpy\\core\\_asarray.py:85: ComplexWarning: Casting complex values to real discards the imaginary part\n",
      "  return array(a, dtype, copy=False, order=order)\n"
     ]
    }
   ],
   "source": [
    "plt.plot(t, X_samples);"
   ]
  },
  {
   "cell_type": "code",
   "execution_count": 20,
   "metadata": {},
   "outputs": [
    {
     "data": {
      "image/png": "[encoded data removed]",
      "text/plain": [
       "Figure(PyObject <Figure size 640x480 with 2 Axes>)"
      ]
     },
     "metadata": {},
     "output_type": "display_data"
    }
   ],
   "source": [
    "_,ax = plt.subplots(ncols=2); ax[1].hist(real(y_samples[:,1]), bins=50), ax[1].set_title(\"samples y real\"), ax[2].hist(imag(y_samples[:,1]), bins=50), ax[2].set_title(\"samples y imag\");"
   ]
  },
  {
   "cell_type": "code",
   "execution_count": 21,
   "metadata": {},
   "outputs": [
    {
     "data": {
      "image/png": "[encoded data removed]",
      "text/plain": [
       "Figure(PyObject <Figure size 640x480 with 1 Axes>)"
      ]
     },
     "metadata": {},
     "output_type": "display_data"
    }
   ],
   "source": [
    "plt.plot(t,y_samples);"
   ]
  },
  {
   "cell_type": "markdown",
   "metadata": {},
   "source": [
    "## Inference "
   ]
  },
  {
   "cell_type": "code",
   "execution_count": 22,
   "metadata": {},
   "outputs": [
    {
     "name": "stdout",
     "output_type": "stream",
     "text": [
      "begin\n",
      "\n",
      "function stepξ!(data::Dict, marginals::Dict=Dict(), messages::Vector{Message}=Array{Message}(undef, 2))\n",
      "\n",
      "messages[1] = ruleVBGaussianMeanVarianceOut(nothing, ProbabilityDistribution(ForneyLab.Multivariate, PointMass, m=data[:μ_ξ]), ProbabilityDistribution(MatrixVariate, PointMass, m=data[:Σ_ξ]))\n",
      "messages[2] = ruleVariationalHGFIn1PN(marginals[:X], nothing)\n",
      "\n",
      "marginals[:ξ] = messages[1].dist * messages[2].dist\n",
      "\n",
      "return marginals\n",
      "\n",
      "end\n",
      "\n",
      "function stepX!(data::Dict, marginals::Dict=Dict(), messages::Vector{Message}=Array{Message}(undef, 2))\n",
      "\n",
      "messages[1] = ruleVariationalHGFOutNP(nothing, marginals[:ξ])\n",
      "messages[2] = ruleVBComplexNormalIn1(ProbabilityDistribution(ForneyLab.Multivariate, PointMass, m=data[:y]), nothing, ProbabilityDistribution(MatrixVariate, PointMass, m=data[:Σ_y]), ProbabilityDistribution(MatrixVariate, PointMass, m=mat(0.0 + 0.0im)))\n",
      "\n",
      "marginals[:X] = messages[1].dist * messages[2].dist\n",
      "\n",
      "return marginals\n",
      "\n",
      "end\n",
      "\n",
      "end # block\n"
     ]
    }
   ],
   "source": [
    "q = PosteriorFactorization(X, ξ, ids=[:X :ξ])\n",
    "# generate algorithm\n",
    "algo = variationalAlgorithm(q)\n",
    "source_code = compatibility_fix(algorithmSourceCode(algo))\n",
    "eval(Meta.parse(source_code))\n",
    "println(source_code)"
   ]
  },
  {
   "cell_type": "code",
   "execution_count": 23,
   "metadata": {},
   "outputs": [],
   "source": [
    "μ_ξ_mem = Array{Float64,2}(undef, N, nr_freqs)\n",
    "Σ_ξ_mem = Array{Float64,2}(undef, N, nr_freqs)\n",
    "\n",
    "# priors\n",
    "μ_ξ = zeros(nr_freqs)\n",
    "Σ_ξ = 1*Ic(nr_freqs)\n",
    "Σ_y = 1e-10*Ic(nr_freqs).+0im# .+ 1im*0.5*1e-10*Ic(nr_freqs)\n",
    "\n",
    "marginals = Dict()\n",
    "\n",
    "for n = 1:N\n",
    "        \n",
    "    # fill marginals dictionary\n",
    "    marginals[:ξ] = ProbabilityDistribution(ForneyLab.Multivariate, GaussianMeanVariance, m=μ_ξ, v=Σ_ξ)\n",
    "    \n",
    "    # fill data dictionary\n",
    "    data = Dict()\n",
    "    data[:μ_ξ] = μ_ξ\n",
    "    data[:Σ_ξ] = Σ_ξ\n",
    "    data[:Σ_y] = Σ_y\n",
    "    data[:y] = y_samples[n,:]\n",
    "    \n",
    "    # perform updates\n",
    "    for _ in 1:5\n",
    "        Base.invokelatest(stepX!, data, marginals)\n",
    "        Base.invokelatest(stepξ!, data, marginals)\n",
    "    end\n",
    "    \n",
    "    # update parameters\n",
    "    μ_ξ = ForneyLab.unsafeMean(marginals[:ξ])\n",
    "    Σ_ξ = ForneyLab.unsafeCov(marginals[:ξ])\n",
    "\n",
    "    # save parameters\n",
    "    μ_ξ_mem[n,:] = μ_ξ\n",
    "    Σ_ξ_mem[n,:] = diag(Σ_ξ)\n",
    "    \n",
    "end"
   ]
  },
  {
   "cell_type": "code",
   "execution_count": 24,
   "metadata": {},
   "outputs": [
    {
     "data": {
      "text/plain": [
       "5-element Array{Float64,1}:\n",
       " -4.555995423902255 \n",
       " -2.5685308681497174\n",
       " -0.5973668307506461\n",
       "  1.447322961970805 \n",
       "  3.41392239739351  "
      ]
     },
     "execution_count": 24,
     "metadata": {},
     "output_type": "execute_result"
    }
   ],
   "source": [
    "mean(marginals[:ξ])"
   ]
  },
  {
   "cell_type": "code",
   "execution_count": 25,
   "metadata": {},
   "outputs": [
    {
     "data": {
      "text/plain": [
       "5×5 Array{Float64,2}:\n",
       "  9.999e-5   0.0        0.0        0.0       -0.0     \n",
       "  0.0        9.999e-5   0.0        0.0       -0.0     \n",
       "  0.0        0.0        9.999e-5   0.0       -0.0     \n",
       "  0.0        0.0        0.0        9.999e-5  -0.0     \n",
       " -0.0       -0.0       -0.0       -0.0        9.999e-5"
      ]
     },
     "execution_count": 25,
     "metadata": {},
     "output_type": "execute_result"
    }
   ],
   "source": [
    "cov(marginals[:ξ])"
   ]
  },
  {
   "cell_type": "code",
   "execution_count": 26,
   "metadata": {},
   "outputs": [
    {
     "data": {
      "text/plain": [
       "5-element Array{Complex{Float64},1}:\n",
       " -0.0031765244466660856 - 0.08410520442215616im \n",
       "  -0.030101372249024642 - 0.034398900671317734im\n",
       "     -1.031785384019917 + 0.3024941118791021im  \n",
       "     -2.709222234726189 - 4.239432226997693im   \n",
       "      2.277682376496665 - 5.663960674935898im   "
      ]
     },
     "execution_count": 26,
     "metadata": {},
     "output_type": "execute_result"
    }
   ],
   "source": [
    "ForneyLab.unsafeMean(marginals[:X])"
   ]
  },
  {
   "cell_type": "code",
   "execution_count": 27,
   "metadata": {},
   "outputs": [
    {
     "data": {
      "text/plain": [
       "5×5 Array{Complex{Float64},2}:\n",
       " 1.0e-10+0.0im      0.0+0.0im      0.0+0.0im      0.0+0.0im      0.0+0.0im\n",
       "     0.0+0.0im  1.0e-10+0.0im      0.0+0.0im      0.0+0.0im      0.0+0.0im\n",
       "     0.0+0.0im      0.0+0.0im  1.0e-10+0.0im      0.0+0.0im      0.0+0.0im\n",
       "     0.0+0.0im      0.0+0.0im      0.0+0.0im  1.0e-10+0.0im      0.0+0.0im\n",
       "     0.0+0.0im      0.0+0.0im      0.0+0.0im      0.0+0.0im  1.0e-10+0.0im"
      ]
     },
     "execution_count": 27,
     "metadata": {},
     "output_type": "execute_result"
    }
   ],
   "source": [
    "ForneyLab.unsafeCov(marginals[:X])"
   ]
  },
  {
   "cell_type": "code",
   "execution_count": 28,
   "metadata": {},
   "outputs": [
    {
     "data": {
      "text/plain": [
       "5-element Array{Float64,1}:\n",
       " -4.949948219860187  \n",
       " -6.170889353775326  \n",
       "  0.14503822990749426\n",
       "  3.231305089513302  \n",
       "  3.6181427649019757 "
      ]
     },
     "execution_count": 28,
     "metadata": {},
     "output_type": "execute_result"
    }
   ],
   "source": [
    "log.(abs2.(ForneyLab.unsafeMean(marginals[:X])))"
   ]
  },
  {
   "cell_type": "markdown",
   "metadata": {},
   "source": [
    "## Results"
   ]
  },
  {
   "cell_type": "code",
   "execution_count": 29,
   "metadata": {},
   "outputs": [
    {
     "data": {
      "image/png": "[encoded data removed]",
      "text/plain": [
       "Figure(PyObject <Figure size 640x480 with 1 Axes>)"
      ]
     },
     "metadata": {},
     "output_type": "display_data"
    }
   ],
   "source": [
    "for k = 1:nr_freqs\n",
    "    plt.plot(t, μ_ξ_mem[:,k])\n",
    "    plt.fill_between(t, μ_ξ_mem[:,k] - sqrt.(Σ_ξ_mem[:,k]), μ_ξ_mem[:,k] + sqrt.(Σ_ξ_mem[:,k]), alpha=0.3)\n",
    "end\n"
   ]
  },
  {
   "cell_type": "code",
   "execution_count": 30,
   "metadata": {},
   "outputs": [
    {
     "data": {
      "text/plain": [
       "10000×5 Array{Float64,2}:\n",
       " -2.29272  -0.799611  -0.453368  1.05387  1.74762\n",
       " -2.95823  -1.4591    -0.543867  1.46958  2.58384\n",
       " -3.46876  -1.65174   -1.20369   1.29643  2.7399 \n",
       " -3.31495  -1.79726   -1.00659   1.76537  2.42754\n",
       " -3.64578  -1.60939   -0.699641  1.78577  2.66662\n",
       " -3.5702   -1.84772   -0.786255  1.4437   2.93879\n",
       " -3.81587  -1.76607   -0.777119  1.3688   2.89263\n",
       " -3.82862  -2.12625   -0.793118  1.31315  2.8035 \n",
       " -4.1993   -2.04391   -0.846979  1.30791  2.84111\n",
       " -4.48887  -2.07491   -0.872733  1.42277  2.91646\n",
       " -4.47882  -2.06348   -0.757155  1.53116  3.01565\n",
       " -4.49458  -2.13725   -0.630595  1.45215  3.18136\n",
       " -4.60129  -2.14366   -0.646703  1.48187  3.14858\n",
       "  ⋮                                              \n",
       " -4.556    -2.56873   -0.597438  1.44744  3.41426\n",
       " -4.5559   -2.56888   -0.597423  1.44707  3.41428\n",
       " -4.55582  -2.56868   -0.597357  1.44712  3.41422\n",
       " -4.55583  -2.56855   -0.597162  1.44707  3.4142 \n",
       " -4.5557   -2.56862   -0.597463  1.44689  3.41423\n",
       " -4.55555  -2.56852   -0.597518  1.447    3.41375\n",
       " -4.55611  -2.56834   -0.59743   1.44709  3.41383\n",
       " -4.55605  -2.56844   -0.597302  1.44714  3.41386\n",
       " -4.55597  -2.56849   -0.597503  1.44712  3.41395\n",
       " -4.55575  -2.56832   -0.597571  1.44733  3.41392\n",
       " -4.55596  -2.56817   -0.597441  1.44714  3.4139 \n",
       " -4.556    -2.56853   -0.597367  1.44732  3.41392"
      ]
     },
     "execution_count": 30,
     "metadata": {},
     "output_type": "execute_result"
    }
   ],
   "source": [
    "μ_ξ_mem"
   ]
  },
  {
   "cell_type": "code",
   "execution_count": 31,
   "metadata": {},
   "outputs": [
    {
     "data": {
      "text/plain": [
       "10000×5 Array{Float64,2}:\n",
       " 0.5         0.5         0.5         0.5         0.5       \n",
       " 0.333333    0.333333    0.333333    0.333333    0.333333  \n",
       " 0.25        0.25        0.25        0.25        0.25      \n",
       " 0.2         0.2         0.2         0.2         0.2       \n",
       " 0.166667    0.166667    0.166667    0.166667    0.166667  \n",
       " 0.142857    0.142857    0.142857    0.142857    0.142857  \n",
       " 0.125       0.125       0.125       0.125       0.125     \n",
       " 0.111111    0.111111    0.111111    0.111111    0.111111  \n",
       " 0.1         0.1         0.1         0.1         0.1       \n",
       " 0.0909091   0.0909091   0.0909091   0.0909091   0.0909091 \n",
       " 0.0833333   0.0833333   0.0833333   0.0833333   0.0833333 \n",
       " 0.0769231   0.0769231   0.0769231   0.0769231   0.0769231 \n",
       " 0.0714286   0.0714286   0.0714286   0.0714286   0.0714286 \n",
       " ⋮                                                         \n",
       " 0.0001001   0.0001001   0.0001001   0.0001001   0.0001001 \n",
       " 0.00010009  0.00010009  0.00010009  0.00010009  0.00010009\n",
       " 0.00010008  0.00010008  0.00010008  0.00010008  0.00010008\n",
       " 0.00010007  0.00010007  0.00010007  0.00010007  0.00010007\n",
       " 0.00010006  0.00010006  0.00010006  0.00010006  0.00010006\n",
       " 0.00010005  0.00010005  0.00010005  0.00010005  0.00010005\n",
       " 0.00010004  0.00010004  0.00010004  0.00010004  0.00010004\n",
       " 0.00010003  0.00010003  0.00010003  0.00010003  0.00010003\n",
       " 0.00010002  0.00010002  0.00010002  0.00010002  0.00010002\n",
       " 0.00010001  0.00010001  0.00010001  0.00010001  0.00010001\n",
       " 0.0001      0.0001      0.0001      0.0001      0.0001    \n",
       " 9.999e-5    9.999e-5    9.999e-5    9.999e-5    9.999e-5  "
      ]
     },
     "execution_count": 31,
     "metadata": {},
     "output_type": "execute_result"
    }
   ],
   "source": [
    "Σ_ξ_mem"
   ]
  },
  {
   "cell_type": "code",
   "execution_count": 32,
   "metadata": {},
   "outputs": [
    {
     "data": {
      "text/plain": [
       "5-element Array{Float64,1}:\n",
       " 0.5559954239022549\n",
       " 0.5685308681497174\n",
       " 0.5973668307506461\n",
       " 0.552677038029195 \n",
       " 0.58607760260649  "
      ]
     },
     "execution_count": 32,
     "metadata": {},
     "output_type": "execute_result"
    }
   ],
   "source": [
    "μ_ξi  .- μ_ξ_mem[end,:] "
   ]
  },
  {
   "cell_type": "code",
   "execution_count": 33,
   "metadata": {},
   "outputs": [
    {
     "data": {
      "text/plain": [
       "0.5721295526876606"
      ]
     },
     "execution_count": 33,
     "metadata": {},
     "output_type": "execute_result"
    }
   ],
   "source": [
    "mean(μ_ξi  .- μ_ξ_mem[end,:])"
   ]
  },
  {
   "cell_type": "code",
   "execution_count": 34,
   "metadata": {},
   "outputs": [
    {
     "data": {
      "text/plain": [
       "(1.1447298858494002, 0.5723649429247001, 0.5641895835477563)"
      ]
     },
     "execution_count": 34,
     "metadata": {},
     "output_type": "execute_result"
    }
   ],
   "source": [
    "log(pi), 0.5*log(pi), 1/sqrt(pi)"
   ]
  },
  {
   "cell_type": "code",
   "execution_count": null,
   "metadata": {},
   "outputs": [],
   "source": []
  }
 ],
 "metadata": {
  "kernelspec": {
   "display_name": "Julia 1.3.1",
   "language": "julia",
   "name": "julia-1.3"
  },
  "language_info": {
   "file_extension": ".jl",
   "mimetype": "application/julia",
   "name": "julia",
   "version": "1.3.1"
  }
 },
 "nbformat": 4,
 "nbformat_minor": 4
}
