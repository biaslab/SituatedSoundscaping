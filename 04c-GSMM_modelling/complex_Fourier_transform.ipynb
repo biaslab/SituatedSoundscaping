{
 "cells": [
  {
   "cell_type": "code",
   "execution_count": 1,
   "metadata": {},
   "outputs": [
    {
     "name": "stdout",
     "output_type": "stream",
     "text": [
      "\u001b[32m\u001b[1mActivating\u001b[22m\u001b[39m environment at `C:\\Users\\s151781\\AppData\\Local\\Julia-1.3.1\\GN\\Project.toml`\n"
     ]
    },
    {
     "data": {
      "text/plain": [
       "fft_expand (generic function with 1 method)"
      ]
     },
     "execution_count": 1,
     "metadata": {},
     "output_type": "execute_result"
    }
   ],
   "source": [
    "import Pkg; Pkg.activate(\"C:/Users/s151781/AppData/Local/Julia-1.3.1/GN/Project.toml\")\n",
    "using Revise\n",
    "using Distributions\n",
    "using PyPlot\n",
    "using FFTW\n",
    "using Compat\n",
    "using WAV\n",
    "using DSP\n",
    "using Base64\n",
    "using ForneyLab\n",
    "using LinearAlgebra\n",
    "using ProgressMeter\n",
    "\n",
    "include(\"../functions/auxiliary/audioplayer.jl\")\n",
    "include(\"../functions/auxiliary/workflow.jl\")\n",
    "include(\"../functions/auxiliary/fourier.jl\")\n",
    "include(\"../functions/auxiliary/visualization.jl\")\n",
    "include(\"../functions/auxiliary/buffer.jl\")\n",
    "include(\"../functions/preprocessing.jl\")"
   ]
  },
  {
   "cell_type": "markdown",
   "metadata": {},
   "source": [
    "## Complex distribution"
   ]
  },
  {
   "cell_type": "code",
   "execution_count": 2,
   "metadata": {},
   "outputs": [],
   "source": [
    "# create random variable for vectors of gamma distributed RV's\n",
    "mutable struct ComplexNormal <: ForneyLab.SoftFactor\n",
    "    id::Symbol\n",
    "    interfaces::Vector{Interface}\n",
    "    i::Dict{Symbol,Interface}\n",
    "\n",
    "    function ComplexNormal(out, μ, Γ, C; id=ForneyLab.generateId(ComplexNormal))\n",
    "        @ensureVariables(out, μ, Γ, C)\n",
    "        self = new(id, Array{Interface}(undef, 4), Dict{Symbol,Interface}())\n",
    "        ForneyLab.addNode!(currentGraph(), self)\n",
    "        self.i[:out] = self.interfaces[1] = ForneyLab.associate!(Interface(self), out)\n",
    "        self.i[:μ] = self.interfaces[2] = ForneyLab.associate!(Interface(self), μ)\n",
    "        self.i[:Γ] = self.interfaces[3] = ForneyLab.associate!(Interface(self), Γ)\n",
    "        self.i[:C] = self.interfaces[4] = ForneyLab.associate!(Interface(self), C)\n",
    "\n",
    "        return self\n",
    "    end\n",
    "end\n",
    "\n",
    "format(dist::ProbabilityDistribution{ForneyLab.Multivariate, ComplexNormal}) = \"$(slug(ComplexNormal))(μ=$(format(dist.params[:μ])), Γ=$(format(dist.params[:Γ])), C=$(format(dist.params[:C])))\"\n",
    "\n",
    "ProbabilityDistribution(::Type{ForneyLab.Multivariate}, ::Type{ComplexNormal}; μ::Array{Complex{Float64},1}, Γ::Array{Complex{Float64},2}, C::Array{Complex{Float64},2}) = ProbabilityDistribution{ForneyLab.Multivariate, ComplexNormal}(Dict(:μ=>μ, :Γ=>Γ, :C=>C))\n",
    "ProbabilityDistribution(::Type{ComplexNormal}; μ::Array{Complex{Float64},1}, Γ::Array{Complex{Float64},2}, C::Array{Complex{Float64},2}) = ProbabilityDistribution{ForneyLab.Multivariate, ComplexNormal}(Dict(:μ=>μ, :Γ=>Γ, :C=>C))\n",
    "ProbabilityDistribution(::Type{ComplexNormal}; μ::Array{Complex{Float64},1}, Γ::Array{Float64,2}, C::Array{Complex{Float64},2}) = ProbabilityDistribution{ForneyLab.Multivariate, ComplexNormal}(Dict(:μ=>μ, :Γ=>Γ.+0im, :C=>C))\n",
    "\n",
    "function ForneyLab.prod!( x::ProbabilityDistribution{ForneyLab.Multivariate, ComplexNormal},\n",
    "                          y::ProbabilityDistribution{ForneyLab.Multivariate, ComplexNormal},\n",
    "                          z::ProbabilityDistribution{ForneyLab.Multivariate, ComplexNormal}=ProbabilityDistribution(ForneyLab.Multivariate, ComplexNormal, μ=zeros(size(x.params[:μ])).+0im, Γ=(1e10+1e10im)*Ic(length(x.params[:μ])), C=mat(0.0+0.0im)))\n",
    "\n",
    "    # TOO SIMPLIFIED (CASE FOR C=0 -> circular symmetry)\n",
    "    z.params[:Γ] = inv(inv(x.params[:Γ]) + inv(y.params[:Γ])) .+ 0.0im\n",
    "    z.params[:μ] = z.params[:Γ]*(inv(x.params[:Γ])*x.params[:μ] + inv(y.params[:Γ])*y.params[:μ]) .+ 0.0im\n",
    "    z.params[:C] = mat(0.0+0.0im)\n",
    "        \n",
    "    return z\n",
    "end\n",
    "\n",
    "unsafeMean(dist::ProbabilityDistribution{ForneyLab.Multivariate, ComplexNormal}) = dist.params[:μ] # unsafe mean  \n",
    "ForneyLab.unsafeMean(dist::ProbabilityDistribution{ForneyLab.Multivariate, ComplexNormal}) = dist.params[:μ] # unsafe mean  \n",
    "unsafeCov(dist::ProbabilityDistribution{ForneyLab.Multivariate, ComplexNormal}) = dist.params[:Γ] # unsafe mean  \n",
    "ForneyLab.unsafeCov(dist::ProbabilityDistribution{ForneyLab.Multivariate, ComplexNormal}) = dist.params[:Γ] # unsafe mean  "
   ]
  },
  {
   "cell_type": "code",
   "execution_count": 3,
   "metadata": {},
   "outputs": [
    {
     "data": {
      "text/plain": [
       "ruleSPComplexNormalOutNPPP (generic function with 1 method)"
      ]
     },
     "execution_count": 3,
     "metadata": {},
     "output_type": "execute_result"
    }
   ],
   "source": [
    "ruleSPComplexNormalOutNPPP(msg_out::Nothing, \n",
    "                           msg_μ::Message{PointMass},\n",
    "                           msg_Γ::Message{PointMass},\n",
    "                           msg_C::Message{PointMass}) =\n",
    "                           Message(ForneyLab.Multivariate, ComplexNormal, μ=deepcopy(msg_μ.dist.params[:m]), Γ=deepcopy(msg_Γ.dist.params[:m]), C=deepcopy(msg_C.dist.params[:m]))"
   ]
  },
  {
   "cell_type": "code",
   "execution_count": 4,
   "metadata": {},
   "outputs": [
    {
     "data": {
      "text/plain": [
       "ruleSPComplexNormalIn1PNPP (generic function with 1 method)"
      ]
     },
     "execution_count": 4,
     "metadata": {},
     "output_type": "execute_result"
    }
   ],
   "source": [
    "ruleSPComplexNormalIn1PNPP(msg_out::Message{PointMass}, \n",
    "                           msg_μ::Nothing,\n",
    "                           msg_Γ::Message{PointMass},\n",
    "                           msg_C::Message{PointMass}) =\n",
    "                           Message(ForneyLab.Multivariate, ComplexNormal, μ=deepcopy(msg_out.dist.params[:m]), Γ=deepcopy(msg_Γ.dist.params[:m]), C=deepcopy(msg_C.dist.params[:m]))"
   ]
  },
  {
   "cell_type": "code",
   "execution_count": 5,
   "metadata": {},
   "outputs": [
    {
     "data": {
      "text/plain": [
       "ruleSPComplexNormalOutNCPP (generic function with 1 method)"
      ]
     },
     "execution_count": 5,
     "metadata": {},
     "output_type": "execute_result"
    }
   ],
   "source": [
    "ruleSPComplexNormalOutNCPP(msg_out::Nothing, \n",
    "                           msg_μ::Message{ComplexNormal, ForneyLab.Multivariate},\n",
    "                           msg_Γ::Message{PointMass},\n",
    "                           msg_C::Message{PointMass}) =\n",
    "                           Message(ForneyLab.Multivariate, ComplexNormal, μ=deepcopy(msg_μ.dist.params[:μ]), Γ=deepcopy(msg_Γ.dist.params[:m]) + ForneyLab.unsafeCov(msg_μ.dist), C=deepcopy(msg_C.dist.params[:m]))"
   ]
  },
  {
   "cell_type": "code",
   "execution_count": 6,
   "metadata": {},
   "outputs": [
    {
     "data": {
      "text/plain": [
       "ruleSPComplexNormalIn1CNPP (generic function with 1 method)"
      ]
     },
     "execution_count": 6,
     "metadata": {},
     "output_type": "execute_result"
    }
   ],
   "source": [
    "ruleSPComplexNormalIn1CNPP(msg_out::Message{ComplexNormal, ForneyLab.Multivariate}, \n",
    "                           msg_μ::Nothing,\n",
    "                           msg_Γ::Message{PointMass},\n",
    "                           msg_C::Message{PointMass}) =\n",
    "    ruleSPComplexNormalOutNCPP(msg_mean, msg_out, msg_Γ, msg_C)"
   ]
  },
  {
   "cell_type": "code",
   "execution_count": 7,
   "metadata": {},
   "outputs": [
    {
     "data": {
      "text/plain": [
       "ruleVBComplexNormalOut (generic function with 1 method)"
      ]
     },
     "execution_count": 7,
     "metadata": {},
     "output_type": "execute_result"
    }
   ],
   "source": [
    "ruleVBComplexNormalOut(dist_out::Any,\n",
    "                       dist_μ::ProbabilityDistribution{ForneyLab.Multivariate},\n",
    "                       dist_Γ::ProbabilityDistribution{ForneyLab.MatrixVariate},\n",
    "                       dist_C::ProbabilityDistribution{ForneyLab.MatrixVariate}) =\n",
    "                       Message(ForneyLab.Multivariate, ComplexNormal, μ=ForneyLab.unsafeMean(dist_μ), Γ=ForneyLab.unsafeMean(dist_Γ), C=ForneyLab.unsafeMean(dist_C))"
   ]
  },
  {
   "cell_type": "code",
   "execution_count": 8,
   "metadata": {},
   "outputs": [
    {
     "data": {
      "text/plain": [
       "ruleVBComplexNormalIn1 (generic function with 1 method)"
      ]
     },
     "execution_count": 8,
     "metadata": {},
     "output_type": "execute_result"
    }
   ],
   "source": [
    "ruleVBComplexNormalIn1(dist_out::ProbabilityDistribution{ForneyLab.Multivariate},\n",
    "                       dist_μ::Any,\n",
    "                       dist_Γ::ProbabilityDistribution{ForneyLab.MatrixVariate},\n",
    "                       dist_C::ProbabilityDistribution{ForneyLab.MatrixVariate}) =\n",
    "                       Message(ForneyLab.Multivariate, ComplexNormal, μ=ForneyLab.unsafeMean(dist_out), Γ=ForneyLab.unsafeMean(dist_Γ), C=ForneyLab.unsafeMean(dist_C))"
   ]
  },
  {
   "cell_type": "code",
   "execution_count": 9,
   "metadata": {},
   "outputs": [],
   "source": [
    "@sumProductRule(:node_type     => ComplexNormal,\n",
    "                :outbound_type => Message{ComplexNormal},\n",
    "                :inbound_types => (Nothing, Message{PointMass}, Message{PointMass}, Message{PointMass}),\n",
    "                :name          => SPComplexNormalOutNPPP)\n",
    "\n",
    "@sumProductRule(:node_type     => ComplexNormal,\n",
    "                :outbound_type => Message{ComplexNormal},\n",
    "                :inbound_types => (Message{PointMass}, Nothing, Message{PointMass}, Message{PointMass}),\n",
    "                :name          => SPComplexNormalIn1PNPP)\n",
    "\n",
    "@sumProductRule(:node_type     => ComplexNormal,\n",
    "                :outbound_type => Message{ComplexNormal},\n",
    "                :inbound_types => (Nothing, Message{ComplexNormal}, Message{PointMass}, Message{PointMass}),\n",
    "                :name          => SPComplexNormalOutNCPP)\n",
    "\n",
    "@sumProductRule(:node_type     => ComplexNormal,\n",
    "                :outbound_type => Message{ComplexNormal},\n",
    "                :inbound_types => (Message{ComplexNormal}, Nothing, Message{PointMass}, Message{PointMass}),\n",
    "                :name          => SPComplexNormalIn1CNPP)\n",
    "\n",
    "@naiveVariationalRule(:node_type     => ComplexNormal,\n",
    "                      :outbound_type => Message{ComplexNormal},\n",
    "                      :inbound_types => (Nothing, ProbabilityDistribution, ProbabilityDistribution, ProbabilityDistribution),\n",
    "                      :name          => VBComplexNormalOut)\n",
    "\n",
    "@naiveVariationalRule(:node_type     => ComplexNormal,\n",
    "                      :outbound_type => Message{ComplexNormal},\n",
    "                      :inbound_types => (ProbabilityDistribution, Nothing, ProbabilityDistribution, ProbabilityDistribution),\n",
    "                      :name          => VBComplexNormalIn1)"
   ]
  },
  {
   "cell_type": "markdown",
   "metadata": {},
   "source": [
    "## Complex to multivariate distribution"
   ]
  },
  {
   "cell_type": "code",
   "execution_count": 10,
   "metadata": {},
   "outputs": [],
   "source": [
    "mutable struct Complex2Real <: ForneyLab.SoftFactor\n",
    "    id::Symbol\n",
    "    interfaces::Vector{Interface}\n",
    "    i::Dict{Symbol,Interface}\n",
    "\n",
    "    function Complex2Real(rx, cx; id=ForneyLab.generateId(Complex2Real))\n",
    "        \n",
    "        # NOTE: This node assumes independence amongst the real and imaginary part of the complex random variable.\n",
    "        \n",
    "        # ensure that the input arguments are random variables\n",
    "        @ensureVariables(rx, cx) \n",
    "        \n",
    "        # create new object\n",
    "        self = new(id, Array{Interface}(undef, 2), Dict{Symbol,Interface}())\n",
    "        \n",
    "        # add the node to the current factor graph\n",
    "        ForneyLab.addNode!(currentGraph(), self)\n",
    "        \n",
    "        # add argument variables to interfaces of node\n",
    "        self.i[:rx] = self.interfaces[1] = ForneyLab.associate!(Interface(self), rx)\n",
    "        self.i[:cx] = self.interfaces[2] = ForneyLab.associate!(Interface(self), cx)\n",
    "        \n",
    "        # return object\n",
    "        return self\n",
    "    end\n",
    "end"
   ]
  },
  {
   "cell_type": "code",
   "execution_count": 11,
   "metadata": {},
   "outputs": [
    {
     "data": {
      "text/plain": [
       "ruleSPComplex2RealOutNC (generic function with 1 method)"
      ]
     },
     "execution_count": 11,
     "metadata": {},
     "output_type": "execute_result"
    }
   ],
   "source": [
    "function ruleSPComplex2RealOutNC(marg_rx::Nothing, \n",
    "                                 marg_cx::Message{ComplexNormal})\n",
    "\n",
    "    # calculate mean of complex random variable\n",
    "    μ_cx = ForneyLab.unsafeMean(marg_cx.dist)\n",
    "    \n",
    "    # calculate covariance of complex random variable\n",
    "    Γ_cx = ForneyLab.unsafeCov(marg_cx.dist)\n",
    "    \n",
    "    # convert the mean vector μ_cx to the mean vector [real(μ_cx), imag(μ_cx)]\n",
    "    μ_rx = vcat(real.(μ_cx), imag.(μ_cx))\n",
    "    \n",
    "    # calculate precision matrix\n",
    "    w_rx = vcat(hcat(0.5*inv(real(Γ_cx)), zeros(size(Γ_cx))), hcat(zeros(size(Γ_cx)), 0.5*inv(real(Γ_cx))))\n",
    "        \n",
    "    # create sum-product message\n",
    "    return Message(ForneyLab.Multivariate, GaussianWeightedMeanPrecision, xi=w_rx*μ_rx, w=w_rx)\n",
    "\n",
    "\n",
    "end"
   ]
  },
  {
   "cell_type": "code",
   "execution_count": 12,
   "metadata": {},
   "outputs": [
    {
     "data": {
      "text/plain": [
       "ruleSPComplex2RealIn1GN (generic function with 1 method)"
      ]
     },
     "execution_count": 12,
     "metadata": {},
     "output_type": "execute_result"
    }
   ],
   "source": [
    "function ruleSPComplex2RealIn1GN(marg_rx::Message{GaussianWeightedMeanPrecision},\n",
    "                                 marg_cx::Nothing)\n",
    "\n",
    "    # calculate mean of random variable\n",
    "    μ_rx = ForneyLab.unsafeMean(marg_rx.dist)\n",
    "    \n",
    "    # calculate covariance of random variable\n",
    "    Σ_rx = ForneyLab.unsafeCov(marg_rx.dist)\n",
    "    \n",
    "    # calculate complex vector length\n",
    "    N = Int(round(length(μ_rx)/2))\n",
    "    \n",
    "    # calculate mean vector of complex random variable\n",
    "    μ_cx = μ_rx[1:N] + 1im*μ_rx[N+1:end]\n",
    "    \n",
    "    # calculate complex covariance matrix of complex random variable\n",
    "    V_xx = Σ_rx[1:N, 1:N]\n",
    "    V_yy = Σ_rx[N+1:end, N+1:end]\n",
    "    V_xy = Σ_rx[1:N, N+1:end]\n",
    "    V_yx = Σ_rx[N+1:end, 1:N]\n",
    "    Γ_cx = V_xx + V_yy .+ 1im*(V_yx-V_xy)\n",
    "    \n",
    "    # create sum-product message\n",
    "    return Message(ForneyLab.Multivariate, ComplexNormal, μ=μ_cx, Γ=Γ_cx, C=mat(0.0+0.0im))\n",
    "\n",
    "end"
   ]
  },
  {
   "cell_type": "code",
   "execution_count": 13,
   "metadata": {},
   "outputs": [],
   "source": [
    "@sumProductRule(:node_type     => Complex2Real,\n",
    "                :outbound_type => Message{GaussianWeightedMeanPrecision},\n",
    "                :inbound_types => (Nothing, Message{ComplexNormal}),\n",
    "                :name          => SPComplex2RealOutNC)\n",
    "\n",
    "@sumProductRule(:node_type     => Complex2Real,\n",
    "                :outbound_type => Message{ComplexNormal},\n",
    "                :inbound_types => (Message{GaussianWeightedMeanPrecision}, Nothing),\n",
    "                :name          => SPComplex2RealIn1GN)"
   ]
  },
  {
   "cell_type": "markdown",
   "metadata": {},
   "source": [
    "## Create factorgraph"
   ]
  },
  {
   "cell_type": "code",
   "execution_count": 14,
   "metadata": {},
   "outputs": [
    {
     "data": {
      "text/plain": [
       "5"
      ]
     },
     "execution_count": 14,
     "metadata": {},
     "output_type": "execute_result"
    }
   ],
   "source": [
    "nr_freqs = 4\n",
    "bufsize = 5 # at least nr_freqs+1"
   ]
  },
  {
   "cell_type": "code",
   "execution_count": 15,
   "metadata": {},
   "outputs": [
    {
     "data": {
      "text/html": [
       "<?xml version=\"1.0\" encoding=\"UTF-8\" standalone=\"no\"?>\r\n",
       "<!DOCTYPE svg PUBLIC \"-//W3C//DTD SVG 1.1//EN\"\r\n",
       " \"http://www.w3.org/Graphics/SVG/1.1/DTD/svg11.dtd\">\r\n",
       "<!-- Generated by graphviz version 2.38.0 (20140413.2041)\r\n",
       " -->\r\n",
       "<!-- Title: G Pages: 1 -->\r\n",
       "<svg width=\"650pt\" height=\"746pt\"\r\n",
       " viewBox=\"0.00 0.00 649.50 746.00\" xmlns=\"http://www.w3.org/2000/svg\" xmlns:xlink=\"http://www.w3.org/1999/xlink\">\r\n",
       "<g id=\"graph0\" class=\"graph\" transform=\"scale(1 1) rotate(0) translate(4 742)\">\r\n",
       "<title>G</title>\r\n",
       "<polygon fill=\"white\" stroke=\"none\" points=\"-4,4 -4,-742 645.5,-742 645.5,4 -4,4\"/>\r\n",
       "<!-- 7498040444417013554 -->\r\n",
       "<g id=\"node1\" class=\"node\"><title>7498040444417013554</title>\r\n",
       "<polygon fill=\"none\" stroke=\"black\" points=\"260,-288 180,-288 180,-216 260,-216 260,-288\"/>\r\n",
       "<text text-anchor=\"middle\" x=\"220\" y=\"-254.8\" font-family=\"Times New Roman,serif\" font-size=\"9.00\">ComplexNormal</text>\r\n",
       "<text text-anchor=\"middle\" x=\"220\" y=\"-244.8\" font-family=\"Times New Roman,serif\" font-size=\"9.00\">complexnormal_2</text>\r\n",
       "</g>\r\n",
       "<!-- 5403204221678084557 -->\r\n",
       "<g id=\"node3\" class=\"node\"><title>5403204221678084557</title>\r\n",
       "<polygon fill=\"lightgrey\" stroke=\"black\" points=\"77.5,-162 0.5,-162 0.5,-108 77.5,-108 77.5,-162\"/>\r\n",
       "<text text-anchor=\"middle\" x=\"39\" y=\"-132.8\" font-family=\"Times New Roman,serif\" font-size=\"9.00\">placeholder_Γ_p</text>\r\n",
       "</g>\r\n",
       "<!-- 7498040444417013554&#45;&#45;5403204221678084557 -->\r\n",
       "<g id=\"edge7\" class=\"edge\"><title>7498040444417013554&#45;&#45;5403204221678084557</title>\r\n",
       "<path fill=\"none\" stroke=\"black\" d=\"M179.83,-225.478C149.315,-206.089 107.605,-179.589 77.5066,-160.466\"/>\r\n",
       "<text text-anchor=\"start\" x=\"135\" y=\"-191.6\" font-family=\"Times New Roman,serif\" font-size=\"8.00\" fill=\"red\">Γ_p</text>\r\n",
       "<text text-anchor=\"start\" x=\"77.5066\" y=\"-163.066\" font-family=\"Times New Roman,serif\" font-size=\"8.00\">1 out </text>\r\n",
       "<text text-anchor=\"start\" x=\"165.83\" y=\"-228.078\" font-family=\"Times New Roman,serif\" font-size=\"8.00\">3 Γ </text>\r\n",
       "</g>\r\n",
       "<!-- 13504225561815707713 -->\r\n",
       "<g id=\"node5\" class=\"node\"><title>13504225561815707713</title>\r\n",
       "<polygon fill=\"lightgrey\" stroke=\"black\" points=\"247,-162 193,-162 193,-108 247,-108 247,-162\"/>\r\n",
       "<text text-anchor=\"middle\" x=\"220\" y=\"-132.8\" font-family=\"Times New Roman,serif\" font-size=\"9.00\">clamp_2</text>\r\n",
       "</g>\r\n",
       "<!-- 7498040444417013554&#45;&#45;13504225561815707713 -->\r\n",
       "<g id=\"edge8\" class=\"edge\"><title>7498040444417013554&#45;&#45;13504225561815707713</title>\r\n",
       "<path fill=\"none\" stroke=\"black\" d=\"M212.974,-215.983C211.901,-207.192 211.342,-197.766 212,-189 212.662,-180.184 213.934,-170.613 215.272,-162.061\"/>\r\n",
       "<text text-anchor=\"start\" x=\"212\" y=\"-191.6\" font-family=\"Times New Roman,serif\" font-size=\"8.00\" fill=\"red\">clamp_2</text>\r\n",
       "<text text-anchor=\"start\" x=\"194.272\" y=\"-164.661\" font-family=\"Times New Roman,serif\" font-size=\"8.00\">1 out </text>\r\n",
       "<text text-anchor=\"start\" x=\"197.974\" y=\"-209.583\" font-family=\"Times New Roman,serif\" font-size=\"8.00\">4 C </text>\r\n",
       "</g>\r\n",
       "<!-- 7141336450337034629 -->\r\n",
       "<g id=\"node7\" class=\"node\"><title>7141336450337034629</title>\r\n",
       "<polygon fill=\"none\" stroke=\"black\" points=\"442,-171 362,-171 362,-99 442,-99 442,-171\"/>\r\n",
       "<text text-anchor=\"middle\" x=\"402\" y=\"-137.8\" font-family=\"Times New Roman,serif\" font-size=\"9.00\">ComplexNormal</text>\r\n",
       "<text text-anchor=\"middle\" x=\"402\" y=\"-127.8\" font-family=\"Times New Roman,serif\" font-size=\"9.00\">complexnormal_1</text>\r\n",
       "</g>\r\n",
       "<!-- 7498040444417013554&#45;&#45;7141336450337034629 -->\r\n",
       "<g id=\"edge2\" class=\"edge\"><title>7498040444417013554&#45;&#45;7141336450337034629</title>\r\n",
       "<path fill=\"none\" stroke=\"black\" d=\"M260.392,-225.478C290.552,-206.42 331.588,-180.491 361.721,-161.451\"/>\r\n",
       "<text text-anchor=\"start\" x=\"317\" y=\"-191.6\" font-family=\"Times New Roman,serif\" font-size=\"8.00\" fill=\"red\">cx_min</text>\r\n",
       "<text text-anchor=\"start\" x=\"340.721\" y=\"-164.051\" font-family=\"Times New Roman,serif\" font-size=\"8.00\">1 out </text>\r\n",
       "<text text-anchor=\"start\" x=\"260.392\" y=\"-228.078\" font-family=\"Times New Roman,serif\" font-size=\"8.00\">2 μ </text>\r\n",
       "</g>\r\n",
       "<!-- 3854621389730438261 -->\r\n",
       "<g id=\"node2\" class=\"node\"><title>3854621389730438261</title>\r\n",
       "<polygon fill=\"none\" stroke=\"black\" points=\"278,-639 174,-639 174,-567 278,-567 278,-639\"/>\r\n",
       "<text text-anchor=\"middle\" x=\"226\" y=\"-605.8\" font-family=\"Times New Roman,serif\" font-size=\"9.00\">𝒩</text>\r\n",
       "<text text-anchor=\"middle\" x=\"226\" y=\"-595.8\" font-family=\"Times New Roman,serif\" font-size=\"9.00\">gaussianmeanvariance_1</text>\r\n",
       "</g>\r\n",
       "<!-- 15604684592252701902 -->\r\n",
       "<g id=\"node6\" class=\"node\"><title>15604684592252701902</title>\r\n",
       "<polygon fill=\"none\" stroke=\"black\" points=\"135,-522 59,-522 59,-450 135,-450 135,-522\"/>\r\n",
       "<text text-anchor=\"middle\" x=\"97\" y=\"-488.8\" font-family=\"Times New Roman,serif\" font-size=\"9.00\">×</text>\r\n",
       "<text text-anchor=\"middle\" x=\"97\" y=\"-478.8\" font-family=\"Times New Roman,serif\" font-size=\"9.00\">multiplication_1</text>\r\n",
       "</g>\r\n",
       "<!-- 3854621389730438261&#45;&#45;15604684592252701902 -->\r\n",
       "<g id=\"edge4\" class=\"edge\"><title>3854621389730438261&#45;&#45;15604684592252701902</title>\r\n",
       "<path fill=\"none\" stroke=\"black\" d=\"M186.595,-566.871C170.294,-552.34 151.46,-535.549 135.279,-521.124\"/>\r\n",
       "<text text-anchor=\"start\" x=\"166\" y=\"-542.6\" font-family=\"Times New Roman,serif\" font-size=\"8.00\" fill=\"red\">x</text>\r\n",
       "<text text-anchor=\"start\" x=\"135.279\" y=\"-523.724\" font-family=\"Times New Roman,serif\" font-size=\"8.00\">1 out </text>\r\n",
       "<text text-anchor=\"start\" x=\"170.595\" y=\"-560.471\" font-family=\"Times New Roman,serif\" font-size=\"8.00\">2 m </text>\r\n",
       "</g>\r\n",
       "<!-- 11192685303124879985 -->\r\n",
       "<g id=\"node10\" class=\"node\"><title>11192685303124879985</title>\r\n",
       "<polygon fill=\"lightgrey\" stroke=\"black\" points=\"327.5,-513 250.5,-513 250.5,-459 327.5,-459 327.5,-513\"/>\r\n",
       "<text text-anchor=\"middle\" x=\"289\" y=\"-483.8\" font-family=\"Times New Roman,serif\" font-size=\"9.00\">placeholder_Σ_y</text>\r\n",
       "</g>\r\n",
       "<!-- 3854621389730438261&#45;&#45;11192685303124879985 -->\r\n",
       "<g id=\"edge1\" class=\"edge\"><title>3854621389730438261&#45;&#45;11192685303124879985</title>\r\n",
       "<path fill=\"none\" stroke=\"black\" d=\"M245.244,-566.871C254.725,-549.565 265.961,-529.056 274.672,-513.154\"/>\r\n",
       "<text text-anchor=\"start\" x=\"260\" y=\"-542.6\" font-family=\"Times New Roman,serif\" font-size=\"8.00\" fill=\"red\">Σ_y</text>\r\n",
       "<text text-anchor=\"start\" x=\"253.672\" y=\"-515.754\" font-family=\"Times New Roman,serif\" font-size=\"8.00\">1 out </text>\r\n",
       "<text text-anchor=\"start\" x=\"231.244\" y=\"-560.471\" font-family=\"Times New Roman,serif\" font-size=\"8.00\">3 v </text>\r\n",
       "</g>\r\n",
       "<!-- 12231246883027425699 -->\r\n",
       "<g id=\"node4\" class=\"node\"><title>12231246883027425699</title>\r\n",
       "<polygon fill=\"lightgrey\" stroke=\"black\" points=\"68,-396 0,-396 0,-342 68,-342 68,-396\"/>\r\n",
       "<text text-anchor=\"middle\" x=\"34\" y=\"-366.8\" font-family=\"Times New Roman,serif\" font-size=\"9.00\">placeholder_C</text>\r\n",
       "</g>\r\n",
       "<!-- 15604684592252701902&#45;&#45;12231246883027425699 -->\r\n",
       "<g id=\"edge10\" class=\"edge\"><title>15604684592252701902&#45;&#45;12231246883027425699</title>\r\n",
       "<path fill=\"none\" stroke=\"black\" d=\"M58.7501,-455.876C51.7893,-448.811 45.3616,-440.744 41,-432 35.5366,-421.046 33.5325,-407.683 32.9982,-396.171\"/>\r\n",
       "<text text-anchor=\"start\" x=\"41\" y=\"-425.6\" font-family=\"Times New Roman,serif\" font-size=\"8.00\" fill=\"red\">C</text>\r\n",
       "<text text-anchor=\"start\" x=\"11.9982\" y=\"-398.771\" font-family=\"Times New Roman,serif\" font-size=\"8.00\">1 out </text>\r\n",
       "<text text-anchor=\"start\" x=\"45.7501\" y=\"-458.476\" font-family=\"Times New Roman,serif\" font-size=\"8.00\">3 a </text>\r\n",
       "</g>\r\n",
       "<!-- 10593207019160903453 -->\r\n",
       "<g id=\"node9\" class=\"node\"><title>10593207019160903453</title>\r\n",
       "<polygon fill=\"none\" stroke=\"black\" points=\"256.5,-405 183.5,-405 183.5,-333 256.5,-333 256.5,-405\"/>\r\n",
       "<text text-anchor=\"middle\" x=\"220\" y=\"-371.8\" font-family=\"Times New Roman,serif\" font-size=\"9.00\">Complex2Real</text>\r\n",
       "<text text-anchor=\"middle\" x=\"220\" y=\"-361.8\" font-family=\"Times New Roman,serif\" font-size=\"9.00\">complex2real_1</text>\r\n",
       "</g>\r\n",
       "<!-- 15604684592252701902&#45;&#45;10593207019160903453 -->\r\n",
       "<g id=\"edge6\" class=\"edge\"><title>15604684592252701902&#45;&#45;10593207019160903453</title>\r\n",
       "<path fill=\"none\" stroke=\"black\" d=\"M134.572,-449.871C149.974,-435.472 167.747,-418.854 183.08,-404.518\"/>\r\n",
       "<text text-anchor=\"start\" x=\"163\" y=\"-425.6\" font-family=\"Times New Roman,serif\" font-size=\"8.00\" fill=\"red\">rx</text>\r\n",
       "<text text-anchor=\"start\" x=\"166.08\" y=\"-407.118\" font-family=\"Times New Roman,serif\" font-size=\"8.00\">1 rx </text>\r\n",
       "<text text-anchor=\"start\" x=\"113.572\" y=\"-443.471\" font-family=\"Times New Roman,serif\" font-size=\"8.00\">2 in1 </text>\r\n",
       "</g>\r\n",
       "<!-- 9182833155472581643 -->\r\n",
       "<g id=\"node8\" class=\"node\"><title>9182833155472581643</title>\r\n",
       "<polygon fill=\"lightgrey\" stroke=\"black\" points=\"260,-54 162,-54 162,-0 260,-0 260,-54\"/>\r\n",
       "<text text-anchor=\"middle\" x=\"211\" y=\"-24.8\" font-family=\"Times New Roman,serif\" font-size=\"9.00\">placeholder_Γ_cx_min</text>\r\n",
       "</g>\r\n",
       "<!-- 7141336450337034629&#45;&#45;9182833155472581643 -->\r\n",
       "<g id=\"edge11\" class=\"edge\"><title>7141336450337034629&#45;&#45;9182833155472581643</title>\r\n",
       "<path fill=\"none\" stroke=\"black\" d=\"M361.96,-111.779C331.659,-94.9628 289.959,-71.8203 258.063,-54.1188\"/>\r\n",
       "<text text-anchor=\"start\" x=\"307\" y=\"-74.6\" font-family=\"Times New Roman,serif\" font-size=\"8.00\" fill=\"red\">Γ_cx_min</text>\r\n",
       "<text text-anchor=\"start\" x=\"237.063\" y=\"-56.7188\" font-family=\"Times New Roman,serif\" font-size=\"8.00\">1 out </text>\r\n",
       "<text text-anchor=\"start\" x=\"347.96\" y=\"-114.379\" font-family=\"Times New Roman,serif\" font-size=\"8.00\">3 Γ </text>\r\n",
       "</g>\r\n",
       "<!-- 461358610297478673 -->\r\n",
       "<g id=\"node11\" class=\"node\"><title>461358610297478673</title>\r\n",
       "<polygon fill=\"lightgrey\" stroke=\"black\" points=\"429,-54 375,-54 375,-0 429,-0 429,-54\"/>\r\n",
       "<text text-anchor=\"middle\" x=\"402\" y=\"-24.8\" font-family=\"Times New Roman,serif\" font-size=\"9.00\">clamp_1</text>\r\n",
       "</g>\r\n",
       "<!-- 7141336450337034629&#45;&#45;461358610297478673 -->\r\n",
       "<g id=\"edge5\" class=\"edge\"><title>7141336450337034629&#45;&#45;461358610297478673</title>\r\n",
       "<path fill=\"none\" stroke=\"black\" d=\"M402,-98.9979C402,-84.4044 402,-67.7451 402,-54.2331\"/>\r\n",
       "<text text-anchor=\"start\" x=\"402\" y=\"-74.6\" font-family=\"Times New Roman,serif\" font-size=\"8.00\" fill=\"red\">clamp_1</text>\r\n",
       "<text text-anchor=\"start\" x=\"381\" y=\"-56.8331\" font-family=\"Times New Roman,serif\" font-size=\"8.00\">1 out </text>\r\n",
       "<text text-anchor=\"start\" x=\"387\" y=\"-92.5979\" font-family=\"Times New Roman,serif\" font-size=\"8.00\">4 C </text>\r\n",
       "</g>\r\n",
       "<!-- 271829350624546042 -->\r\n",
       "<g id=\"node12\" class=\"node\"><title>271829350624546042</title>\r\n",
       "<polygon fill=\"lightgrey\" stroke=\"black\" points=\"641.5,-54 544.5,-54 544.5,-0 641.5,-0 641.5,-54\"/>\r\n",
       "<text text-anchor=\"middle\" x=\"593\" y=\"-24.8\" font-family=\"Times New Roman,serif\" font-size=\"9.00\">placeholder_μ_cx_min</text>\r\n",
       "</g>\r\n",
       "<!-- 7141336450337034629&#45;&#45;271829350624546042 -->\r\n",
       "<g id=\"edge12\" class=\"edge\"><title>7141336450337034629&#45;&#45;271829350624546042</title>\r\n",
       "<path fill=\"none\" stroke=\"black\" d=\"M442.04,-111.779C472.341,-94.9628 514.041,-71.8203 545.937,-54.1188\"/>\r\n",
       "<text text-anchor=\"start\" x=\"509\" y=\"-74.6\" font-family=\"Times New Roman,serif\" font-size=\"8.00\" fill=\"red\">μ_cx_min</text>\r\n",
       "<text text-anchor=\"start\" x=\"524.937\" y=\"-56.7188\" font-family=\"Times New Roman,serif\" font-size=\"8.00\">1 out </text>\r\n",
       "<text text-anchor=\"start\" x=\"442.04\" y=\"-114.379\" font-family=\"Times New Roman,serif\" font-size=\"8.00\">2 μ </text>\r\n",
       "</g>\r\n",
       "<!-- 10593207019160903453&#45;&#45;7498040444417013554 -->\r\n",
       "<g id=\"edge3\" class=\"edge\"><title>10593207019160903453&#45;&#45;7498040444417013554</title>\r\n",
       "<path fill=\"none\" stroke=\"black\" d=\"M220,-332.871C220,-318.736 220,-302.463 220,-288.31\"/>\r\n",
       "<text text-anchor=\"start\" x=\"220\" y=\"-308.6\" font-family=\"Times New Roman,serif\" font-size=\"8.00\" fill=\"red\">cx</text>\r\n",
       "<text text-anchor=\"start\" x=\"199\" y=\"-290.91\" font-family=\"Times New Roman,serif\" font-size=\"8.00\">1 out </text>\r\n",
       "<text text-anchor=\"start\" x=\"202\" y=\"-326.471\" font-family=\"Times New Roman,serif\" font-size=\"8.00\">2 cx </text>\r\n",
       "</g>\r\n",
       "<!-- 17763144138508651499 -->\r\n",
       "<g id=\"node13\" class=\"node\"><title>17763144138508651499</title>\r\n",
       "<polygon fill=\"lightgrey\" stroke=\"black\" points=\"260,-738 192,-738 192,-684 260,-684 260,-738\"/>\r\n",
       "<text text-anchor=\"middle\" x=\"226\" y=\"-708.8\" font-family=\"Times New Roman,serif\" font-size=\"9.00\">placeholder_y</text>\r\n",
       "</g>\r\n",
       "<!-- 17763144138508651499&#45;&#45;3854621389730438261 -->\r\n",
       "<g id=\"edge9\" class=\"edge\"><title>17763144138508651499&#45;&#45;3854621389730438261</title>\r\n",
       "<path fill=\"none\" stroke=\"black\" d=\"M226,-683.798C226,-670.31 226,-653.68 226,-639.099\"/>\r\n",
       "<text text-anchor=\"start\" x=\"226\" y=\"-659.6\" font-family=\"Times New Roman,serif\" font-size=\"8.00\" fill=\"red\">y</text>\r\n",
       "<text text-anchor=\"start\" x=\"205\" y=\"-641.699\" font-family=\"Times New Roman,serif\" font-size=\"8.00\">1 out </text>\r\n",
       "<text text-anchor=\"start\" x=\"205\" y=\"-677.398\" font-family=\"Times New Roman,serif\" font-size=\"8.00\">1 out </text>\r\n",
       "</g>\r\n",
       "</g>\r\n",
       "</svg>\r\n"
      ]
     },
     "metadata": {},
     "output_type": "display_data"
    }
   ],
   "source": [
    "# create factor graph\n",
    "fg = FactorGraph()\n",
    "\n",
    "@RV cx_min ~ ComplexNormal(placeholder(:μ_cx_min, dims=(nr_freqs,)), placeholder(:Γ_cx_min, dims=(nr_freqs, nr_freqs)), mat(0.0+0.0im))\n",
    "\n",
    "@RV cx ~ ComplexNormal(cx_min, placeholder(:Γ_p, dims=(nr_freqs, nr_freqs)), mat(0.0+0.0im))\n",
    "\n",
    "@RV rx ~ Complex2Real(cx)\n",
    "\n",
    "@RV x = placeholder(:C, dims=(bufsize, 2*nr_freqs))*rx\n",
    "\n",
    "@RV y ~ GaussianMeanVariance(x, placeholder(:Σ_y, dims=(bufsize, bufsize)))\n",
    "\n",
    "placeholder(y, :y, dims=(bufsize,))\n",
    "\n",
    "# draw factor graph\n",
    "ForneyLab.draw(fg)"
   ]
  },
  {
   "cell_type": "markdown",
   "metadata": {},
   "source": [
    "## Create algorithm"
   ]
  },
  {
   "cell_type": "code",
   "execution_count": 16,
   "metadata": {},
   "outputs": [
    {
     "name": "stdout",
     "output_type": "stream",
     "text": [
      "begin\n",
      "\n",
      "function step!(data::Dict, marginals::Dict=Dict(), messages::Vector{Message}=Array{Message}(undef, 7))\n",
      "\n",
      "messages[1] = ruleSPComplexNormalOutNPPP(nothing, Message(ForneyLab.Multivariate, PointMass, m=data[:μ_cx_min]), Message(MatrixVariate, PointMass, m=data[:Γ_cx_min]), Message(MatrixVariate, PointMass, m=mat(0.0 + 0.0im)))\n",
      "messages[2] = ruleSPComplexNormalOutNCPP(nothing, messages[1], Message(MatrixVariate, PointMass, m=data[:Γ_p]), Message(MatrixVariate, PointMass, m=mat(0.0 + 0.0im)))\n",
      "messages[3] = ruleSPComplex2RealOutNC(nothing, messages[2])\n",
      "messages[4] = ruleSPMultiplicationOutNGP(nothing, messages[3], Message(MatrixVariate, PointMass, m=data[:C]))\n",
      "messages[5] = ruleSPGaussianMeanVarianceMPNP(Message(ForneyLab.Multivariate, PointMass, m=data[:y]), nothing, Message(MatrixVariate, PointMass, m=data[:Σ_y]))\n",
      "messages[6] = ruleSPMultiplicationIn1GNP(messages[5], nothing, Message(MatrixVariate, PointMass, m=data[:C]))\n",
      "messages[7] = ruleSPComplex2RealIn1GN(messages[6], nothing)\n",
      "\n",
      "marginals[:cx] = messages[2].dist * messages[7].dist\n",
      "marginals[:rx] = messages[3].dist * messages[6].dist\n",
      "marginals[:x] = messages[4].dist * messages[5].dist\n",
      "\n",
      "return marginals\n",
      "\n",
      "end\n",
      "\n",
      "end # block\n"
     ]
    }
   ],
   "source": [
    "# generate algorithm\n",
    "algo = sumProductAlgorithm([cx, rx, x])\n",
    "source_code = compatibility_fix(algorithmSourceCode(algo))\n",
    "eval(Meta.parse(source_code))\n",
    "println(source_code)"
   ]
  },
  {
   "cell_type": "markdown",
   "metadata": {},
   "source": [
    "## Generate data"
   ]
  },
  {
   "cell_type": "code",
   "execution_count": 17,
   "metadata": {},
   "outputs": [
    {
     "data": {
      "image/png": "[encoded data removed]",
      "text/plain": [
       "Figure(PyObject <Figure size 1500x500 with 1 Axes>)"
      ]
     },
     "metadata": {},
     "output_type": "display_data"
    },
    {
     "data": {
      "text/plain": [
       "1-element Array{PyCall.PyObject,1}:\n",
       " PyObject <matplotlib.lines.Line2D object at 0x000000005D0B2D30>"
      ]
     },
     "execution_count": 17,
     "metadata": {},
     "output_type": "execute_result"
    }
   ],
   "source": [
    "f = [7, 15, 25, 40]\n",
    "fs = 100\n",
    "s = [1.0+5.0im,  -2.0-9.0im, 11.0-0.1im, 2.0-3.0im]\n",
    "N = 100\n",
    "t = collect(1:N)/fs\n",
    "\n",
    "x = squeeze(sum(real.(s).*cos.(2*pi*f*t') + imag.(s).*sin.(2*pi*f*t'), dims=1))\n",
    "plt.figure(figsize=(15,5))\n",
    "plt.plot(t,x)"
   ]
  },
  {
   "cell_type": "markdown",
   "metadata": {},
   "source": [
    "## Do inference\n"
   ]
  },
  {
   "cell_type": "code",
   "execution_count": 18,
   "metadata": {},
   "outputs": [],
   "source": [
    "μ_cx_min = zeros(nr_freqs) + 1im*zeros(nr_freqs)\n",
    "Γ_cx_min = 1e1*Ic(nr_freqs).+0im\n",
    "Γ_p = 1e-3*Ic(nr_freqs).+0im\n",
    "Σ_y = 1e-1*Ic(bufsize)\n",
    "μ_cx_mem = Array{Complex{Float64},2}(undef, N,length(f))\n",
    "\n",
    "marginals = Dict()\n",
    "\n",
    "for n = bufsize:N\n",
    "    \n",
    "    data = Dict(:μ_cx_min => μ_cx_min,\n",
    "                :Γ_cx_min => Γ_cx_min,\n",
    "                :Γ_p => Γ_p,\n",
    "                :Σ_y => Σ_y,\n",
    "                :C => vcat(cos.(2*pi*f*t[n-bufsize+1:n]'), sin.(2*pi*f*t[n-bufsize+1:n]'))', \n",
    "                :y => x[n-bufsize+1:n])\n",
    "\n",
    "    step!(data, marginals)\n",
    "    \n",
    "    μ_cx_min = ForneyLab.unsafeMean(marginals[:cx])\n",
    "    Γ_cx_min = ForneyLab.unsafeCov(marginals[:cx])\n",
    "    \n",
    "    μ_cx_mem[n,:] = μ_cx_min\n",
    "    \n",
    "end\n"
   ]
  },
  {
   "cell_type": "code",
   "execution_count": 19,
   "metadata": {},
   "outputs": [
    {
     "data": {
      "text/plain": [
       "4-element Array{Complex{Float64},1}:\n",
       "  1.0 + 5.0im\n",
       " -2.0 - 9.0im\n",
       " 11.0 - 0.1im\n",
       "  2.0 - 3.0im"
      ]
     },
     "execution_count": 19,
     "metadata": {},
     "output_type": "execute_result"
    }
   ],
   "source": [
    "s = [1.0+5.0im,  -2.0-9.0im, 11.0-0.1im, 2.0-3.0im]\n"
   ]
  },
  {
   "cell_type": "code",
   "execution_count": 20,
   "metadata": {},
   "outputs": [
    {
     "data": {
      "text/plain": [
       "4-element Array{Complex{Float64},1}:\n",
       " 0.9929498997005165 + 4.999511197292472im  \n",
       "  -2.00408389084159 - 8.999778774866659im  \n",
       " 11.003245374308651 - 0.10495003355590105im\n",
       "  2.001022828214882 - 2.999420760532658im  "
      ]
     },
     "execution_count": 20,
     "metadata": {},
     "output_type": "execute_result"
    }
   ],
   "source": [
    "μ_cx_min"
   ]
  },
  {
   "cell_type": "code",
   "execution_count": 21,
   "metadata": {},
   "outputs": [
    {
     "data": {
      "text/plain": [
       "4-element Array{Complex{Float64},1}:\n",
       " 0.9929498997005165 + 4.999511197292472im  \n",
       "  -2.00408389084159 - 8.999778774866659im  \n",
       " 11.003245374308651 - 0.10495003355590105im\n",
       "  2.001022828214882 - 2.999420760532658im  "
      ]
     },
     "execution_count": 21,
     "metadata": {},
     "output_type": "execute_result"
    }
   ],
   "source": [
    "ForneyLab.unsafeMean(marginals[:cx])"
   ]
  },
  {
   "cell_type": "code",
   "execution_count": 22,
   "metadata": {},
   "outputs": [
    {
     "data": {
      "text/plain": [
       "4×4 Array{Complex{Float64},2}:\n",
       "   0.0324319+8.83508e-7im   …  0.000224361+0.00054066im \n",
       "  0.00122572+0.00160557im      0.000613179+0.00035478im \n",
       " 0.000924869+0.000143832im      0.00106989-0.000259528im\n",
       " 0.000222691-0.000542325im       0.0139178+2.80824e-7im "
      ]
     },
     "execution_count": 22,
     "metadata": {},
     "output_type": "execute_result"
    }
   ],
   "source": [
    "ForneyLab.unsafeCov(marginals[:cx])"
   ]
  },
  {
   "cell_type": "code",
   "execution_count": 23,
   "metadata": {},
   "outputs": [
    {
     "data": {
      "text/plain": [
       "8-element Array{Float64,1}:\n",
       "  0.9958777109076953 \n",
       " -2.002910971091445  \n",
       " 11.003348378117156  \n",
       "  2.00282991536217   \n",
       "  4.999647570834371  \n",
       " -9.000859753749637  \n",
       " -0.10516680604448092\n",
       " -3.0006804238080416 "
      ]
     },
     "execution_count": 23,
     "metadata": {},
     "output_type": "execute_result"
    }
   ],
   "source": [
    "ForneyLab.unsafeMean(marginals[:rx])"
   ]
  },
  {
   "cell_type": "code",
   "execution_count": 24,
   "metadata": {},
   "outputs": [
    {
     "data": {
      "text/plain": [
       "8×8 Array{Float64,2}:\n",
       "  0.0363195   -0.00704275   -0.00233252   …   0.00389153    0.00137575 \n",
       " -0.00704275   0.0214648    -0.000477641      0.00385568    0.000667126\n",
       " -0.00233252  -0.000477641   0.0143632       -0.000304683   0.00101135 \n",
       " -0.00525196  -0.00209514    0.00109459      -0.0046751    -0.00076987 \n",
       "  0.010778    -0.00956266    0.00099971       0.00238939    0.00100971 \n",
       "  0.00929277   0.000586902  -0.00514784   …   0.000739702  -0.00105684 \n",
       "  0.00389153   0.00385568   -0.000304683      0.0176363     0.00220179 \n",
       "  0.00137575   0.000667126   0.00101135       0.00220179    0.0174898  "
      ]
     },
     "execution_count": 24,
     "metadata": {},
     "output_type": "execute_result"
    }
   ],
   "source": [
    "ForneyLab.unsafeCov(marginals[:rx])"
   ]
  }
 ],
 "metadata": {
  "kernelspec": {
   "display_name": "Julia 1.3.1",
   "language": "julia",
   "name": "julia-1.3"
  },
  "language_info": {
   "file_extension": ".jl",
   "mimetype": "application/julia",
   "name": "julia",
   "version": "1.3.1"
  }
 },
 "nbformat": 4,
 "nbformat_minor": 4
}
